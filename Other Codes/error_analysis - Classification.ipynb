{
  "nbformat": 4,
  "nbformat_minor": 0,
  "metadata": {
    "colab": {
      "name": "APM - Error Analysis.ipynb",
      "provenance": [],
      "toc_visible": true
    },
    "kernelspec": {
      "name": "python3",
      "display_name": "Python 3"
    },
    "accelerator": "GPU"
  },
  "cells": [
    {
      "cell_type": "markdown",
      "metadata": {
        "id": "t9VpeZhi6JZG",
        "colab_type": "text"
      },
      "source": [
        "## Colab Setup"
      ]
    },
    {
      "cell_type": "code",
      "metadata": {
        "id": "Ooui4hWj5W0Y",
        "colab_type": "code",
        "outputId": "450e8337-72be-4a19-de34-8a3a9af03529",
        "colab": {
          "base_uri": "https://localhost:8080/",
          "height": 127
        }
      },
      "source": [
        "# mounting and connecting with drive\n",
        "from google.colab import drive\n",
        "drive.mount('/content/drive')"
      ],
      "execution_count": 0,
      "outputs": [
        {
          "output_type": "stream",
          "text": [
            "Go to this URL in a browser: https://accounts.google.com/o/oauth2/auth?client_id=947318989803-6bn6qk8qdgf4n4g3pfee6491hc0brc4i.apps.googleusercontent.com&redirect_uri=urn%3aietf%3awg%3aoauth%3a2.0%3aoob&response_type=code&scope=email%20https%3a%2f%2fwww.googleapis.com%2fauth%2fdocs.test%20https%3a%2f%2fwww.googleapis.com%2fauth%2fdrive%20https%3a%2f%2fwww.googleapis.com%2fauth%2fdrive.photos.readonly%20https%3a%2f%2fwww.googleapis.com%2fauth%2fpeopleapi.readonly\n",
            "\n",
            "Enter your authorization code:\n",
            "··········\n",
            "Mounted at /content/drive\n"
          ],
          "name": "stdout"
        }
      ]
    },
    {
      "cell_type": "code",
      "metadata": {
        "id": "xaIjo8X-5kET",
        "colab_type": "code",
        "colab": {}
      },
      "source": [
        "# Setup colab\n",
        "!pip install -U -q PyDrive\n",
        "from pydrive.auth import GoogleAuth\n",
        "from pydrive.drive import GoogleDrive\n",
        "from google.colab import auth\n",
        "from oauth2client.client import GoogleCredentials\n",
        "# Authenticate and create the PyDrive client.\n",
        "auth.authenticate_user()\n",
        "gauth = GoogleAuth()\n",
        "gauth.credentials = GoogleCredentials.get_application_default()\n",
        "drive = GoogleDrive(gauth)"
      ],
      "execution_count": 0,
      "outputs": []
    },
    {
      "cell_type": "code",
      "metadata": {
        "id": "MVNmCSHu5ysk",
        "colab_type": "code",
        "outputId": "5f311d07-aab6-4ee3-d23d-b5750532e0a7",
        "colab": {
          "base_uri": "https://localhost:8080/",
          "height": 35
        }
      },
      "source": [
        "# importing train file from gdrive\n",
        "link = 'https://drive.google.com/open?id=1-EME5voRfDtwq6iS1Zm9VuQnhSTkK6Ee' # Paste the shareable link here\n",
        "\n",
        "fluff, id = link.split('=')\n",
        "print (id) # Verify that you have everything after '='\n",
        "\n",
        "downloaded = drive.CreateFile({'id':id}) \n",
        "downloaded.GetContentFile('train.csv') # file will be stored as train.csv in the colab directory"
      ],
      "execution_count": 0,
      "outputs": [
        {
          "output_type": "stream",
          "text": [
            "1-EME5voRfDtwq6iS1Zm9VuQnhSTkK6Ee\n"
          ],
          "name": "stdout"
        }
      ]
    },
    {
      "cell_type": "code",
      "metadata": {
        "id": "CDBN1YUc6NEt",
        "colab_type": "code",
        "outputId": "68d50113-f76c-4e38-d4cf-0ae9c625af7a",
        "colab": {
          "base_uri": "https://localhost:8080/",
          "height": 35
        }
      },
      "source": [
        "# importing labels file from gdrive\n",
        "link = 'https://drive.google.com/open?id=1i6AIWVIyA4ECPFgoWrwQwASShbuNMmkr' # Paste the shareable link here\n",
        "\n",
        "fluff, id = link.split('=')\n",
        "print (id) # Verify that you have everything after '='\n",
        "\n",
        "downloaded = drive.CreateFile({'id':id}) \n",
        "downloaded.GetContentFile('labels.json')"
      ],
      "execution_count": 0,
      "outputs": [
        {
          "output_type": "stream",
          "text": [
            "1i6AIWVIyA4ECPFgoWrwQwASShbuNMmkr\n"
          ],
          "name": "stdout"
        }
      ]
    },
    {
      "cell_type": "code",
      "metadata": {
        "id": "KfsrUmOG6O9g",
        "colab_type": "code",
        "outputId": "3e437027-9fbf-4673-935c-84c7f934f2ad",
        "colab": {
          "base_uri": "https://localhost:8080/",
          "height": 64
        }
      },
      "source": [
        "# importing libraries\n",
        "import os\n",
        "import gc\n",
        "import sys\n",
        "import math\n",
        "import json\n",
        "import glob\n",
        "import random\n",
        "from pathlib import Path\n",
        "\n",
        "import cv2\n",
        "import numpy as np\n",
        "import pandas as pd\n",
        "import matplotlib.pyplot as plt\n",
        "import seaborn as sns\n",
        "\n",
        "import itertools\n",
        "from tqdm import tqdm\n",
        "\n",
        "from imgaug import augmenters as iaa\n",
        "from sklearn.model_selection import StratifiedKFold, KFold\n",
        "\n",
        "import tensorflow as tf"
      ],
      "execution_count": 0,
      "outputs": [
        {
          "output_type": "display_data",
          "data": {
            "text/html": [
              "<p style=\"color: red;\">\n",
              "The default version of TensorFlow in Colab will soon switch to TensorFlow 2.x.<br>\n",
              "We recommend you <a href=\"https://www.tensorflow.org/guide/migrate\" target=\"_blank\">upgrade</a> now \n",
              "or ensure your notebook will continue to use TensorFlow 1.x via the <code>%tensorflow_version 1.x</code> magic:\n",
              "<a href=\"https://colab.research.google.com/notebooks/tensorflow_version.ipynb\" target=\"_blank\">more info</a>.</p>\n"
            ],
            "text/plain": [
              "<IPython.core.display.HTML object>"
            ]
          },
          "metadata": {
            "tags": []
          }
        }
      ]
    },
    {
      "cell_type": "code",
      "metadata": {
        "id": "8nPOer6P6SyH",
        "colab_type": "code",
        "colab": {}
      },
      "source": [
        "# setting up path directory\n",
        "TRAIN_IMAGE_DIR = Path('/content/drive/My Drive/Projects/iMaterialist/sample/')\n",
        "ROOT_DIR = Path('/content/')\n",
        "DATA_DIR = Path('/content/drive/My Drive/Projects/iMaterialist/')\n",
        "TEST_DIR = Path('/content/drive/My Drive/Medium_4K train/')"
      ],
      "execution_count": 0,
      "outputs": []
    },
    {
      "cell_type": "markdown",
      "metadata": {
        "id": "YJ5fOJ1Q7q45",
        "colab_type": "text"
      },
      "source": [
        "## Data Import"
      ]
    },
    {
      "cell_type": "code",
      "metadata": {
        "id": "KVkd1sd07sPU",
        "colab_type": "code",
        "outputId": "53589606-468c-4ba7-e1ac-220ac2460c93",
        "colab": {
          "base_uri": "https://localhost:8080/",
          "height": 203
        }
      },
      "source": [
        "# import train file \n",
        "import pandas as pd\n",
        "train = pd.read_csv('train.csv')\n",
        "train.head()"
      ],
      "execution_count": 0,
      "outputs": [
        {
          "output_type": "execute_result",
          "data": {
            "text/html": [
              "<div>\n",
              "<style scoped>\n",
              "    .dataframe tbody tr th:only-of-type {\n",
              "        vertical-align: middle;\n",
              "    }\n",
              "\n",
              "    .dataframe tbody tr th {\n",
              "        vertical-align: top;\n",
              "    }\n",
              "\n",
              "    .dataframe thead th {\n",
              "        text-align: right;\n",
              "    }\n",
              "</style>\n",
              "<table border=\"1\" class=\"dataframe\">\n",
              "  <thead>\n",
              "    <tr style=\"text-align: right;\">\n",
              "      <th></th>\n",
              "      <th>ImageId</th>\n",
              "      <th>EncodedPixels</th>\n",
              "      <th>Height</th>\n",
              "      <th>Width</th>\n",
              "      <th>ClassId</th>\n",
              "    </tr>\n",
              "  </thead>\n",
              "  <tbody>\n",
              "    <tr>\n",
              "      <th>0</th>\n",
              "      <td>00000663ed1ff0c4e0132b9b9ac53f6e.jpg</td>\n",
              "      <td>6068157 7 6073371 20 6078584 34 6083797 48 608...</td>\n",
              "      <td>5214</td>\n",
              "      <td>3676</td>\n",
              "      <td>6</td>\n",
              "    </tr>\n",
              "    <tr>\n",
              "      <th>1</th>\n",
              "      <td>00000663ed1ff0c4e0132b9b9ac53f6e.jpg</td>\n",
              "      <td>6323163 11 6328356 32 6333549 53 6338742 75 63...</td>\n",
              "      <td>5214</td>\n",
              "      <td>3676</td>\n",
              "      <td>0</td>\n",
              "    </tr>\n",
              "    <tr>\n",
              "      <th>2</th>\n",
              "      <td>00000663ed1ff0c4e0132b9b9ac53f6e.jpg</td>\n",
              "      <td>8521389 10 8526585 30 8531789 42 8537002 46 85...</td>\n",
              "      <td>5214</td>\n",
              "      <td>3676</td>\n",
              "      <td>28</td>\n",
              "    </tr>\n",
              "    <tr>\n",
              "      <th>3</th>\n",
              "      <td>00000663ed1ff0c4e0132b9b9ac53f6e.jpg</td>\n",
              "      <td>12903854 2 12909064 7 12914275 10 12919485 15 ...</td>\n",
              "      <td>5214</td>\n",
              "      <td>3676</td>\n",
              "      <td>31</td>\n",
              "    </tr>\n",
              "    <tr>\n",
              "      <th>4</th>\n",
              "      <td>00000663ed1ff0c4e0132b9b9ac53f6e.jpg</td>\n",
              "      <td>10837337 5 10842542 14 10847746 24 10852951 33...</td>\n",
              "      <td>5214</td>\n",
              "      <td>3676</td>\n",
              "      <td>32</td>\n",
              "    </tr>\n",
              "  </tbody>\n",
              "</table>\n",
              "</div>"
            ],
            "text/plain": [
              "                                ImageId  ... ClassId\n",
              "0  00000663ed1ff0c4e0132b9b9ac53f6e.jpg  ...       6\n",
              "1  00000663ed1ff0c4e0132b9b9ac53f6e.jpg  ...       0\n",
              "2  00000663ed1ff0c4e0132b9b9ac53f6e.jpg  ...      28\n",
              "3  00000663ed1ff0c4e0132b9b9ac53f6e.jpg  ...      31\n",
              "4  00000663ed1ff0c4e0132b9b9ac53f6e.jpg  ...      32\n",
              "\n",
              "[5 rows x 5 columns]"
            ]
          },
          "metadata": {
            "tags": []
          },
          "execution_count": 8
        }
      ]
    },
    {
      "cell_type": "code",
      "metadata": {
        "id": "IO4UrCYb7t3J",
        "colab_type": "code",
        "colab": {}
      },
      "source": [
        "# extracting image metadata fom json file \n",
        "with open(ROOT_DIR/\"labels.json\") as f:\n",
        "    label_descriptions = json.load(f)\n",
        "\n",
        "label_names = [x['name'] for x in label_descriptions['categories']]"
      ],
      "execution_count": 0,
      "outputs": []
    },
    {
      "cell_type": "code",
      "metadata": {
        "id": "dNnQOTZ57ylc",
        "colab_type": "code",
        "outputId": "768a38f2-16be-4e11-9432-065d8b1e67cd",
        "colab": {
          "base_uri": "https://localhost:8080/",
          "height": 221
        }
      },
      "source": [
        "segment_df = train\n",
        "segment_df['CategoryId'] = segment_df['ClassId'].str.split('_').str[0]\n",
        "\n",
        "print(\"Total segments: \", len(segment_df))\n",
        "segment_df.head()"
      ],
      "execution_count": 0,
      "outputs": [
        {
          "output_type": "stream",
          "text": [
            "Total segments:  333415\n"
          ],
          "name": "stdout"
        },
        {
          "output_type": "execute_result",
          "data": {
            "text/html": [
              "<div>\n",
              "<style scoped>\n",
              "    .dataframe tbody tr th:only-of-type {\n",
              "        vertical-align: middle;\n",
              "    }\n",
              "\n",
              "    .dataframe tbody tr th {\n",
              "        vertical-align: top;\n",
              "    }\n",
              "\n",
              "    .dataframe thead th {\n",
              "        text-align: right;\n",
              "    }\n",
              "</style>\n",
              "<table border=\"1\" class=\"dataframe\">\n",
              "  <thead>\n",
              "    <tr style=\"text-align: right;\">\n",
              "      <th></th>\n",
              "      <th>ImageId</th>\n",
              "      <th>EncodedPixels</th>\n",
              "      <th>Height</th>\n",
              "      <th>Width</th>\n",
              "      <th>ClassId</th>\n",
              "      <th>CategoryId</th>\n",
              "    </tr>\n",
              "  </thead>\n",
              "  <tbody>\n",
              "    <tr>\n",
              "      <th>0</th>\n",
              "      <td>00000663ed1ff0c4e0132b9b9ac53f6e.jpg</td>\n",
              "      <td>6068157 7 6073371 20 6078584 34 6083797 48 608...</td>\n",
              "      <td>5214</td>\n",
              "      <td>3676</td>\n",
              "      <td>6</td>\n",
              "      <td>6</td>\n",
              "    </tr>\n",
              "    <tr>\n",
              "      <th>1</th>\n",
              "      <td>00000663ed1ff0c4e0132b9b9ac53f6e.jpg</td>\n",
              "      <td>6323163 11 6328356 32 6333549 53 6338742 75 63...</td>\n",
              "      <td>5214</td>\n",
              "      <td>3676</td>\n",
              "      <td>0</td>\n",
              "      <td>0</td>\n",
              "    </tr>\n",
              "    <tr>\n",
              "      <th>2</th>\n",
              "      <td>00000663ed1ff0c4e0132b9b9ac53f6e.jpg</td>\n",
              "      <td>8521389 10 8526585 30 8531789 42 8537002 46 85...</td>\n",
              "      <td>5214</td>\n",
              "      <td>3676</td>\n",
              "      <td>28</td>\n",
              "      <td>28</td>\n",
              "    </tr>\n",
              "    <tr>\n",
              "      <th>3</th>\n",
              "      <td>00000663ed1ff0c4e0132b9b9ac53f6e.jpg</td>\n",
              "      <td>12903854 2 12909064 7 12914275 10 12919485 15 ...</td>\n",
              "      <td>5214</td>\n",
              "      <td>3676</td>\n",
              "      <td>31</td>\n",
              "      <td>31</td>\n",
              "    </tr>\n",
              "    <tr>\n",
              "      <th>4</th>\n",
              "      <td>00000663ed1ff0c4e0132b9b9ac53f6e.jpg</td>\n",
              "      <td>10837337 5 10842542 14 10847746 24 10852951 33...</td>\n",
              "      <td>5214</td>\n",
              "      <td>3676</td>\n",
              "      <td>32</td>\n",
              "      <td>32</td>\n",
              "    </tr>\n",
              "  </tbody>\n",
              "</table>\n",
              "</div>"
            ],
            "text/plain": [
              "                                ImageId  ... CategoryId\n",
              "0  00000663ed1ff0c4e0132b9b9ac53f6e.jpg  ...          6\n",
              "1  00000663ed1ff0c4e0132b9b9ac53f6e.jpg  ...          0\n",
              "2  00000663ed1ff0c4e0132b9b9ac53f6e.jpg  ...         28\n",
              "3  00000663ed1ff0c4e0132b9b9ac53f6e.jpg  ...         31\n",
              "4  00000663ed1ff0c4e0132b9b9ac53f6e.jpg  ...         32\n",
              "\n",
              "[5 rows x 6 columns]"
            ]
          },
          "metadata": {
            "tags": []
          },
          "execution_count": 10
        }
      ]
    },
    {
      "cell_type": "code",
      "metadata": {
        "id": "TllFn-hf70t-",
        "colab_type": "code",
        "outputId": "9e62732c-f230-445d-bc65-92db8070119f",
        "colab": {
          "base_uri": "https://localhost:8080/",
          "height": 252
        }
      },
      "source": [
        "# Rows with the same image are grouped together because the subsequent operations perform at an image level\n",
        "image_df = segment_df.groupby('ImageId')['EncodedPixels', 'CategoryId'].agg(lambda x: list(x))\n",
        "size_df = segment_df.groupby('ImageId')['Height', 'Width'].mean()\n",
        "image_df = image_df.join(size_df, on='ImageId')\n",
        "\n",
        "print(\"Total images: \", len(image_df))\n",
        "image_df.head()"
      ],
      "execution_count": 0,
      "outputs": [
        {
          "output_type": "stream",
          "text": [
            "Total images:  45625\n"
          ],
          "name": "stdout"
        },
        {
          "output_type": "execute_result",
          "data": {
            "text/html": [
              "<div>\n",
              "<style scoped>\n",
              "    .dataframe tbody tr th:only-of-type {\n",
              "        vertical-align: middle;\n",
              "    }\n",
              "\n",
              "    .dataframe tbody tr th {\n",
              "        vertical-align: top;\n",
              "    }\n",
              "\n",
              "    .dataframe thead th {\n",
              "        text-align: right;\n",
              "    }\n",
              "</style>\n",
              "<table border=\"1\" class=\"dataframe\">\n",
              "  <thead>\n",
              "    <tr style=\"text-align: right;\">\n",
              "      <th></th>\n",
              "      <th>EncodedPixels</th>\n",
              "      <th>CategoryId</th>\n",
              "      <th>Height</th>\n",
              "      <th>Width</th>\n",
              "    </tr>\n",
              "    <tr>\n",
              "      <th>ImageId</th>\n",
              "      <th></th>\n",
              "      <th></th>\n",
              "      <th></th>\n",
              "      <th></th>\n",
              "    </tr>\n",
              "  </thead>\n",
              "  <tbody>\n",
              "    <tr>\n",
              "      <th>00000663ed1ff0c4e0132b9b9ac53f6e.jpg</th>\n",
              "      <td>[6068157 7 6073371 20 6078584 34 6083797 48 60...</td>\n",
              "      <td>[6, 0, 28, 31, 32, 32, 31, 29, 4]</td>\n",
              "      <td>5214</td>\n",
              "      <td>3676</td>\n",
              "    </tr>\n",
              "    <tr>\n",
              "      <th>0000fe7c9191fba733c8a69cfaf962b7.jpg</th>\n",
              "      <td>[2201176 1 2203623 3 2206071 5 2208518 8 22109...</td>\n",
              "      <td>[33, 1]</td>\n",
              "      <td>2448</td>\n",
              "      <td>2448</td>\n",
              "    </tr>\n",
              "    <tr>\n",
              "      <th>0002ec21ddb8477e98b2cbb87ea2e269.jpg</th>\n",
              "      <td>[2673735 2 2676734 8 2679734 13 2682733 19 268...</td>\n",
              "      <td>[33, 10, 23, 23]</td>\n",
              "      <td>3000</td>\n",
              "      <td>1997</td>\n",
              "    </tr>\n",
              "    <tr>\n",
              "      <th>0002f5a0ebc162ecfb73e2c91e3b8f62.jpg</th>\n",
              "      <td>[435 132 1002 132 1569 132 2136 132 2703 132 3...</td>\n",
              "      <td>[10, 33, 15]</td>\n",
              "      <td>567</td>\n",
              "      <td>400</td>\n",
              "    </tr>\n",
              "    <tr>\n",
              "      <th>0004467156e47b0eb6de4aa6479cbd15.jpg</th>\n",
              "      <td>[132663 8 133396 25 134130 41 134868 53 135611...</td>\n",
              "      <td>[10, 33, 31, 31, 15]</td>\n",
              "      <td>750</td>\n",
              "      <td>500</td>\n",
              "    </tr>\n",
              "  </tbody>\n",
              "</table>\n",
              "</div>"
            ],
            "text/plain": [
              "                                                                          EncodedPixels  ... Width\n",
              "ImageId                                                                                  ...      \n",
              "00000663ed1ff0c4e0132b9b9ac53f6e.jpg  [6068157 7 6073371 20 6078584 34 6083797 48 60...  ...  3676\n",
              "0000fe7c9191fba733c8a69cfaf962b7.jpg  [2201176 1 2203623 3 2206071 5 2208518 8 22109...  ...  2448\n",
              "0002ec21ddb8477e98b2cbb87ea2e269.jpg  [2673735 2 2676734 8 2679734 13 2682733 19 268...  ...  1997\n",
              "0002f5a0ebc162ecfb73e2c91e3b8f62.jpg  [435 132 1002 132 1569 132 2136 132 2703 132 3...  ...   400\n",
              "0004467156e47b0eb6de4aa6479cbd15.jpg  [132663 8 133396 25 134130 41 134868 53 135611...  ...   500\n",
              "\n",
              "[5 rows x 4 columns]"
            ]
          },
          "metadata": {
            "tags": []
          },
          "execution_count": 11
        }
      ]
    },
    {
      "cell_type": "code",
      "metadata": {
        "id": "6j_WFzzw8UmU",
        "colab_type": "code",
        "colab": {}
      },
      "source": [
        "# We will test on 4k images, subsetting data for that\n",
        "\n",
        "images = os.listdir(TEST_DIR)\n",
        "uploaded_images = pd.DataFrame(images, columns = ['image_name'])\n",
        "image_df = image_df[image_df.index.isin(uploaded_images['image_name'])]"
      ],
      "execution_count": 0,
      "outputs": []
    },
    {
      "cell_type": "markdown",
      "metadata": {
        "id": "GRWnFj6_-Thu",
        "colab_type": "text"
      },
      "source": [
        "## Setting up MASK RCNN"
      ]
    },
    {
      "cell_type": "code",
      "metadata": {
        "id": "doCVq7Uk-WWg",
        "colab_type": "code",
        "outputId": "1388c677-16c8-484a-a9fc-b866a7a94aad",
        "colab": {
          "base_uri": "https://localhost:8080/",
          "height": 143
        }
      },
      "source": [
        "# import matterport Mask-RCNN implementation\n",
        "!git clone https://www.github.com/matterport/Mask_RCNN.git;\n",
        "os.chdir('Mask_RCNN')\n",
        "\n",
        "!rm -rf .git # to prevent an error when the kernel is committed\n",
        "!rm -rf images assets # to prevent displaying images at the bottom of a kernel\n",
        "\n",
        "sys.path.append(ROOT_DIR/'Mask_RCNN')\n",
        "from mrcnn.config import Config\n",
        "from mrcnn import utils\n",
        "import mrcnn.model as modellib\n",
        "from mrcnn import visualize\n",
        "from mrcnn.model import log"
      ],
      "execution_count": 0,
      "outputs": [
        {
          "output_type": "stream",
          "text": [
            "Cloning into 'Mask_RCNN'...\n",
            "warning: redirecting to https://github.com/matterport/Mask_RCNN.git/\n",
            "remote: Enumerating objects: 956, done.\u001b[K\n",
            "remote: Total 956 (delta 0), reused 0 (delta 0), pack-reused 956\u001b[K\n",
            "Receiving objects: 100% (956/956), 111.81 MiB | 11.33 MiB/s, done.\n",
            "Resolving deltas: 100% (570/570), done.\n"
          ],
          "name": "stdout"
        },
        {
          "output_type": "stream",
          "text": [
            "Using TensorFlow backend.\n"
          ],
          "name": "stderr"
        }
      ]
    },
    {
      "cell_type": "code",
      "metadata": {
        "id": "KAfmTVRe-W8T",
        "colab_type": "code",
        "colab": {}
      },
      "source": [
        "# Already have trained weights, we will continue on those weights\n",
        "pre_trained_weight = '/content/drive/My Drive/Projects/iMaterialist/trained weights/weights_0.08133.h5'"
      ],
      "execution_count": 0,
      "outputs": []
    },
    {
      "cell_type": "code",
      "metadata": {
        "id": "YdfWJl2V_fp1",
        "colab_type": "code",
        "colab": {}
      },
      "source": [
        "# Set configuration\n",
        "\n",
        "NUM_CATS = 46  # classification ignoring attributes (only categories)\n",
        "IMAGE_SIZE = 512 # the image size is set to 512, which is the same as the size of submission masks\n",
        "\n",
        "class FashionConfig(Config):\n",
        "    NAME = \"fashion\"\n",
        "    NUM_CLASSES = NUM_CATS + 1 # +1 for the background class\n",
        "    \n",
        "    GPU_COUNT = 1\n",
        "    IMAGES_PER_GPU = 4 \n",
        "    \n",
        "    BACKBONE = 'resnet50'\n",
        "    \n",
        "    IMAGE_MIN_DIM = IMAGE_SIZE\n",
        "    IMAGE_MAX_DIM = IMAGE_SIZE    \n",
        "    IMAGE_RESIZE_MODE = \"none\"\n",
        "    \n",
        "    RPN_ANCHOR_SCALES = (16, 32, 64, 128, 256)\n",
        "\n",
        "    # STEPS_PER_EPOCH should be the number of instances divided by (GPU_COUNT*IMAGES_PER_GPU), and so should VALIDATION_STEPS;\n",
        "    STEPS_PER_EPOCH = 50\n",
        "    VALIDATION_STEPS = 10\n",
        "    \n",
        "config = FashionConfig()"
      ],
      "execution_count": 0,
      "outputs": []
    },
    {
      "cell_type": "code",
      "metadata": {
        "id": "agfe4lbU-a9C",
        "colab_type": "code",
        "colab": {}
      },
      "source": [
        "# custom function to resize an image, we are resizing image to 512X512; suitable for submission\n",
        "def resize_image(image_path):\n",
        "    img = cv2.imread(image_path)\n",
        "    img = cv2.cvtColor(img, cv2.COLOR_BGR2RGB)\n",
        "    img = cv2.resize(img, (IMAGE_SIZE, IMAGE_SIZE), interpolation=cv2.INTER_AREA)  \n",
        "    return img"
      ],
      "execution_count": 0,
      "outputs": []
    },
    {
      "cell_type": "code",
      "metadata": {
        "id": "aLioUoyP-eaD",
        "colab_type": "code",
        "colab": {}
      },
      "source": [
        "#  MaskRCNN Class\n",
        "\n",
        "class FashionDataset(utils.Dataset):\n",
        "\n",
        "    def __init__(self, df):\n",
        "        super().__init__(self)\n",
        "        \n",
        "        # Add classes\n",
        "        for i, name in enumerate(label_names):\n",
        "            self.add_class(\"fashion\", i+1, name)\n",
        "        \n",
        "        # Add images \n",
        "        for i, row in df.iterrows():\n",
        "            self.add_image(\"fashion\", \n",
        "                           image_id=row.name, \n",
        "                           path=str(TRAIN_IMAGE_DIR/row.name), \n",
        "                           labels=row['CategoryId'],\n",
        "                           annotations=row['EncodedPixels'], \n",
        "                           height=row['Height'], width=row['Width'])\n",
        "\n",
        "    def image_reference(self, image_id):\n",
        "        info = self.image_info[image_id]\n",
        "        return info['path'], [label_names[int(x)] for x in info['labels']]\n",
        "    \n",
        "    def load_image(self, image_id):\n",
        "        return resize_image(self.image_info[image_id]['path'])\n",
        "\n",
        "    def load_mask(self, image_id):\n",
        "        info = self.image_info[image_id]\n",
        "                \n",
        "        mask = np.zeros((IMAGE_SIZE, IMAGE_SIZE, len(info['annotations'])), dtype=np.uint8)\n",
        "        labels = []\n",
        "        \n",
        "        for m, (annotation, label) in enumerate(zip(info['annotations'], info['labels'])):\n",
        "            sub_mask = np.full(info['height']*info['width'], 0, dtype=np.uint8)\n",
        "            annotation = [int(x) for x in annotation.split(' ')]\n",
        "            \n",
        "            for i, start_pixel in enumerate(annotation[::2]):\n",
        "                sub_mask[start_pixel: start_pixel+annotation[2*i+1]] = 1\n",
        "\n",
        "            sub_mask = sub_mask.reshape((info['height'], info['width']), order='F')\n",
        "            sub_mask = cv2.resize(sub_mask, (IMAGE_SIZE, IMAGE_SIZE), interpolation=cv2.INTER_NEAREST)\n",
        "            \n",
        "            mask[:, :, m] = sub_mask\n",
        "            labels.append(int(label)+1)\n",
        "            \n",
        "        return mask, np.array(labels)"
      ],
      "execution_count": 0,
      "outputs": []
    },
    {
      "cell_type": "markdown",
      "metadata": {
        "id": "Nm4eb9iZ-omy",
        "colab_type": "text"
      },
      "source": [
        "## Prediction using our optimized weight"
      ]
    },
    {
      "cell_type": "code",
      "metadata": {
        "id": "Aw20IOPq-ju_",
        "colab_type": "code",
        "outputId": "ebbb0794-529a-4956-eab3-21acff244597",
        "colab": {
          "base_uri": "https://localhost:8080/",
          "height": 739
        }
      },
      "source": [
        "# Prediction, this cell defines InferenceConfig and loads the best trained model.\n",
        "\n",
        "class InferenceConfig(FashionConfig):\n",
        "    GPU_COUNT = 1\n",
        "    IMAGES_PER_GPU = 1\n",
        "\n",
        "inference_config = InferenceConfig()\n",
        "\n",
        "model = modellib.MaskRCNN(mode='inference', config=inference_config,model_dir=ROOT_DIR)\n",
        "\n",
        "model.load_weights(pre_trained_weight, by_name=True)"
      ],
      "execution_count": 0,
      "outputs": [
        {
          "output_type": "stream",
          "text": [
            "WARNING:tensorflow:From /usr/local/lib/python3.6/dist-packages/keras/backend/tensorflow_backend.py:541: The name tf.placeholder is deprecated. Please use tf.compat.v1.placeholder instead.\n",
            "\n",
            "WARNING:tensorflow:From /usr/local/lib/python3.6/dist-packages/keras/backend/tensorflow_backend.py:66: The name tf.get_default_graph is deprecated. Please use tf.compat.v1.get_default_graph instead.\n",
            "\n",
            "WARNING:tensorflow:From /usr/local/lib/python3.6/dist-packages/keras/backend/tensorflow_backend.py:4432: The name tf.random_uniform is deprecated. Please use tf.random.uniform instead.\n",
            "\n",
            "WARNING:tensorflow:From /usr/local/lib/python3.6/dist-packages/keras/backend/tensorflow_backend.py:2139: The name tf.nn.fused_batch_norm is deprecated. Please use tf.compat.v1.nn.fused_batch_norm instead.\n",
            "\n",
            "WARNING:tensorflow:From /usr/local/lib/python3.6/dist-packages/keras/backend/tensorflow_backend.py:4267: The name tf.nn.max_pool is deprecated. Please use tf.nn.max_pool2d instead.\n",
            "\n",
            "WARNING:tensorflow:From /usr/local/lib/python3.6/dist-packages/keras/backend/tensorflow_backend.py:2239: The name tf.image.resize_nearest_neighbor is deprecated. Please use tf.compat.v1.image.resize_nearest_neighbor instead.\n",
            "\n",
            "WARNING:tensorflow:From /content/Mask_RCNN/mrcnn/model.py:341: The name tf.log is deprecated. Please use tf.math.log instead.\n",
            "\n",
            "WARNING:tensorflow:From /content/Mask_RCNN/mrcnn/model.py:399: where (from tensorflow.python.ops.array_ops) is deprecated and will be removed in a future version.\n",
            "Instructions for updating:\n",
            "Use tf.where in 2.0, which has the same broadcast rule as np.where\n",
            "WARNING:tensorflow:From /content/Mask_RCNN/mrcnn/model.py:423: calling crop_and_resize_v1 (from tensorflow.python.ops.image_ops_impl) with box_ind is deprecated and will be removed in a future version.\n",
            "Instructions for updating:\n",
            "box_ind is deprecated, use box_indices instead\n",
            "WARNING:tensorflow:From /content/Mask_RCNN/mrcnn/model.py:720: The name tf.sets.set_intersection is deprecated. Please use tf.sets.intersection instead.\n",
            "\n",
            "WARNING:tensorflow:From /content/Mask_RCNN/mrcnn/model.py:722: The name tf.sparse_tensor_to_dense is deprecated. Please use tf.sparse.to_dense instead.\n",
            "\n",
            "WARNING:tensorflow:From /content/Mask_RCNN/mrcnn/model.py:772: to_float (from tensorflow.python.ops.math_ops) is deprecated and will be removed in a future version.\n",
            "Instructions for updating:\n",
            "Use `tf.cast` instead.\n",
            "WARNING:tensorflow:From /usr/local/lib/python3.6/dist-packages/keras/backend/tensorflow_backend.py:190: The name tf.get_default_session is deprecated. Please use tf.compat.v1.get_default_session instead.\n",
            "\n",
            "WARNING:tensorflow:From /usr/local/lib/python3.6/dist-packages/keras/backend/tensorflow_backend.py:197: The name tf.ConfigProto is deprecated. Please use tf.compat.v1.ConfigProto instead.\n",
            "\n",
            "WARNING:tensorflow:From /usr/local/lib/python3.6/dist-packages/keras/backend/tensorflow_backend.py:203: The name tf.Session is deprecated. Please use tf.compat.v1.Session instead.\n",
            "\n",
            "WARNING:tensorflow:From /usr/local/lib/python3.6/dist-packages/keras/backend/tensorflow_backend.py:207: The name tf.global_variables is deprecated. Please use tf.compat.v1.global_variables instead.\n",
            "\n",
            "WARNING:tensorflow:From /usr/local/lib/python3.6/dist-packages/keras/backend/tensorflow_backend.py:216: The name tf.is_variable_initialized is deprecated. Please use tf.compat.v1.is_variable_initialized instead.\n",
            "\n",
            "WARNING:tensorflow:From /usr/local/lib/python3.6/dist-packages/keras/backend/tensorflow_backend.py:223: The name tf.variables_initializer is deprecated. Please use tf.compat.v1.variables_initializer instead.\n",
            "\n"
          ],
          "name": "stdout"
        }
      ]
    },
    {
      "cell_type": "code",
      "metadata": {
        "id": "XlJcK9OH-s5d",
        "colab_type": "code",
        "colab": {}
      },
      "source": [
        "# refine overlapped mask\n",
        "def refine_masks(masks, rois):\n",
        "    areas = np.sum(masks.reshape(-1, masks.shape[-1]), axis=0)\n",
        "    mask_index = np.argsort(areas)\n",
        "    union_mask = np.zeros(masks.shape[:-1], dtype=bool)\n",
        "    for m in mask_index:\n",
        "        masks[:, :, m] = np.logical_and(masks[:, :, m], np.logical_not(union_mask))\n",
        "        union_mask = np.logical_or(masks[:, :, m], union_mask)\n",
        "    for m in range(masks.shape[-1]):\n",
        "        mask_pos = np.where(masks[:, :, m]==True)\n",
        "        if np.any(mask_pos):\n",
        "            y1, x1 = np.min(mask_pos, axis=1)\n",
        "            y2, x2 = np.max(mask_pos, axis=1)\n",
        "            rois[m, :] = [y1, x1, y2, x2]\n",
        "    return masks, rois"
      ],
      "execution_count": 0,
      "outputs": []
    },
    {
      "cell_type": "code",
      "metadata": {
        "id": "zJVm61lrA8fb",
        "colab_type": "code",
        "colab": {}
      },
      "source": [
        "pred_file = image_df.reset_index().iloc[:,:3]"
      ],
      "execution_count": 0,
      "outputs": []
    },
    {
      "cell_type": "code",
      "metadata": {
        "id": "r0bu542EFR6Z",
        "colab_type": "code",
        "colab": {}
      },
      "source": [
        "# Convert data to run-length encoding\n",
        "def to_rle(bits):\n",
        "    rle = []\n",
        "    pos = 0\n",
        "    for bit, group in itertools.groupby(bits):\n",
        "        group_list = list(group)\n",
        "        if bit:\n",
        "            rle.extend([pos, sum(group_list)])\n",
        "        pos += len(group_list)\n",
        "    return rle"
      ],
      "execution_count": 0,
      "outputs": []
    },
    {
      "cell_type": "code",
      "metadata": {
        "id": "UliquKxrFfHr",
        "colab_type": "code",
        "outputId": "133e68e2-2371-4318-96b0-22f9b4a9fbb6",
        "colab": {
          "base_uri": "https://localhost:8080/",
          "height": 71
        }
      },
      "source": [
        "# Run prediction on test\n",
        "%%time\n",
        "test_path = TEST_DIR\n",
        "sub_list = []\n",
        "missing_count = 0\n",
        "for i, row in tqdm(pred_file.iterrows(), total=len(pred_file)):\n",
        "    image = resize_image(str(test_path/row['ImageId']))\n",
        "    result = model.detect([image])[0]\n",
        "    if result['masks'].size > 0:\n",
        "        masks, _ = refine_masks(result['masks'], result['rois'])\n",
        "        for m in range(masks.shape[-1]):\n",
        "            mask = masks[:, :, m].ravel(order='F')\n",
        "            rle = to_rle(mask)\n",
        "            label = result['class_ids'][m] - 1\n",
        "            sub_list.append([row['ImageId'], ' '.join(list(map(str, rle))), label])\n",
        "    else:\n",
        "        # The system does not allow missing ids, this is an easy way to fill them \n",
        "        sub_list.append([row['ImageId'], '1 1', 23])\n",
        "        missing_count += 1"
      ],
      "execution_count": 0,
      "outputs": [
        {
          "output_type": "stream",
          "text": [
            "100%|██████████| 4103/4103 [1:37:36<00:00,  1.53s/it]"
          ],
          "name": "stderr"
        },
        {
          "output_type": "stream",
          "text": [
            "CPU times: user 34min 16s, sys: 9min 41s, total: 43min 57s\n",
            "Wall time: 1h 37min 36s\n"
          ],
          "name": "stdout"
        },
        {
          "output_type": "stream",
          "text": [
            "\n"
          ],
          "name": "stderr"
        }
      ]
    },
    {
      "cell_type": "code",
      "metadata": {
        "id": "6TPreHcgF2HL",
        "colab_type": "code",
        "outputId": "fa9b5e45-318e-4d2e-9fcf-905e7621ed6f",
        "colab": {
          "base_uri": "https://localhost:8080/",
          "height": 239
        }
      },
      "source": [
        "# save predicted data in submission file to upload in Kaggle\n",
        "pred_df = pd.DataFrame(sub_list, columns=pred_file.columns.values)\n",
        "print(\"Total image results: \", pred_df['ImageId'].nunique())\n",
        "print(\"Missing Images: \", missing_count)\n",
        "\n",
        "pred_df.head()"
      ],
      "execution_count": 0,
      "outputs": [
        {
          "output_type": "stream",
          "text": [
            "Total image results:  4103\n",
            "Missing Images:  4\n"
          ],
          "name": "stdout"
        },
        {
          "output_type": "execute_result",
          "data": {
            "text/html": [
              "<div>\n",
              "<style scoped>\n",
              "    .dataframe tbody tr th:only-of-type {\n",
              "        vertical-align: middle;\n",
              "    }\n",
              "\n",
              "    .dataframe tbody tr th {\n",
              "        vertical-align: top;\n",
              "    }\n",
              "\n",
              "    .dataframe thead th {\n",
              "        text-align: right;\n",
              "    }\n",
              "</style>\n",
              "<table border=\"1\" class=\"dataframe\">\n",
              "  <thead>\n",
              "    <tr style=\"text-align: right;\">\n",
              "      <th></th>\n",
              "      <th>ImageId</th>\n",
              "      <th>EncodedPixels</th>\n",
              "      <th>CategoryId</th>\n",
              "    </tr>\n",
              "  </thead>\n",
              "  <tbody>\n",
              "    <tr>\n",
              "      <th>0</th>\n",
              "      <td>0000fe7c9191fba733c8a69cfaf962b7.jpg</td>\n",
              "      <td>102498 4 103010 5 103522 6 104036 5 104549 5 1...</td>\n",
              "      <td>33</td>\n",
              "    </tr>\n",
              "    <tr>\n",
              "      <th>1</th>\n",
              "      <td>0000fe7c9191fba733c8a69cfaf962b7.jpg</td>\n",
              "      <td>173885 26 174395 30 174463 2 174719 11 174906 ...</td>\n",
              "      <td>31</td>\n",
              "    </tr>\n",
              "    <tr>\n",
              "      <th>2</th>\n",
              "      <td>0002ec21ddb8477e98b2cbb87ea2e269.jpg</td>\n",
              "      <td>135642 12 136150 18 136662 19 137185 9 137698 ...</td>\n",
              "      <td>23</td>\n",
              "    </tr>\n",
              "    <tr>\n",
              "      <th>3</th>\n",
              "      <td>0002ec21ddb8477e98b2cbb87ea2e269.jpg</td>\n",
              "      <td>118208 2 118716 10 119227 12 119737 15 120248 ...</td>\n",
              "      <td>23</td>\n",
              "    </tr>\n",
              "    <tr>\n",
              "      <th>4</th>\n",
              "      <td>0002ec21ddb8477e98b2cbb87ea2e269.jpg</td>\n",
              "      <td>102659 25 103166 34 103673 50 104179 70 104686...</td>\n",
              "      <td>10</td>\n",
              "    </tr>\n",
              "  </tbody>\n",
              "</table>\n",
              "</div>"
            ],
            "text/plain": [
              "                                ImageId  ... CategoryId\n",
              "0  0000fe7c9191fba733c8a69cfaf962b7.jpg  ...         33\n",
              "1  0000fe7c9191fba733c8a69cfaf962b7.jpg  ...         31\n",
              "2  0002ec21ddb8477e98b2cbb87ea2e269.jpg  ...         23\n",
              "3  0002ec21ddb8477e98b2cbb87ea2e269.jpg  ...         23\n",
              "4  0002ec21ddb8477e98b2cbb87ea2e269.jpg  ...         10\n",
              "\n",
              "[5 rows x 3 columns]"
            ]
          },
          "metadata": {
            "tags": []
          },
          "execution_count": 31
        }
      ]
    },
    {
      "cell_type": "code",
      "metadata": {
        "id": "Q9u9PzZocYld",
        "colab_type": "code",
        "colab": {}
      },
      "source": [
        "pred_df.to_csv('pred_df.csv')"
      ],
      "execution_count": 0,
      "outputs": []
    },
    {
      "cell_type": "code",
      "metadata": {
        "id": "AcJ7VY_9cxmk",
        "colab_type": "code",
        "outputId": "75de8d11-c8c5-4492-b8fb-99508aff9db6",
        "colab": {
          "base_uri": "https://localhost:8080/",
          "height": 234
        }
      },
      "source": [
        "# Rows with the same image grouped together\n",
        "pred_df2 = pred_df.groupby('ImageId')['EncodedPixels', 'CategoryId'].agg(lambda x: list(x))\n",
        "pred_df2.head()"
      ],
      "execution_count": 0,
      "outputs": [
        {
          "output_type": "execute_result",
          "data": {
            "text/html": [
              "<div>\n",
              "<style scoped>\n",
              "    .dataframe tbody tr th:only-of-type {\n",
              "        vertical-align: middle;\n",
              "    }\n",
              "\n",
              "    .dataframe tbody tr th {\n",
              "        vertical-align: top;\n",
              "    }\n",
              "\n",
              "    .dataframe thead th {\n",
              "        text-align: right;\n",
              "    }\n",
              "</style>\n",
              "<table border=\"1\" class=\"dataframe\">\n",
              "  <thead>\n",
              "    <tr style=\"text-align: right;\">\n",
              "      <th></th>\n",
              "      <th>EncodedPixels</th>\n",
              "      <th>CategoryId</th>\n",
              "    </tr>\n",
              "    <tr>\n",
              "      <th>ImageId</th>\n",
              "      <th></th>\n",
              "      <th></th>\n",
              "    </tr>\n",
              "  </thead>\n",
              "  <tbody>\n",
              "    <tr>\n",
              "      <th>0000fe7c9191fba733c8a69cfaf962b7.jpg</th>\n",
              "      <td>[102498 4 103010 5 103522 6 104036 5 104549 5 ...</td>\n",
              "      <td>[33, 31]</td>\n",
              "    </tr>\n",
              "    <tr>\n",
              "      <th>0002ec21ddb8477e98b2cbb87ea2e269.jpg</th>\n",
              "      <td>[135642 12 136150 18 136662 19 137185 9 137698...</td>\n",
              "      <td>[23, 23, 10, 33]</td>\n",
              "    </tr>\n",
              "    <tr>\n",
              "      <th>0002f5a0ebc162ecfb73e2c91e3b8f62.jpg</th>\n",
              "      <td>[4544 4 5053 10 5563 13 6073 16 6582 21 7091 2...</td>\n",
              "      <td>[10, 33, 33, 37]</td>\n",
              "    </tr>\n",
              "    <tr>\n",
              "      <th>000aac3870ea7c59ca0333ffa5327323.jpg</th>\n",
              "      <td>[95481 11 95982 30 96482 47 96989 55 97495 63 ...</td>\n",
              "      <td>[31, 33, 10, 33]</td>\n",
              "    </tr>\n",
              "    <tr>\n",
              "      <th>000b3a87508b0fa185fbd53ecbe2e4c6.jpg</th>\n",
              "      <td>[141205 6 141715 10 142226 12 142736 15 143246...</td>\n",
              "      <td>[24, 33, 10, 19, 13, 21, 21]</td>\n",
              "    </tr>\n",
              "  </tbody>\n",
              "</table>\n",
              "</div>"
            ],
            "text/plain": [
              "                                                                          EncodedPixels                    CategoryId\n",
              "ImageId                                                                                                              \n",
              "0000fe7c9191fba733c8a69cfaf962b7.jpg  [102498 4 103010 5 103522 6 104036 5 104549 5 ...                      [33, 31]\n",
              "0002ec21ddb8477e98b2cbb87ea2e269.jpg  [135642 12 136150 18 136662 19 137185 9 137698...              [23, 23, 10, 33]\n",
              "0002f5a0ebc162ecfb73e2c91e3b8f62.jpg  [4544 4 5053 10 5563 13 6073 16 6582 21 7091 2...              [10, 33, 33, 37]\n",
              "000aac3870ea7c59ca0333ffa5327323.jpg  [95481 11 95982 30 96482 47 96989 55 97495 63 ...              [31, 33, 10, 33]\n",
              "000b3a87508b0fa185fbd53ecbe2e4c6.jpg  [141205 6 141715 10 142226 12 142736 15 143246...  [24, 33, 10, 19, 13, 21, 21]"
            ]
          },
          "metadata": {
            "tags": []
          },
          "execution_count": 35
        }
      ]
    },
    {
      "cell_type": "code",
      "metadata": {
        "id": "XKcpk8smdWzn",
        "colab_type": "code",
        "outputId": "15f91503-5299-4cc7-fbb9-b21cef4d7b8a",
        "colab": {
          "base_uri": "https://localhost:8080/",
          "height": 234
        }
      },
      "source": [
        "image_df.head()"
      ],
      "execution_count": 0,
      "outputs": [
        {
          "output_type": "execute_result",
          "data": {
            "text/html": [
              "<div>\n",
              "<style scoped>\n",
              "    .dataframe tbody tr th:only-of-type {\n",
              "        vertical-align: middle;\n",
              "    }\n",
              "\n",
              "    .dataframe tbody tr th {\n",
              "        vertical-align: top;\n",
              "    }\n",
              "\n",
              "    .dataframe thead th {\n",
              "        text-align: right;\n",
              "    }\n",
              "</style>\n",
              "<table border=\"1\" class=\"dataframe\">\n",
              "  <thead>\n",
              "    <tr style=\"text-align: right;\">\n",
              "      <th></th>\n",
              "      <th>EncodedPixels</th>\n",
              "      <th>CategoryId</th>\n",
              "      <th>Height</th>\n",
              "      <th>Width</th>\n",
              "    </tr>\n",
              "    <tr>\n",
              "      <th>ImageId</th>\n",
              "      <th></th>\n",
              "      <th></th>\n",
              "      <th></th>\n",
              "      <th></th>\n",
              "    </tr>\n",
              "  </thead>\n",
              "  <tbody>\n",
              "    <tr>\n",
              "      <th>0000fe7c9191fba733c8a69cfaf962b7.jpg</th>\n",
              "      <td>[2201176 1 2203623 3 2206071 5 2208518 8 22109...</td>\n",
              "      <td>[33, 1]</td>\n",
              "      <td>2448</td>\n",
              "      <td>2448</td>\n",
              "    </tr>\n",
              "    <tr>\n",
              "      <th>0002ec21ddb8477e98b2cbb87ea2e269.jpg</th>\n",
              "      <td>[2673735 2 2676734 8 2679734 13 2682733 19 268...</td>\n",
              "      <td>[33, 10, 23, 23]</td>\n",
              "      <td>3000</td>\n",
              "      <td>1997</td>\n",
              "    </tr>\n",
              "    <tr>\n",
              "      <th>0002f5a0ebc162ecfb73e2c91e3b8f62.jpg</th>\n",
              "      <td>[435 132 1002 132 1569 132 2136 132 2703 132 3...</td>\n",
              "      <td>[10, 33, 15]</td>\n",
              "      <td>567</td>\n",
              "      <td>400</td>\n",
              "    </tr>\n",
              "    <tr>\n",
              "      <th>000aac3870ea7c59ca0333ffa5327323.jpg</th>\n",
              "      <td>[8971124 17 8975101 49 8979077 82 8983053 116 ...</td>\n",
              "      <td>[10, 33, 3, 31, 31, 33]</td>\n",
              "      <td>4000</td>\n",
              "      <td>6000</td>\n",
              "    </tr>\n",
              "    <tr>\n",
              "      <th>000b3a87508b0fa185fbd53ecbe2e4c6.jpg</th>\n",
              "      <td>[291578 3 292856 8 294133 13 295410 19 296687 ...</td>\n",
              "      <td>[10, 33, 24]</td>\n",
              "      <td>1280</td>\n",
              "      <td>852</td>\n",
              "    </tr>\n",
              "  </tbody>\n",
              "</table>\n",
              "</div>"
            ],
            "text/plain": [
              "                                                                          EncodedPixels  ... Width\n",
              "ImageId                                                                                  ...      \n",
              "0000fe7c9191fba733c8a69cfaf962b7.jpg  [2201176 1 2203623 3 2206071 5 2208518 8 22109...  ...  2448\n",
              "0002ec21ddb8477e98b2cbb87ea2e269.jpg  [2673735 2 2676734 8 2679734 13 2682733 19 268...  ...  1997\n",
              "0002f5a0ebc162ecfb73e2c91e3b8f62.jpg  [435 132 1002 132 1569 132 2136 132 2703 132 3...  ...   400\n",
              "000aac3870ea7c59ca0333ffa5327323.jpg  [8971124 17 8975101 49 8979077 82 8983053 116 ...  ...  6000\n",
              "000b3a87508b0fa185fbd53ecbe2e4c6.jpg  [291578 3 292856 8 294133 13 295410 19 296687 ...  ...   852\n",
              "\n",
              "[5 rows x 4 columns]"
            ]
          },
          "metadata": {
            "tags": []
          },
          "execution_count": 38
        }
      ]
    },
    {
      "cell_type": "code",
      "metadata": {
        "id": "220tQDwvh6hf",
        "colab_type": "code",
        "outputId": "b30cdd4c-4784-4320-cfce-0f55e7c1638c",
        "colab": {
          "base_uri": "https://localhost:8080/",
          "height": 35
        }
      },
      "source": [
        "image_df.shape,pred_df2.shape"
      ],
      "execution_count": 0,
      "outputs": [
        {
          "output_type": "execute_result",
          "data": {
            "text/plain": [
              "((4103, 4), (4103, 2))"
            ]
          },
          "metadata": {
            "tags": []
          },
          "execution_count": 40
        }
      ]
    },
    {
      "cell_type": "code",
      "metadata": {
        "id": "Bzqc0a92kjy4",
        "colab_type": "code",
        "colab": {}
      },
      "source": [
        "combine_df = image_df.reset_index().merge(pred_df2.reset_index(), how='inner', left_on='ImageId', right_on='ImageId').loc[:,['ImageId','CategoryId_x','CategoryId_y']]"
      ],
      "execution_count": 0,
      "outputs": []
    },
    {
      "cell_type": "code",
      "metadata": {
        "id": "IM1Nw9qulrve",
        "colab_type": "code",
        "outputId": "f685362e-aa15-4150-d658-481829997e31",
        "colab": {
          "base_uri": "https://localhost:8080/",
          "height": 203
        }
      },
      "source": [
        "combine_df.columns = ['ImageId','Truth','Prediction']\n",
        "combine_df.head()"
      ],
      "execution_count": 0,
      "outputs": [
        {
          "output_type": "execute_result",
          "data": {
            "text/html": [
              "<div>\n",
              "<style scoped>\n",
              "    .dataframe tbody tr th:only-of-type {\n",
              "        vertical-align: middle;\n",
              "    }\n",
              "\n",
              "    .dataframe tbody tr th {\n",
              "        vertical-align: top;\n",
              "    }\n",
              "\n",
              "    .dataframe thead th {\n",
              "        text-align: right;\n",
              "    }\n",
              "</style>\n",
              "<table border=\"1\" class=\"dataframe\">\n",
              "  <thead>\n",
              "    <tr style=\"text-align: right;\">\n",
              "      <th></th>\n",
              "      <th>ImageId</th>\n",
              "      <th>Truth</th>\n",
              "      <th>Prediction</th>\n",
              "    </tr>\n",
              "  </thead>\n",
              "  <tbody>\n",
              "    <tr>\n",
              "      <th>0</th>\n",
              "      <td>0000fe7c9191fba733c8a69cfaf962b7.jpg</td>\n",
              "      <td>[33, 1]</td>\n",
              "      <td>[33, 31]</td>\n",
              "    </tr>\n",
              "    <tr>\n",
              "      <th>1</th>\n",
              "      <td>0002ec21ddb8477e98b2cbb87ea2e269.jpg</td>\n",
              "      <td>[33, 10, 23, 23]</td>\n",
              "      <td>[23, 23, 10, 33]</td>\n",
              "    </tr>\n",
              "    <tr>\n",
              "      <th>2</th>\n",
              "      <td>0002f5a0ebc162ecfb73e2c91e3b8f62.jpg</td>\n",
              "      <td>[10, 33, 15]</td>\n",
              "      <td>[10, 33, 33, 37]</td>\n",
              "    </tr>\n",
              "    <tr>\n",
              "      <th>3</th>\n",
              "      <td>000aac3870ea7c59ca0333ffa5327323.jpg</td>\n",
              "      <td>[10, 33, 3, 31, 31, 33]</td>\n",
              "      <td>[31, 33, 10, 33]</td>\n",
              "    </tr>\n",
              "    <tr>\n",
              "      <th>4</th>\n",
              "      <td>000b3a87508b0fa185fbd53ecbe2e4c6.jpg</td>\n",
              "      <td>[10, 33, 24]</td>\n",
              "      <td>[24, 33, 10, 19, 13, 21, 21]</td>\n",
              "    </tr>\n",
              "  </tbody>\n",
              "</table>\n",
              "</div>"
            ],
            "text/plain": [
              "                                ImageId  ...                    Prediction\n",
              "0  0000fe7c9191fba733c8a69cfaf962b7.jpg  ...                      [33, 31]\n",
              "1  0002ec21ddb8477e98b2cbb87ea2e269.jpg  ...              [23, 23, 10, 33]\n",
              "2  0002f5a0ebc162ecfb73e2c91e3b8f62.jpg  ...              [10, 33, 33, 37]\n",
              "3  000aac3870ea7c59ca0333ffa5327323.jpg  ...              [31, 33, 10, 33]\n",
              "4  000b3a87508b0fa185fbd53ecbe2e4c6.jpg  ...  [24, 33, 10, 19, 13, 21, 21]\n",
              "\n",
              "[5 rows x 3 columns]"
            ]
          },
          "metadata": {
            "tags": []
          },
          "execution_count": 52
        }
      ]
    },
    {
      "cell_type": "code",
      "metadata": {
        "id": "bjomOHYBrOkw",
        "colab_type": "code",
        "colab": {}
      },
      "source": [
        "combine_df['Truth'] = combine_df['Truth'].map(lambda x:[int(y) for y in x])"
      ],
      "execution_count": 0,
      "outputs": []
    },
    {
      "cell_type": "code",
      "metadata": {
        "id": "_xCqphUFpuco",
        "colab_type": "code",
        "outputId": "d9c6607c-59f3-4d3f-b079-0c5c2810c47b",
        "colab": {
          "base_uri": "https://localhost:8080/",
          "height": 203
        }
      },
      "source": [
        "combine_df.head()"
      ],
      "execution_count": 0,
      "outputs": [
        {
          "output_type": "execute_result",
          "data": {
            "text/html": [
              "<div>\n",
              "<style scoped>\n",
              "    .dataframe tbody tr th:only-of-type {\n",
              "        vertical-align: middle;\n",
              "    }\n",
              "\n",
              "    .dataframe tbody tr th {\n",
              "        vertical-align: top;\n",
              "    }\n",
              "\n",
              "    .dataframe thead th {\n",
              "        text-align: right;\n",
              "    }\n",
              "</style>\n",
              "<table border=\"1\" class=\"dataframe\">\n",
              "  <thead>\n",
              "    <tr style=\"text-align: right;\">\n",
              "      <th></th>\n",
              "      <th>ImageId</th>\n",
              "      <th>Truth</th>\n",
              "      <th>Prediction</th>\n",
              "      <th>correct</th>\n",
              "    </tr>\n",
              "  </thead>\n",
              "  <tbody>\n",
              "    <tr>\n",
              "      <th>0</th>\n",
              "      <td>0000fe7c9191fba733c8a69cfaf962b7.jpg</td>\n",
              "      <td>[33, 1]</td>\n",
              "      <td>[33, 31]</td>\n",
              "      <td>[33]</td>\n",
              "    </tr>\n",
              "    <tr>\n",
              "      <th>1</th>\n",
              "      <td>0002ec21ddb8477e98b2cbb87ea2e269.jpg</td>\n",
              "      <td>[33, 10, 23, 23]</td>\n",
              "      <td>[23, 23, 10, 33]</td>\n",
              "      <td>[33, 10, 23]</td>\n",
              "    </tr>\n",
              "    <tr>\n",
              "      <th>2</th>\n",
              "      <td>0002f5a0ebc162ecfb73e2c91e3b8f62.jpg</td>\n",
              "      <td>[10, 33, 15]</td>\n",
              "      <td>[10, 33, 33, 37]</td>\n",
              "      <td>[33, 10]</td>\n",
              "    </tr>\n",
              "    <tr>\n",
              "      <th>3</th>\n",
              "      <td>000aac3870ea7c59ca0333ffa5327323.jpg</td>\n",
              "      <td>[10, 33, 3, 31, 31, 33]</td>\n",
              "      <td>[31, 33, 10, 33]</td>\n",
              "      <td>[33, 10, 31]</td>\n",
              "    </tr>\n",
              "    <tr>\n",
              "      <th>4</th>\n",
              "      <td>000b3a87508b0fa185fbd53ecbe2e4c6.jpg</td>\n",
              "      <td>[10, 33, 24]</td>\n",
              "      <td>[24, 33, 10, 19, 13, 21, 21]</td>\n",
              "      <td>[24, 33, 10]</td>\n",
              "    </tr>\n",
              "  </tbody>\n",
              "</table>\n",
              "</div>"
            ],
            "text/plain": [
              "                                ImageId  ...       correct\n",
              "0  0000fe7c9191fba733c8a69cfaf962b7.jpg  ...          [33]\n",
              "1  0002ec21ddb8477e98b2cbb87ea2e269.jpg  ...  [33, 10, 23]\n",
              "2  0002f5a0ebc162ecfb73e2c91e3b8f62.jpg  ...      [33, 10]\n",
              "3  000aac3870ea7c59ca0333ffa5327323.jpg  ...  [33, 10, 31]\n",
              "4  000b3a87508b0fa185fbd53ecbe2e4c6.jpg  ...  [24, 33, 10]\n",
              "\n",
              "[5 rows x 4 columns]"
            ]
          },
          "metadata": {
            "tags": []
          },
          "execution_count": 117
        }
      ]
    },
    {
      "cell_type": "code",
      "metadata": {
        "id": "VPNbYUKnugjc",
        "colab_type": "code",
        "colab": {}
      },
      "source": [
        "combine_df['correct']= combine_df['Truth']\n",
        "combine_df['missed']= combine_df['Truth']\n",
        "combine_df['extra']= combine_df['Truth']"
      ],
      "execution_count": 0,
      "outputs": []
    },
    {
      "cell_type": "code",
      "metadata": {
        "id": "sJhk0YAuqlWW",
        "colab_type": "code",
        "colab": {}
      },
      "source": [
        "for i in range(len(combine_df)):\n",
        "  combine_df.loc[i,'correct'] = (list(set(combine_df.iloc[i,1]).intersection(combine_df.iloc[i,2])))\n",
        "  combine_df.loc[i,'missed'] = (list(set(combine_df.iloc[i,1]) - set(combine_df.iloc[i,2])))\n",
        "  combine_df.loc[i,'extra'] = (list(set(combine_df.iloc[i,2]) - set(combine_df.iloc[i,1])))"
      ],
      "execution_count": 0,
      "outputs": []
    },
    {
      "cell_type": "code",
      "metadata": {
        "id": "dBAvmcZbxUoK",
        "colab_type": "code",
        "outputId": "0b0cf539-953b-47d2-f804-7f8fd8eea83f",
        "colab": {
          "base_uri": "https://localhost:8080/",
          "height": 203
        }
      },
      "source": [
        "combine_df.head()"
      ],
      "execution_count": 0,
      "outputs": [
        {
          "output_type": "execute_result",
          "data": {
            "text/html": [
              "<div>\n",
              "<style scoped>\n",
              "    .dataframe tbody tr th:only-of-type {\n",
              "        vertical-align: middle;\n",
              "    }\n",
              "\n",
              "    .dataframe tbody tr th {\n",
              "        vertical-align: top;\n",
              "    }\n",
              "\n",
              "    .dataframe thead th {\n",
              "        text-align: right;\n",
              "    }\n",
              "</style>\n",
              "<table border=\"1\" class=\"dataframe\">\n",
              "  <thead>\n",
              "    <tr style=\"text-align: right;\">\n",
              "      <th></th>\n",
              "      <th>ImageId</th>\n",
              "      <th>Truth</th>\n",
              "      <th>Prediction</th>\n",
              "      <th>correct</th>\n",
              "      <th>missed</th>\n",
              "      <th>extra</th>\n",
              "    </tr>\n",
              "  </thead>\n",
              "  <tbody>\n",
              "    <tr>\n",
              "      <th>0</th>\n",
              "      <td>0000fe7c9191fba733c8a69cfaf962b7.jpg</td>\n",
              "      <td>[33, 1]</td>\n",
              "      <td>[33, 31]</td>\n",
              "      <td>[33]</td>\n",
              "      <td>[1]</td>\n",
              "      <td>[31]</td>\n",
              "    </tr>\n",
              "    <tr>\n",
              "      <th>1</th>\n",
              "      <td>0002ec21ddb8477e98b2cbb87ea2e269.jpg</td>\n",
              "      <td>[33, 10, 23, 23]</td>\n",
              "      <td>[23, 23, 10, 33]</td>\n",
              "      <td>[33, 10, 23]</td>\n",
              "      <td>[]</td>\n",
              "      <td>[]</td>\n",
              "    </tr>\n",
              "    <tr>\n",
              "      <th>2</th>\n",
              "      <td>0002f5a0ebc162ecfb73e2c91e3b8f62.jpg</td>\n",
              "      <td>[10, 33, 15]</td>\n",
              "      <td>[10, 33, 33, 37]</td>\n",
              "      <td>[33, 10]</td>\n",
              "      <td>[15]</td>\n",
              "      <td>[37]</td>\n",
              "    </tr>\n",
              "    <tr>\n",
              "      <th>3</th>\n",
              "      <td>000aac3870ea7c59ca0333ffa5327323.jpg</td>\n",
              "      <td>[10, 33, 3, 31, 31, 33]</td>\n",
              "      <td>[31, 33, 10, 33]</td>\n",
              "      <td>[33, 10, 31]</td>\n",
              "      <td>[3]</td>\n",
              "      <td>[]</td>\n",
              "    </tr>\n",
              "    <tr>\n",
              "      <th>4</th>\n",
              "      <td>000b3a87508b0fa185fbd53ecbe2e4c6.jpg</td>\n",
              "      <td>[10, 33, 24]</td>\n",
              "      <td>[24, 33, 10, 19, 13, 21, 21]</td>\n",
              "      <td>[24, 33, 10]</td>\n",
              "      <td>[]</td>\n",
              "      <td>[21, 19, 13]</td>\n",
              "    </tr>\n",
              "  </tbody>\n",
              "</table>\n",
              "</div>"
            ],
            "text/plain": [
              "                                ImageId  ...         extra\n",
              "0  0000fe7c9191fba733c8a69cfaf962b7.jpg  ...          [31]\n",
              "1  0002ec21ddb8477e98b2cbb87ea2e269.jpg  ...            []\n",
              "2  0002f5a0ebc162ecfb73e2c91e3b8f62.jpg  ...          [37]\n",
              "3  000aac3870ea7c59ca0333ffa5327323.jpg  ...            []\n",
              "4  000b3a87508b0fa185fbd53ecbe2e4c6.jpg  ...  [21, 19, 13]\n",
              "\n",
              "[5 rows x 6 columns]"
            ]
          },
          "metadata": {
            "tags": []
          },
          "execution_count": 129
        }
      ]
    },
    {
      "cell_type": "code",
      "metadata": {
        "id": "m_1U2gZ0xwfe",
        "colab_type": "code",
        "colab": {}
      },
      "source": [
        "correct_list = []\n",
        "missed_list = []\n",
        "extra_list = []\n",
        "\n",
        "for i in range(len(combine_df)):\n",
        "  correct_list.extend(combine_df.iloc[i,3])\n",
        "  missed_list.extend(combine_df.iloc[i,4])\n",
        "  extra_list.extend(combine_df.iloc[i,5])"
      ],
      "execution_count": 0,
      "outputs": []
    },
    {
      "cell_type": "code",
      "metadata": {
        "id": "JdMNaLq3zQhA",
        "colab_type": "code",
        "outputId": "71696426-9a13-488c-d6fd-a96fc8cac2f6",
        "colab": {
          "base_uri": "https://localhost:8080/",
          "height": 203
        }
      },
      "source": [
        "label_df = pd.DataFrame(label_names).reset_index()\n",
        "label_df.columns = ['Id','Labels']\n",
        "label_df.head()"
      ],
      "execution_count": 0,
      "outputs": [
        {
          "output_type": "execute_result",
          "data": {
            "text/html": [
              "<div>\n",
              "<style scoped>\n",
              "    .dataframe tbody tr th:only-of-type {\n",
              "        vertical-align: middle;\n",
              "    }\n",
              "\n",
              "    .dataframe tbody tr th {\n",
              "        vertical-align: top;\n",
              "    }\n",
              "\n",
              "    .dataframe thead th {\n",
              "        text-align: right;\n",
              "    }\n",
              "</style>\n",
              "<table border=\"1\" class=\"dataframe\">\n",
              "  <thead>\n",
              "    <tr style=\"text-align: right;\">\n",
              "      <th></th>\n",
              "      <th>Id</th>\n",
              "      <th>Labels</th>\n",
              "    </tr>\n",
              "  </thead>\n",
              "  <tbody>\n",
              "    <tr>\n",
              "      <th>0</th>\n",
              "      <td>0</td>\n",
              "      <td>shirt, blouse</td>\n",
              "    </tr>\n",
              "    <tr>\n",
              "      <th>1</th>\n",
              "      <td>1</td>\n",
              "      <td>top, t-shirt, sweatshirt</td>\n",
              "    </tr>\n",
              "    <tr>\n",
              "      <th>2</th>\n",
              "      <td>2</td>\n",
              "      <td>sweater</td>\n",
              "    </tr>\n",
              "    <tr>\n",
              "      <th>3</th>\n",
              "      <td>3</td>\n",
              "      <td>cardigan</td>\n",
              "    </tr>\n",
              "    <tr>\n",
              "      <th>4</th>\n",
              "      <td>4</td>\n",
              "      <td>jacket</td>\n",
              "    </tr>\n",
              "  </tbody>\n",
              "</table>\n",
              "</div>"
            ],
            "text/plain": [
              "   Id                    Labels\n",
              "0   0             shirt, blouse\n",
              "1   1  top, t-shirt, sweatshirt\n",
              "2   2                   sweater\n",
              "3   3                  cardigan\n",
              "4   4                    jacket"
            ]
          },
          "metadata": {
            "tags": []
          },
          "execution_count": 152
        }
      ]
    },
    {
      "cell_type": "code",
      "metadata": {
        "id": "55HkZGRux_zG",
        "colab_type": "code",
        "outputId": "e84fa2bb-2011-425d-d138-57554af6f15b",
        "colab": {
          "base_uri": "https://localhost:8080/",
          "height": 357
        }
      },
      "source": [
        "from collections import Counter\n",
        "correct_df = pd.DataFrame.from_dict(Counter(correct_list), orient='index').reset_index().sort_values(by = 0, ascending = False)\\\n",
        "                        .merge(label_df, left_on = 'index', right_on='Id').loc[:,[0,'Labels']]\n",
        "correct_df.columns = ['Count Correct','Labels']\n",
        "correct_df.head(10)"
      ],
      "execution_count": 0,
      "outputs": [
        {
          "output_type": "execute_result",
          "data": {
            "text/html": [
              "<div>\n",
              "<style scoped>\n",
              "    .dataframe tbody tr th:only-of-type {\n",
              "        vertical-align: middle;\n",
              "    }\n",
              "\n",
              "    .dataframe tbody tr th {\n",
              "        vertical-align: top;\n",
              "    }\n",
              "\n",
              "    .dataframe thead th {\n",
              "        text-align: right;\n",
              "    }\n",
              "</style>\n",
              "<table border=\"1\" class=\"dataframe\">\n",
              "  <thead>\n",
              "    <tr style=\"text-align: right;\">\n",
              "      <th></th>\n",
              "      <th>Count Correct</th>\n",
              "      <th>Labels</th>\n",
              "    </tr>\n",
              "  </thead>\n",
              "  <tbody>\n",
              "    <tr>\n",
              "      <th>0</th>\n",
              "      <td>2566</td>\n",
              "      <td>sleeve</td>\n",
              "    </tr>\n",
              "    <tr>\n",
              "      <th>1</th>\n",
              "      <td>2409</td>\n",
              "      <td>neckline</td>\n",
              "    </tr>\n",
              "    <tr>\n",
              "      <th>2</th>\n",
              "      <td>2040</td>\n",
              "      <td>shoe</td>\n",
              "    </tr>\n",
              "    <tr>\n",
              "      <th>3</th>\n",
              "      <td>1308</td>\n",
              "      <td>dress</td>\n",
              "    </tr>\n",
              "    <tr>\n",
              "      <th>4</th>\n",
              "      <td>1037</td>\n",
              "      <td>pants</td>\n",
              "    </tr>\n",
              "    <tr>\n",
              "      <th>5</th>\n",
              "      <td>890</td>\n",
              "      <td>top, t-shirt, sweatshirt</td>\n",
              "    </tr>\n",
              "    <tr>\n",
              "      <th>6</th>\n",
              "      <td>605</td>\n",
              "      <td>pocket</td>\n",
              "    </tr>\n",
              "    <tr>\n",
              "      <th>7</th>\n",
              "      <td>565</td>\n",
              "      <td>collar</td>\n",
              "    </tr>\n",
              "    <tr>\n",
              "      <th>8</th>\n",
              "      <td>417</td>\n",
              "      <td>jacket</td>\n",
              "    </tr>\n",
              "    <tr>\n",
              "      <th>9</th>\n",
              "      <td>366</td>\n",
              "      <td>lapel</td>\n",
              "    </tr>\n",
              "  </tbody>\n",
              "</table>\n",
              "</div>"
            ],
            "text/plain": [
              "   Count Correct                    Labels\n",
              "0           2566                    sleeve\n",
              "1           2409                  neckline\n",
              "2           2040                      shoe\n",
              "3           1308                     dress\n",
              "4           1037                     pants\n",
              "5            890  top, t-shirt, sweatshirt\n",
              "6            605                    pocket\n",
              "7            565                    collar\n",
              "8            417                    jacket\n",
              "9            366                     lapel"
            ]
          },
          "metadata": {
            "tags": []
          },
          "execution_count": 188
        }
      ]
    },
    {
      "cell_type": "code",
      "metadata": {
        "id": "XDcw74LBybhB",
        "colab_type": "code",
        "outputId": "65549dce-fca9-453b-9be2-ed39a145169e",
        "colab": {
          "base_uri": "https://localhost:8080/",
          "height": 203
        }
      },
      "source": [
        "missed_df = pd.DataFrame.from_dict(Counter(missed_list), orient='index').reset_index().sort_values(by = 0, ascending = False)\\\n",
        "                        .merge(label_df, left_on = 'index', right_on='Id').loc[:,[0,'Id','Labels']]\n",
        "missed_df.columns = ['Count Missed','Label Id','Labels']\n",
        "missed_df.head()"
      ],
      "execution_count": 0,
      "outputs": [
        {
          "output_type": "execute_result",
          "data": {
            "text/html": [
              "<div>\n",
              "<style scoped>\n",
              "    .dataframe tbody tr th:only-of-type {\n",
              "        vertical-align: middle;\n",
              "    }\n",
              "\n",
              "    .dataframe tbody tr th {\n",
              "        vertical-align: top;\n",
              "    }\n",
              "\n",
              "    .dataframe thead th {\n",
              "        text-align: right;\n",
              "    }\n",
              "</style>\n",
              "<table border=\"1\" class=\"dataframe\">\n",
              "  <thead>\n",
              "    <tr style=\"text-align: right;\">\n",
              "      <th></th>\n",
              "      <th>Count Missed</th>\n",
              "      <th>Label Id</th>\n",
              "      <th>Labels</th>\n",
              "    </tr>\n",
              "  </thead>\n",
              "  <tbody>\n",
              "    <tr>\n",
              "      <th>0</th>\n",
              "      <td>609</td>\n",
              "      <td>32</td>\n",
              "      <td>pocket</td>\n",
              "    </tr>\n",
              "    <tr>\n",
              "      <th>1</th>\n",
              "      <td>581</td>\n",
              "      <td>1</td>\n",
              "      <td>top, t-shirt, sweatshirt</td>\n",
              "    </tr>\n",
              "    <tr>\n",
              "      <th>2</th>\n",
              "      <td>568</td>\n",
              "      <td>33</td>\n",
              "      <td>neckline</td>\n",
              "    </tr>\n",
              "    <tr>\n",
              "      <th>3</th>\n",
              "      <td>469</td>\n",
              "      <td>0</td>\n",
              "      <td>shirt, blouse</td>\n",
              "    </tr>\n",
              "    <tr>\n",
              "      <th>4</th>\n",
              "      <td>411</td>\n",
              "      <td>19</td>\n",
              "      <td>belt</td>\n",
              "    </tr>\n",
              "  </tbody>\n",
              "</table>\n",
              "</div>"
            ],
            "text/plain": [
              "   Count Missed  Label Id                    Labels\n",
              "0           609        32                    pocket\n",
              "1           581         1  top, t-shirt, sweatshirt\n",
              "2           568        33                  neckline\n",
              "3           469         0             shirt, blouse\n",
              "4           411        19                      belt"
            ]
          },
          "metadata": {
            "tags": []
          },
          "execution_count": 201
        }
      ]
    },
    {
      "cell_type": "code",
      "metadata": {
        "id": "ZZQb7uuizBoJ",
        "colab_type": "code",
        "outputId": "44d92950-d3c6-4d1f-bc06-20e725a07210",
        "colab": {
          "base_uri": "https://localhost:8080/",
          "height": 203
        }
      },
      "source": [
        "extra_df = pd.DataFrame.from_dict(Counter(extra_list), orient='index').reset_index().sort_values(by = 0, ascending = False)\\\n",
        "                        .merge(label_df, left_on = 'index', right_on='Id').loc[:,[0,'Labels']]\n",
        "extra_df.columns = ['Count Extra','Labels']\n",
        "extra_df.head()"
      ],
      "execution_count": 0,
      "outputs": [
        {
          "output_type": "execute_result",
          "data": {
            "text/html": [
              "<div>\n",
              "<style scoped>\n",
              "    .dataframe tbody tr th:only-of-type {\n",
              "        vertical-align: middle;\n",
              "    }\n",
              "\n",
              "    .dataframe tbody tr th {\n",
              "        vertical-align: top;\n",
              "    }\n",
              "\n",
              "    .dataframe thead th {\n",
              "        text-align: right;\n",
              "    }\n",
              "</style>\n",
              "<table border=\"1\" class=\"dataframe\">\n",
              "  <thead>\n",
              "    <tr style=\"text-align: right;\">\n",
              "      <th></th>\n",
              "      <th>Count Extra</th>\n",
              "      <th>Labels</th>\n",
              "    </tr>\n",
              "  </thead>\n",
              "  <tbody>\n",
              "    <tr>\n",
              "      <th>0</th>\n",
              "      <td>701</td>\n",
              "      <td>sleeve</td>\n",
              "    </tr>\n",
              "    <tr>\n",
              "      <th>1</th>\n",
              "      <td>423</td>\n",
              "      <td>top, t-shirt, sweatshirt</td>\n",
              "    </tr>\n",
              "    <tr>\n",
              "      <th>2</th>\n",
              "      <td>422</td>\n",
              "      <td>pants</td>\n",
              "    </tr>\n",
              "    <tr>\n",
              "      <th>3</th>\n",
              "      <td>356</td>\n",
              "      <td>dress</td>\n",
              "    </tr>\n",
              "    <tr>\n",
              "      <th>4</th>\n",
              "      <td>315</td>\n",
              "      <td>shoe</td>\n",
              "    </tr>\n",
              "  </tbody>\n",
              "</table>\n",
              "</div>"
            ],
            "text/plain": [
              "   Count Extra                    Labels\n",
              "0          701                    sleeve\n",
              "1          423  top, t-shirt, sweatshirt\n",
              "2          422                     pants\n",
              "3          356                     dress\n",
              "4          315                      shoe"
            ]
          },
          "metadata": {
            "tags": []
          },
          "execution_count": 177
        }
      ]
    },
    {
      "cell_type": "code",
      "metadata": {
        "id": "__oQePqf3lVx",
        "colab_type": "code",
        "colab": {}
      },
      "source": [
        "error_analysis = missed_df.merge(correct_df, how = 'left', on='Labels').fillna(0)"
      ],
      "execution_count": 0,
      "outputs": []
    },
    {
      "cell_type": "code",
      "metadata": {
        "id": "IVoROPeN6nht",
        "colab_type": "code",
        "colab": {}
      },
      "source": [
        "error_analysis['missed %'] = (error_analysis['Count Missed']*100)/(error_analysis['Count Missed']+error_analysis['Count Correct'])\n",
        "error_analysis['total labels'] = (error_analysis['Count Missed']+error_analysis['Count Correct'])"
      ],
      "execution_count": 0,
      "outputs": []
    },
    {
      "cell_type": "code",
      "metadata": {
        "id": "D2Gr8lcz57lS",
        "colab_type": "code",
        "outputId": "489e6f2b-25bd-45fa-c9a4-cca8e30da4b1",
        "colab": {
          "base_uri": "https://localhost:8080/",
          "height": 512
        }
      },
      "source": [
        "error_analysis.sort_values(by = 'total labels', ascending=False).head(15)"
      ],
      "execution_count": 0,
      "outputs": [
        {
          "output_type": "execute_result",
          "data": {
            "text/html": [
              "<div>\n",
              "<style scoped>\n",
              "    .dataframe tbody tr th:only-of-type {\n",
              "        vertical-align: middle;\n",
              "    }\n",
              "\n",
              "    .dataframe tbody tr th {\n",
              "        vertical-align: top;\n",
              "    }\n",
              "\n",
              "    .dataframe thead th {\n",
              "        text-align: right;\n",
              "    }\n",
              "</style>\n",
              "<table border=\"1\" class=\"dataframe\">\n",
              "  <thead>\n",
              "    <tr style=\"text-align: right;\">\n",
              "      <th></th>\n",
              "      <th>Count Missed</th>\n",
              "      <th>Label Id</th>\n",
              "      <th>Labels</th>\n",
              "      <th>Count Correct</th>\n",
              "      <th>missed %</th>\n",
              "      <th>total labels</th>\n",
              "    </tr>\n",
              "  </thead>\n",
              "  <tbody>\n",
              "    <tr>\n",
              "      <th>2</th>\n",
              "      <td>568</td>\n",
              "      <td>33</td>\n",
              "      <td>neckline</td>\n",
              "      <td>2409.0</td>\n",
              "      <td>19.079610</td>\n",
              "      <td>2977.0</td>\n",
              "    </tr>\n",
              "    <tr>\n",
              "      <th>35</th>\n",
              "      <td>65</td>\n",
              "      <td>31</td>\n",
              "      <td>sleeve</td>\n",
              "      <td>2566.0</td>\n",
              "      <td>2.470544</td>\n",
              "      <td>2631.0</td>\n",
              "    </tr>\n",
              "    <tr>\n",
              "      <th>31</th>\n",
              "      <td>79</td>\n",
              "      <td>23</td>\n",
              "      <td>shoe</td>\n",
              "      <td>2040.0</td>\n",
              "      <td>3.728174</td>\n",
              "      <td>2119.0</td>\n",
              "    </tr>\n",
              "    <tr>\n",
              "      <th>5</th>\n",
              "      <td>334</td>\n",
              "      <td>10</td>\n",
              "      <td>dress</td>\n",
              "      <td>1308.0</td>\n",
              "      <td>20.341048</td>\n",
              "      <td>1642.0</td>\n",
              "    </tr>\n",
              "    <tr>\n",
              "      <th>1</th>\n",
              "      <td>581</td>\n",
              "      <td>1</td>\n",
              "      <td>top, t-shirt, sweatshirt</td>\n",
              "      <td>890.0</td>\n",
              "      <td>39.496941</td>\n",
              "      <td>1471.0</td>\n",
              "    </tr>\n",
              "    <tr>\n",
              "      <th>0</th>\n",
              "      <td>609</td>\n",
              "      <td>32</td>\n",
              "      <td>pocket</td>\n",
              "      <td>605.0</td>\n",
              "      <td>50.164745</td>\n",
              "      <td>1214.0</td>\n",
              "    </tr>\n",
              "    <tr>\n",
              "      <th>19</th>\n",
              "      <td>125</td>\n",
              "      <td>6</td>\n",
              "      <td>pants</td>\n",
              "      <td>1037.0</td>\n",
              "      <td>10.757315</td>\n",
              "      <td>1162.0</td>\n",
              "    </tr>\n",
              "    <tr>\n",
              "      <th>8</th>\n",
              "      <td>295</td>\n",
              "      <td>28</td>\n",
              "      <td>collar</td>\n",
              "      <td>565.0</td>\n",
              "      <td>34.302326</td>\n",
              "      <td>860.0</td>\n",
              "    </tr>\n",
              "    <tr>\n",
              "      <th>10</th>\n",
              "      <td>271</td>\n",
              "      <td>4</td>\n",
              "      <td>jacket</td>\n",
              "      <td>417.0</td>\n",
              "      <td>39.389535</td>\n",
              "      <td>688.0</td>\n",
              "    </tr>\n",
              "    <tr>\n",
              "      <th>4</th>\n",
              "      <td>411</td>\n",
              "      <td>19</td>\n",
              "      <td>belt</td>\n",
              "      <td>227.0</td>\n",
              "      <td>64.420063</td>\n",
              "      <td>638.0</td>\n",
              "    </tr>\n",
              "    <tr>\n",
              "      <th>7</th>\n",
              "      <td>297</td>\n",
              "      <td>24</td>\n",
              "      <td>bag, wallet</td>\n",
              "      <td>305.0</td>\n",
              "      <td>49.335548</td>\n",
              "      <td>602.0</td>\n",
              "    </tr>\n",
              "    <tr>\n",
              "      <th>13</th>\n",
              "      <td>194</td>\n",
              "      <td>29</td>\n",
              "      <td>lapel</td>\n",
              "      <td>366.0</td>\n",
              "      <td>34.642857</td>\n",
              "      <td>560.0</td>\n",
              "    </tr>\n",
              "    <tr>\n",
              "      <th>3</th>\n",
              "      <td>469</td>\n",
              "      <td>0</td>\n",
              "      <td>shirt, blouse</td>\n",
              "      <td>81.0</td>\n",
              "      <td>85.272727</td>\n",
              "      <td>550.0</td>\n",
              "    </tr>\n",
              "    <tr>\n",
              "      <th>9</th>\n",
              "      <td>290</td>\n",
              "      <td>8</td>\n",
              "      <td>skirt</td>\n",
              "      <td>179.0</td>\n",
              "      <td>61.833689</td>\n",
              "      <td>469.0</td>\n",
              "    </tr>\n",
              "    <tr>\n",
              "      <th>26</th>\n",
              "      <td>100</td>\n",
              "      <td>13</td>\n",
              "      <td>glasses</td>\n",
              "      <td>349.0</td>\n",
              "      <td>22.271715</td>\n",
              "      <td>449.0</td>\n",
              "    </tr>\n",
              "  </tbody>\n",
              "</table>\n",
              "</div>"
            ],
            "text/plain": [
              "    Count Missed  Label Id  ...   missed %  total labels\n",
              "2            568        33  ...  19.079610        2977.0\n",
              "35            65        31  ...   2.470544        2631.0\n",
              "31            79        23  ...   3.728174        2119.0\n",
              "5            334        10  ...  20.341048        1642.0\n",
              "1            581         1  ...  39.496941        1471.0\n",
              "0            609        32  ...  50.164745        1214.0\n",
              "19           125         6  ...  10.757315        1162.0\n",
              "8            295        28  ...  34.302326         860.0\n",
              "10           271         4  ...  39.389535         688.0\n",
              "4            411        19  ...  64.420063         638.0\n",
              "7            297        24  ...  49.335548         602.0\n",
              "13           194        29  ...  34.642857         560.0\n",
              "3            469         0  ...  85.272727         550.0\n",
              "9            290         8  ...  61.833689         469.0\n",
              "26           100        13  ...  22.271715         449.0\n",
              "\n",
              "[15 rows x 6 columns]"
            ]
          },
          "metadata": {
            "tags": []
          },
          "execution_count": 233
        }
      ]
    },
    {
      "cell_type": "code",
      "metadata": {
        "id": "iHhEqw5s9SU8",
        "colab_type": "code",
        "colab": {}
      },
      "source": [
        "error_analysis1 = error_analysis[error_analysis['total labels']>200].sort_values(by ='missed %')"
      ],
      "execution_count": 0,
      "outputs": []
    },
    {
      "cell_type": "code",
      "metadata": {
        "id": "MlWBp_QTI7EP",
        "colab_type": "code",
        "colab": {}
      },
      "source": [
        "error_analysis1.to_csv('error_analysis1.csv')"
      ],
      "execution_count": 0,
      "outputs": []
    },
    {
      "cell_type": "code",
      "metadata": {
        "id": "vWcf4c8braT8",
        "colab_type": "code",
        "colab": {}
      },
      "source": [
        "import pandas as pd\n",
        "error_analysis1 = pd.read_csv('error_analysis1_sensitivity.csv')"
      ],
      "execution_count": 0,
      "outputs": []
    },
    {
      "cell_type": "code",
      "metadata": {
        "id": "YhHWzISysKCR",
        "colab_type": "code",
        "outputId": "c23f1ba0-e8f7-45b3-ff29-da9cc71d2058",
        "colab": {
          "base_uri": "https://localhost:8080/",
          "height": 203
        }
      },
      "source": [
        "error_analysis1.head()"
      ],
      "execution_count": 0,
      "outputs": [
        {
          "output_type": "execute_result",
          "data": {
            "text/html": [
              "<div>\n",
              "<style scoped>\n",
              "    .dataframe tbody tr th:only-of-type {\n",
              "        vertical-align: middle;\n",
              "    }\n",
              "\n",
              "    .dataframe tbody tr th {\n",
              "        vertical-align: top;\n",
              "    }\n",
              "\n",
              "    .dataframe thead th {\n",
              "        text-align: right;\n",
              "    }\n",
              "</style>\n",
              "<table border=\"1\" class=\"dataframe\">\n",
              "  <thead>\n",
              "    <tr style=\"text-align: right;\">\n",
              "      <th></th>\n",
              "      <th>Unnamed: 0</th>\n",
              "      <th>Count Missed</th>\n",
              "      <th>Label Id</th>\n",
              "      <th>Labels</th>\n",
              "      <th>Count Correct</th>\n",
              "      <th>missed %</th>\n",
              "      <th>total labels</th>\n",
              "      <th>Sensitivity</th>\n",
              "    </tr>\n",
              "  </thead>\n",
              "  <tbody>\n",
              "    <tr>\n",
              "      <th>0</th>\n",
              "      <td>35</td>\n",
              "      <td>65</td>\n",
              "      <td>31</td>\n",
              "      <td>sleeve</td>\n",
              "      <td>2566</td>\n",
              "      <td>2.470544</td>\n",
              "      <td>2631</td>\n",
              "      <td>97.529456</td>\n",
              "    </tr>\n",
              "    <tr>\n",
              "      <th>1</th>\n",
              "      <td>31</td>\n",
              "      <td>79</td>\n",
              "      <td>23</td>\n",
              "      <td>shoe</td>\n",
              "      <td>2040</td>\n",
              "      <td>3.728174</td>\n",
              "      <td>2119</td>\n",
              "      <td>96.271826</td>\n",
              "    </tr>\n",
              "    <tr>\n",
              "      <th>2</th>\n",
              "      <td>19</td>\n",
              "      <td>125</td>\n",
              "      <td>6</td>\n",
              "      <td>pants</td>\n",
              "      <td>1037</td>\n",
              "      <td>10.757315</td>\n",
              "      <td>1162</td>\n",
              "      <td>89.242685</td>\n",
              "    </tr>\n",
              "    <tr>\n",
              "      <th>3</th>\n",
              "      <td>2</td>\n",
              "      <td>568</td>\n",
              "      <td>33</td>\n",
              "      <td>neckline</td>\n",
              "      <td>2409</td>\n",
              "      <td>19.079610</td>\n",
              "      <td>2977</td>\n",
              "      <td>80.920390</td>\n",
              "    </tr>\n",
              "    <tr>\n",
              "      <th>4</th>\n",
              "      <td>5</td>\n",
              "      <td>334</td>\n",
              "      <td>10</td>\n",
              "      <td>dress</td>\n",
              "      <td>1308</td>\n",
              "      <td>20.341048</td>\n",
              "      <td>1642</td>\n",
              "      <td>79.658952</td>\n",
              "    </tr>\n",
              "  </tbody>\n",
              "</table>\n",
              "</div>"
            ],
            "text/plain": [
              "   Unnamed: 0  Count Missed  Label Id  ...   missed %  total labels  Sensitivity\n",
              "0          35            65        31  ...   2.470544          2631    97.529456\n",
              "1          31            79        23  ...   3.728174          2119    96.271826\n",
              "2          19           125         6  ...  10.757315          1162    89.242685\n",
              "3           2           568        33  ...  19.079610          2977    80.920390\n",
              "4           5           334        10  ...  20.341048          1642    79.658952\n",
              "\n",
              "[5 rows x 8 columns]"
            ]
          },
          "metadata": {
            "tags": []
          },
          "execution_count": 6
        }
      ]
    },
    {
      "cell_type": "code",
      "metadata": {
        "id": "29dFZTBu78j0",
        "colab_type": "code",
        "outputId": "e13b1209-84b2-45fc-d1c9-37a195830bd3",
        "colab": {
          "base_uri": "https://localhost:8080/",
          "height": 644
        }
      },
      "source": [
        "import seaborn as sns\n",
        "import matplotlib.pyplot as plt\n",
        "\n",
        "plt.figure(figsize=(20, 7))\n",
        "sns.barplot(error_analysis1['Labels'],error_analysis1['Sensitivity'])\n",
        "plt.xlabel(\"Labels\", fontsize=15)\n",
        "plt.xticks(rotation=90)\n",
        "plt.ylabel(\"Sensitivity %\", fontsize=15)\n",
        "plt.show()"
      ],
      "execution_count": 0,
      "outputs": [
        {
          "output_type": "display_data",
          "data": {
            "image/png": "[encoded data removed]",
            "text/plain": [
              "<Figure size 1440x504 with 1 Axes>"
            ]
          },
          "metadata": {
            "tags": []
          }
        }
      ]
    },
    {
      "cell_type": "code",
      "metadata": {
        "id": "Ii9rdd8v0WVy",
        "colab_type": "code",
        "outputId": "dfeedbd0-a225-4ef7-c9c7-2fffb693753b",
        "colab": {
          "base_uri": "https://localhost:8080/",
          "height": 35
        }
      },
      "source": [
        "# total_missed\n",
        "pd.DataFrame.from_dict(Counter(missed_list), orient='index').reset_index().sort_values(by = 0, ascending = False)[0].sum()"
      ],
      "execution_count": 0,
      "outputs": [
        {
          "output_type": "execute_result",
          "data": {
            "text/plain": [
              "7714"
            ]
          },
          "metadata": {
            "tags": []
          },
          "execution_count": 161
        }
      ]
    },
    {
      "cell_type": "code",
      "metadata": {
        "id": "QjOng6uE0a6l",
        "colab_type": "code",
        "outputId": "95034274-dbb5-44a0-ce1d-a34611c9d42b",
        "colab": {
          "base_uri": "https://localhost:8080/",
          "height": 35
        }
      },
      "source": [
        "# total_correct\n",
        "pd.DataFrame.from_dict(Counter(correct_list), orient='index').reset_index().sort_values(by = 0, ascending = False)[0].sum()"
      ],
      "execution_count": 0,
      "outputs": [
        {
          "output_type": "execute_result",
          "data": {
            "text/plain": [
              "14351"
            ]
          },
          "metadata": {
            "tags": []
          },
          "execution_count": 162
        }
      ]
    },
    {
      "cell_type": "code",
      "metadata": {
        "id": "oQJTShfY00_J",
        "colab_type": "code",
        "outputId": "8daf0030-1a17-41bb-c69a-5077a11b4274",
        "colab": {
          "base_uri": "https://localhost:8080/",
          "height": 35
        }
      },
      "source": [
        "pd.DataFrame.from_dict(Counter(extra_list), orient='index').reset_index().sort_values(by = 0, ascending = False)[0].sum()"
      ],
      "execution_count": 0,
      "outputs": [
        {
          "output_type": "execute_result",
          "data": {
            "text/plain": [
              "4514"
            ]
          },
          "metadata": {
            "tags": []
          },
          "execution_count": 163
        }
      ]
    }
  ]
}