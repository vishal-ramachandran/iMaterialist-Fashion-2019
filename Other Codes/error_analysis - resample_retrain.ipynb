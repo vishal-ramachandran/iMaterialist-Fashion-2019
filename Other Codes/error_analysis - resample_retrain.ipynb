{
  "nbformat": 4,
  "nbformat_minor": 0,
  "metadata": {
    "colab": {
      "name": "APM Error Retrain.ipynb",
      "provenance": [],
      "collapsed_sections": [],
      "toc_visible": true,
      "machine_shape": "hm"
    },
    "kernelspec": {
      "name": "python3",
      "display_name": "Python 3"
    },
    "accelerator": "GPU"
  },
  "cells": [
    {
      "cell_type": "markdown",
      "metadata": {
        "id": "H5M4AWxMR23w",
        "colab_type": "text"
      },
      "source": [
        "## Colab Setup"
      ]
    },
    {
      "cell_type": "code",
      "metadata": {
        "id": "6p8yiYmORkm5",
        "colab_type": "code",
        "outputId": "201c5c76-af4b-4f05-844b-53ad35ecbdbf",
        "colab": {
          "base_uri": "https://localhost:8080/",
          "height": 33
        }
      },
      "source": [
        "# mounting and connecting with drive\n",
        "from google.colab import drive\n",
        "drive.mount('/content/drive')"
      ],
      "execution_count": 39,
      "outputs": [
        {
          "output_type": "stream",
          "text": [
            "Drive already mounted at /content/drive; to attempt to forcibly remount, call drive.mount(\"/content/drive\", force_remount=True).\n"
          ],
          "name": "stdout"
        }
      ]
    },
    {
      "cell_type": "code",
      "metadata": {
        "id": "JHo7Im_hR6be",
        "colab_type": "code",
        "colab": {}
      },
      "source": [
        "# Setup colab\n",
        "!pip install -U -q PyDrive\n",
        "from pydrive.auth import GoogleAuth\n",
        "from pydrive.drive import GoogleDrive\n",
        "from google.colab import auth\n",
        "from oauth2client.client import GoogleCredentials\n",
        "# Authenticate and create the PyDrive client.\n",
        "auth.authenticate_user()\n",
        "gauth = GoogleAuth()\n",
        "gauth.credentials = GoogleCredentials.get_application_default()\n",
        "drive = GoogleDrive(gauth)"
      ],
      "execution_count": 0,
      "outputs": []
    },
    {
      "cell_type": "code",
      "metadata": {
        "id": "lCHSIaPwR6YL",
        "colab_type": "code",
        "outputId": "2368fd1f-7c70-46c1-da1f-07de31c3453b",
        "colab": {
          "base_uri": "https://localhost:8080/",
          "height": 33
        }
      },
      "source": [
        "# importing train file from gdrive\n",
        "link = 'https://drive.google.com/open?id=1-EME5voRfDtwq6iS1Zm9VuQnhSTkK6Ee' # Paste the shareable link here\n",
        "\n",
        "fluff, id = link.split('=')\n",
        "print (id) # Verify that you have everything after '='\n",
        "\n",
        "downloaded = drive.CreateFile({'id':id}) \n",
        "downloaded.GetContentFile('train.csv') # file will be stored as train.csv in the colab directory"
      ],
      "execution_count": 41,
      "outputs": [
        {
          "output_type": "stream",
          "text": [
            "1-EME5voRfDtwq6iS1Zm9VuQnhSTkK6Ee\n"
          ],
          "name": "stdout"
        }
      ]
    },
    {
      "cell_type": "code",
      "metadata": {
        "id": "4HX6dg0-R6V9",
        "colab_type": "code",
        "outputId": "222923db-55e8-4eae-fd1f-4869aceb8b40",
        "colab": {
          "base_uri": "https://localhost:8080/",
          "height": 33
        }
      },
      "source": [
        "# importing labels file from gdrive\n",
        "link = 'https://drive.google.com/open?id=1i6AIWVIyA4ECPFgoWrwQwASShbuNMmkr' # Paste the shareable link here\n",
        "\n",
        "fluff, id = link.split('=')\n",
        "print (id) # Verify that you have everything after '='\n",
        "\n",
        "downloaded = drive.CreateFile({'id':id}) \n",
        "downloaded.GetContentFile('labels.json')"
      ],
      "execution_count": 42,
      "outputs": [
        {
          "output_type": "stream",
          "text": [
            "1i6AIWVIyA4ECPFgoWrwQwASShbuNMmkr\n"
          ],
          "name": "stdout"
        }
      ]
    },
    {
      "cell_type": "code",
      "metadata": {
        "id": "CPoy-WgNSMVb",
        "colab_type": "code",
        "colab": {}
      },
      "source": [
        "# importing libraries\n",
        "import os\n",
        "import gc\n",
        "import sys\n",
        "import math\n",
        "import json\n",
        "import glob\n",
        "import random\n",
        "from pathlib import Path\n",
        "\n",
        "import cv2\n",
        "import numpy as np\n",
        "import pandas as pd\n",
        "import matplotlib.pyplot as plt\n",
        "import seaborn as sns\n",
        "\n",
        "import itertools\n",
        "from tqdm import tqdm\n",
        "\n",
        "from imgaug import augmenters as iaa\n",
        "from sklearn.model_selection import StratifiedKFold, KFold\n",
        "\n",
        "import tensorflow as tf"
      ],
      "execution_count": 0,
      "outputs": []
    },
    {
      "cell_type": "code",
      "metadata": {
        "id": "B7Q6eMSsSMR4",
        "colab_type": "code",
        "colab": {}
      },
      "source": [
        "# setting up path directory\n",
        "ROOT_DIR = Path('/content/')\n",
        "DATA_DIR = Path('/content/drive/My Drive/Projects/iMaterialist/')\n",
        "TRAIN_IMAGE_DIR = Path('/content/drive/My Drive/Medium_7K_train/')\n",
        "TEST_DIR = Path('/content/drive/My Drive/Medium_4K train/')"
      ],
      "execution_count": 0,
      "outputs": []
    },
    {
      "cell_type": "markdown",
      "metadata": {
        "id": "6pvdbdXwSQrq",
        "colab_type": "text"
      },
      "source": [
        "## Data Setup"
      ]
    },
    {
      "cell_type": "code",
      "metadata": {
        "id": "pAS6kd80SMP1",
        "colab_type": "code",
        "outputId": "94c9e334-ffcb-4aec-966a-9cb5255a86f6",
        "colab": {
          "base_uri": "https://localhost:8080/",
          "height": 200
        }
      },
      "source": [
        "# import train file \n",
        "import pandas as pd\n",
        "train = pd.read_csv('train.csv')\n",
        "train.head()"
      ],
      "execution_count": 45,
      "outputs": [
        {
          "output_type": "execute_result",
          "data": {
            "text/html": [
              "<div>\n",
              "<style scoped>\n",
              "    .dataframe tbody tr th:only-of-type {\n",
              "        vertical-align: middle;\n",
              "    }\n",
              "\n",
              "    .dataframe tbody tr th {\n",
              "        vertical-align: top;\n",
              "    }\n",
              "\n",
              "    .dataframe thead th {\n",
              "        text-align: right;\n",
              "    }\n",
              "</style>\n",
              "<table border=\"1\" class=\"dataframe\">\n",
              "  <thead>\n",
              "    <tr style=\"text-align: right;\">\n",
              "      <th></th>\n",
              "      <th>ImageId</th>\n",
              "      <th>EncodedPixels</th>\n",
              "      <th>Height</th>\n",
              "      <th>Width</th>\n",
              "      <th>ClassId</th>\n",
              "    </tr>\n",
              "  </thead>\n",
              "  <tbody>\n",
              "    <tr>\n",
              "      <th>0</th>\n",
              "      <td>00000663ed1ff0c4e0132b9b9ac53f6e.jpg</td>\n",
              "      <td>6068157 7 6073371 20 6078584 34 6083797 48 608...</td>\n",
              "      <td>5214</td>\n",
              "      <td>3676</td>\n",
              "      <td>6</td>\n",
              "    </tr>\n",
              "    <tr>\n",
              "      <th>1</th>\n",
              "      <td>00000663ed1ff0c4e0132b9b9ac53f6e.jpg</td>\n",
              "      <td>6323163 11 6328356 32 6333549 53 6338742 75 63...</td>\n",
              "      <td>5214</td>\n",
              "      <td>3676</td>\n",
              "      <td>0</td>\n",
              "    </tr>\n",
              "    <tr>\n",
              "      <th>2</th>\n",
              "      <td>00000663ed1ff0c4e0132b9b9ac53f6e.jpg</td>\n",
              "      <td>8521389 10 8526585 30 8531789 42 8537002 46 85...</td>\n",
              "      <td>5214</td>\n",
              "      <td>3676</td>\n",
              "      <td>28</td>\n",
              "    </tr>\n",
              "    <tr>\n",
              "      <th>3</th>\n",
              "      <td>00000663ed1ff0c4e0132b9b9ac53f6e.jpg</td>\n",
              "      <td>12903854 2 12909064 7 12914275 10 12919485 15 ...</td>\n",
              "      <td>5214</td>\n",
              "      <td>3676</td>\n",
              "      <td>31</td>\n",
              "    </tr>\n",
              "    <tr>\n",
              "      <th>4</th>\n",
              "      <td>00000663ed1ff0c4e0132b9b9ac53f6e.jpg</td>\n",
              "      <td>10837337 5 10842542 14 10847746 24 10852951 33...</td>\n",
              "      <td>5214</td>\n",
              "      <td>3676</td>\n",
              "      <td>32</td>\n",
              "    </tr>\n",
              "  </tbody>\n",
              "</table>\n",
              "</div>"
            ],
            "text/plain": [
              "                                ImageId  ... ClassId\n",
              "0  00000663ed1ff0c4e0132b9b9ac53f6e.jpg  ...       6\n",
              "1  00000663ed1ff0c4e0132b9b9ac53f6e.jpg  ...       0\n",
              "2  00000663ed1ff0c4e0132b9b9ac53f6e.jpg  ...      28\n",
              "3  00000663ed1ff0c4e0132b9b9ac53f6e.jpg  ...      31\n",
              "4  00000663ed1ff0c4e0132b9b9ac53f6e.jpg  ...      32\n",
              "\n",
              "[5 rows x 5 columns]"
            ]
          },
          "metadata": {
            "tags": []
          },
          "execution_count": 45
        }
      ]
    },
    {
      "cell_type": "code",
      "metadata": {
        "id": "4RDc87-uSMNd",
        "colab_type": "code",
        "colab": {}
      },
      "source": [
        "# extracting image metadata fom json file \n",
        "with open(ROOT_DIR/\"labels.json\") as f:\n",
        "    label_descriptions = json.load(f)\n",
        "\n",
        "label_names = [x['name'] for x in label_descriptions['categories']]"
      ],
      "execution_count": 0,
      "outputs": []
    },
    {
      "cell_type": "code",
      "metadata": {
        "id": "5x7j3-DATsG9",
        "colab_type": "code",
        "outputId": "b70db20a-370f-45aa-c770-31a17262735a",
        "colab": {
          "base_uri": "https://localhost:8080/",
          "height": 414
        }
      },
      "source": [
        "label_df = pd.DataFrame(label_names).reset_index()\n",
        "label_df.columns = ['Id','Labels']\n",
        "label_df[0:12]"
      ],
      "execution_count": 47,
      "outputs": [
        {
          "output_type": "execute_result",
          "data": {
            "text/html": [
              "<div>\n",
              "<style scoped>\n",
              "    .dataframe tbody tr th:only-of-type {\n",
              "        vertical-align: middle;\n",
              "    }\n",
              "\n",
              "    .dataframe tbody tr th {\n",
              "        vertical-align: top;\n",
              "    }\n",
              "\n",
              "    .dataframe thead th {\n",
              "        text-align: right;\n",
              "    }\n",
              "</style>\n",
              "<table border=\"1\" class=\"dataframe\">\n",
              "  <thead>\n",
              "    <tr style=\"text-align: right;\">\n",
              "      <th></th>\n",
              "      <th>Id</th>\n",
              "      <th>Labels</th>\n",
              "    </tr>\n",
              "  </thead>\n",
              "  <tbody>\n",
              "    <tr>\n",
              "      <th>0</th>\n",
              "      <td>0</td>\n",
              "      <td>shirt, blouse</td>\n",
              "    </tr>\n",
              "    <tr>\n",
              "      <th>1</th>\n",
              "      <td>1</td>\n",
              "      <td>top, t-shirt, sweatshirt</td>\n",
              "    </tr>\n",
              "    <tr>\n",
              "      <th>2</th>\n",
              "      <td>2</td>\n",
              "      <td>sweater</td>\n",
              "    </tr>\n",
              "    <tr>\n",
              "      <th>3</th>\n",
              "      <td>3</td>\n",
              "      <td>cardigan</td>\n",
              "    </tr>\n",
              "    <tr>\n",
              "      <th>4</th>\n",
              "      <td>4</td>\n",
              "      <td>jacket</td>\n",
              "    </tr>\n",
              "    <tr>\n",
              "      <th>5</th>\n",
              "      <td>5</td>\n",
              "      <td>vest</td>\n",
              "    </tr>\n",
              "    <tr>\n",
              "      <th>6</th>\n",
              "      <td>6</td>\n",
              "      <td>pants</td>\n",
              "    </tr>\n",
              "    <tr>\n",
              "      <th>7</th>\n",
              "      <td>7</td>\n",
              "      <td>shorts</td>\n",
              "    </tr>\n",
              "    <tr>\n",
              "      <th>8</th>\n",
              "      <td>8</td>\n",
              "      <td>skirt</td>\n",
              "    </tr>\n",
              "    <tr>\n",
              "      <th>9</th>\n",
              "      <td>9</td>\n",
              "      <td>coat</td>\n",
              "    </tr>\n",
              "    <tr>\n",
              "      <th>10</th>\n",
              "      <td>10</td>\n",
              "      <td>dress</td>\n",
              "    </tr>\n",
              "    <tr>\n",
              "      <th>11</th>\n",
              "      <td>11</td>\n",
              "      <td>jumpsuit</td>\n",
              "    </tr>\n",
              "  </tbody>\n",
              "</table>\n",
              "</div>"
            ],
            "text/plain": [
              "    Id                    Labels\n",
              "0    0             shirt, blouse\n",
              "1    1  top, t-shirt, sweatshirt\n",
              "2    2                   sweater\n",
              "3    3                  cardigan\n",
              "4    4                    jacket\n",
              "5    5                      vest\n",
              "6    6                     pants\n",
              "7    7                    shorts\n",
              "8    8                     skirt\n",
              "9    9                      coat\n",
              "10  10                     dress\n",
              "11  11                  jumpsuit"
            ]
          },
          "metadata": {
            "tags": []
          },
          "execution_count": 47
        }
      ]
    },
    {
      "cell_type": "code",
      "metadata": {
        "id": "uatt5UtGTsip",
        "colab_type": "code",
        "outputId": "e8202aad-ee72-40a0-a1f1-8b2e57022222",
        "colab": {
          "base_uri": "https://localhost:8080/",
          "height": 217
        }
      },
      "source": [
        "segment_df = train\n",
        "segment_df['CategoryId'] = segment_df['ClassId'].str.split('_').str[0]\n",
        "\n",
        "print(\"Total segments: \", len(segment_df))\n",
        "segment_df.head()"
      ],
      "execution_count": 48,
      "outputs": [
        {
          "output_type": "stream",
          "text": [
            "Total segments:  333415\n"
          ],
          "name": "stdout"
        },
        {
          "output_type": "execute_result",
          "data": {
            "text/html": [
              "<div>\n",
              "<style scoped>\n",
              "    .dataframe tbody tr th:only-of-type {\n",
              "        vertical-align: middle;\n",
              "    }\n",
              "\n",
              "    .dataframe tbody tr th {\n",
              "        vertical-align: top;\n",
              "    }\n",
              "\n",
              "    .dataframe thead th {\n",
              "        text-align: right;\n",
              "    }\n",
              "</style>\n",
              "<table border=\"1\" class=\"dataframe\">\n",
              "  <thead>\n",
              "    <tr style=\"text-align: right;\">\n",
              "      <th></th>\n",
              "      <th>ImageId</th>\n",
              "      <th>EncodedPixels</th>\n",
              "      <th>Height</th>\n",
              "      <th>Width</th>\n",
              "      <th>ClassId</th>\n",
              "      <th>CategoryId</th>\n",
              "    </tr>\n",
              "  </thead>\n",
              "  <tbody>\n",
              "    <tr>\n",
              "      <th>0</th>\n",
              "      <td>00000663ed1ff0c4e0132b9b9ac53f6e.jpg</td>\n",
              "      <td>6068157 7 6073371 20 6078584 34 6083797 48 608...</td>\n",
              "      <td>5214</td>\n",
              "      <td>3676</td>\n",
              "      <td>6</td>\n",
              "      <td>6</td>\n",
              "    </tr>\n",
              "    <tr>\n",
              "      <th>1</th>\n",
              "      <td>00000663ed1ff0c4e0132b9b9ac53f6e.jpg</td>\n",
              "      <td>6323163 11 6328356 32 6333549 53 6338742 75 63...</td>\n",
              "      <td>5214</td>\n",
              "      <td>3676</td>\n",
              "      <td>0</td>\n",
              "      <td>0</td>\n",
              "    </tr>\n",
              "    <tr>\n",
              "      <th>2</th>\n",
              "      <td>00000663ed1ff0c4e0132b9b9ac53f6e.jpg</td>\n",
              "      <td>8521389 10 8526585 30 8531789 42 8537002 46 85...</td>\n",
              "      <td>5214</td>\n",
              "      <td>3676</td>\n",
              "      <td>28</td>\n",
              "      <td>28</td>\n",
              "    </tr>\n",
              "    <tr>\n",
              "      <th>3</th>\n",
              "      <td>00000663ed1ff0c4e0132b9b9ac53f6e.jpg</td>\n",
              "      <td>12903854 2 12909064 7 12914275 10 12919485 15 ...</td>\n",
              "      <td>5214</td>\n",
              "      <td>3676</td>\n",
              "      <td>31</td>\n",
              "      <td>31</td>\n",
              "    </tr>\n",
              "    <tr>\n",
              "      <th>4</th>\n",
              "      <td>00000663ed1ff0c4e0132b9b9ac53f6e.jpg</td>\n",
              "      <td>10837337 5 10842542 14 10847746 24 10852951 33...</td>\n",
              "      <td>5214</td>\n",
              "      <td>3676</td>\n",
              "      <td>32</td>\n",
              "      <td>32</td>\n",
              "    </tr>\n",
              "  </tbody>\n",
              "</table>\n",
              "</div>"
            ],
            "text/plain": [
              "                                ImageId  ... CategoryId\n",
              "0  00000663ed1ff0c4e0132b9b9ac53f6e.jpg  ...          6\n",
              "1  00000663ed1ff0c4e0132b9b9ac53f6e.jpg  ...          0\n",
              "2  00000663ed1ff0c4e0132b9b9ac53f6e.jpg  ...         28\n",
              "3  00000663ed1ff0c4e0132b9b9ac53f6e.jpg  ...         31\n",
              "4  00000663ed1ff0c4e0132b9b9ac53f6e.jpg  ...         32\n",
              "\n",
              "[5 rows x 6 columns]"
            ]
          },
          "metadata": {
            "tags": []
          },
          "execution_count": 48
        }
      ]
    },
    {
      "cell_type": "code",
      "metadata": {
        "id": "1Ha4Y1iSSMK9",
        "colab_type": "code",
        "outputId": "7bf66746-1a89-4fec-b156-61071fec14a3",
        "colab": {
          "base_uri": "https://localhost:8080/",
          "height": 200
        }
      },
      "source": [
        "error_analysis1 = pd.read_csv('/content/drive/My Drive/Projects/iMaterialist/trained weights/error_analysis1.csv')\n",
        "error_analysis1.head()"
      ],
      "execution_count": 49,
      "outputs": [
        {
          "output_type": "execute_result",
          "data": {
            "text/html": [
              "<div>\n",
              "<style scoped>\n",
              "    .dataframe tbody tr th:only-of-type {\n",
              "        vertical-align: middle;\n",
              "    }\n",
              "\n",
              "    .dataframe tbody tr th {\n",
              "        vertical-align: top;\n",
              "    }\n",
              "\n",
              "    .dataframe thead th {\n",
              "        text-align: right;\n",
              "    }\n",
              "</style>\n",
              "<table border=\"1\" class=\"dataframe\">\n",
              "  <thead>\n",
              "    <tr style=\"text-align: right;\">\n",
              "      <th></th>\n",
              "      <th>Unnamed: 0</th>\n",
              "      <th>Count Missed</th>\n",
              "      <th>Label Id</th>\n",
              "      <th>Labels</th>\n",
              "      <th>Count Correct</th>\n",
              "      <th>missed %</th>\n",
              "      <th>total labels</th>\n",
              "    </tr>\n",
              "  </thead>\n",
              "  <tbody>\n",
              "    <tr>\n",
              "      <th>0</th>\n",
              "      <td>35</td>\n",
              "      <td>65</td>\n",
              "      <td>31</td>\n",
              "      <td>sleeve</td>\n",
              "      <td>2566.0</td>\n",
              "      <td>2.470544</td>\n",
              "      <td>2631.0</td>\n",
              "    </tr>\n",
              "    <tr>\n",
              "      <th>1</th>\n",
              "      <td>31</td>\n",
              "      <td>79</td>\n",
              "      <td>23</td>\n",
              "      <td>shoe</td>\n",
              "      <td>2040.0</td>\n",
              "      <td>3.728174</td>\n",
              "      <td>2119.0</td>\n",
              "    </tr>\n",
              "    <tr>\n",
              "      <th>2</th>\n",
              "      <td>19</td>\n",
              "      <td>125</td>\n",
              "      <td>6</td>\n",
              "      <td>pants</td>\n",
              "      <td>1037.0</td>\n",
              "      <td>10.757315</td>\n",
              "      <td>1162.0</td>\n",
              "    </tr>\n",
              "    <tr>\n",
              "      <th>3</th>\n",
              "      <td>2</td>\n",
              "      <td>568</td>\n",
              "      <td>33</td>\n",
              "      <td>neckline</td>\n",
              "      <td>2409.0</td>\n",
              "      <td>19.079610</td>\n",
              "      <td>2977.0</td>\n",
              "    </tr>\n",
              "    <tr>\n",
              "      <th>4</th>\n",
              "      <td>5</td>\n",
              "      <td>334</td>\n",
              "      <td>10</td>\n",
              "      <td>dress</td>\n",
              "      <td>1308.0</td>\n",
              "      <td>20.341048</td>\n",
              "      <td>1642.0</td>\n",
              "    </tr>\n",
              "  </tbody>\n",
              "</table>\n",
              "</div>"
            ],
            "text/plain": [
              "   Unnamed: 0  Count Missed  Label Id  ... Count Correct   missed %  total labels\n",
              "0          35            65        31  ...        2566.0   2.470544        2631.0\n",
              "1          31            79        23  ...        2040.0   3.728174        2119.0\n",
              "2          19           125         6  ...        1037.0  10.757315        1162.0\n",
              "3           2           568        33  ...        2409.0  19.079610        2977.0\n",
              "4           5           334        10  ...        1308.0  20.341048        1642.0\n",
              "\n",
              "[5 rows x 7 columns]"
            ]
          },
          "metadata": {
            "tags": []
          },
          "execution_count": 49
        }
      ]
    },
    {
      "cell_type": "code",
      "metadata": {
        "id": "OitL0VpmSMIq",
        "colab_type": "code",
        "outputId": "79236800-c021-4a72-da09-8548e5b4c9f1",
        "colab": {
          "base_uri": "https://localhost:8080/",
          "height": 200
        }
      },
      "source": [
        "subset_labels = error_analysis1[error_analysis1['missed %']>35].loc[:,['Label Id','Labels','missed %']]\n",
        "subset_labels.head()"
      ],
      "execution_count": 50,
      "outputs": [
        {
          "output_type": "execute_result",
          "data": {
            "text/html": [
              "<div>\n",
              "<style scoped>\n",
              "    .dataframe tbody tr th:only-of-type {\n",
              "        vertical-align: middle;\n",
              "    }\n",
              "\n",
              "    .dataframe tbody tr th {\n",
              "        vertical-align: top;\n",
              "    }\n",
              "\n",
              "    .dataframe thead th {\n",
              "        text-align: right;\n",
              "    }\n",
              "</style>\n",
              "<table border=\"1\" class=\"dataframe\">\n",
              "  <thead>\n",
              "    <tr style=\"text-align: right;\">\n",
              "      <th></th>\n",
              "      <th>Label Id</th>\n",
              "      <th>Labels</th>\n",
              "      <th>missed %</th>\n",
              "    </tr>\n",
              "  </thead>\n",
              "  <tbody>\n",
              "    <tr>\n",
              "      <th>8</th>\n",
              "      <td>14</td>\n",
              "      <td>hat</td>\n",
              "      <td>38.211382</td>\n",
              "    </tr>\n",
              "    <tr>\n",
              "      <th>9</th>\n",
              "      <td>4</td>\n",
              "      <td>jacket</td>\n",
              "      <td>39.389535</td>\n",
              "    </tr>\n",
              "    <tr>\n",
              "      <th>10</th>\n",
              "      <td>1</td>\n",
              "      <td>top, t-shirt, sweatshirt</td>\n",
              "      <td>39.496941</td>\n",
              "    </tr>\n",
              "    <tr>\n",
              "      <th>11</th>\n",
              "      <td>7</td>\n",
              "      <td>shorts</td>\n",
              "      <td>44.588745</td>\n",
              "    </tr>\n",
              "    <tr>\n",
              "      <th>12</th>\n",
              "      <td>18</td>\n",
              "      <td>watch</td>\n",
              "      <td>45.962733</td>\n",
              "    </tr>\n",
              "  </tbody>\n",
              "</table>\n",
              "</div>"
            ],
            "text/plain": [
              "    Label Id                    Labels   missed %\n",
              "8         14                       hat  38.211382\n",
              "9          4                    jacket  39.389535\n",
              "10         1  top, t-shirt, sweatshirt  39.496941\n",
              "11         7                    shorts  44.588745\n",
              "12        18                     watch  45.962733"
            ]
          },
          "metadata": {
            "tags": []
          },
          "execution_count": 50
        }
      ]
    },
    {
      "cell_type": "code",
      "metadata": {
        "id": "Aagsk70CUWry",
        "colab_type": "code",
        "colab": {}
      },
      "source": [
        "segment_df['CategoryId'] = segment_df['CategoryId'].astype(int)"
      ],
      "execution_count": 0,
      "outputs": []
    },
    {
      "cell_type": "code",
      "metadata": {
        "id": "JkSjnWqPRdA8",
        "colab_type": "code",
        "outputId": "b5e6c6e2-a32f-4c11-c169-3c7d75cd26bb",
        "colab": {
          "base_uri": "https://localhost:8080/",
          "height": 33
        }
      },
      "source": [
        "# subset the images for labels we want to train on \n",
        "segment_df = segment_df.merge(subset_labels,how='inner', left_on = 'CategoryId',right_on='Label Id')\n",
        "segment_df.shape"
      ],
      "execution_count": 52,
      "outputs": [
        {
          "output_type": "execute_result",
          "data": {
            "text/plain": [
              "(103388, 9)"
            ]
          },
          "metadata": {
            "tags": []
          },
          "execution_count": 52
        }
      ]
    },
    {
      "cell_type": "code",
      "metadata": {
        "id": "UdtZm_xHRfoQ",
        "colab_type": "code",
        "outputId": "9d4dd22b-966c-4382-c859-bbd983c51607",
        "colab": {
          "base_uri": "https://localhost:8080/",
          "height": 248
        }
      },
      "source": [
        "# Rows with the same image are grouped together because the subsequent operations perform at an image level\n",
        "image_df = segment_df.groupby('ImageId')['EncodedPixels', 'CategoryId'].agg(lambda x: list(x))\n",
        "size_df = segment_df.groupby('ImageId')['Height', 'Width'].mean()\n",
        "image_df = image_df.join(size_df, on='ImageId')\n",
        "\n",
        "print(\"Total images: \", len(image_df))\n",
        "image_df.head()"
      ],
      "execution_count": 53,
      "outputs": [
        {
          "output_type": "stream",
          "text": [
            "Total images:  34458\n"
          ],
          "name": "stdout"
        },
        {
          "output_type": "execute_result",
          "data": {
            "text/html": [
              "<div>\n",
              "<style scoped>\n",
              "    .dataframe tbody tr th:only-of-type {\n",
              "        vertical-align: middle;\n",
              "    }\n",
              "\n",
              "    .dataframe tbody tr th {\n",
              "        vertical-align: top;\n",
              "    }\n",
              "\n",
              "    .dataframe thead th {\n",
              "        text-align: right;\n",
              "    }\n",
              "</style>\n",
              "<table border=\"1\" class=\"dataframe\">\n",
              "  <thead>\n",
              "    <tr style=\"text-align: right;\">\n",
              "      <th></th>\n",
              "      <th>EncodedPixels</th>\n",
              "      <th>CategoryId</th>\n",
              "      <th>Height</th>\n",
              "      <th>Width</th>\n",
              "    </tr>\n",
              "    <tr>\n",
              "      <th>ImageId</th>\n",
              "      <th></th>\n",
              "      <th></th>\n",
              "      <th></th>\n",
              "      <th></th>\n",
              "    </tr>\n",
              "  </thead>\n",
              "  <tbody>\n",
              "    <tr>\n",
              "      <th>00000663ed1ff0c4e0132b9b9ac53f6e.jpg</th>\n",
              "      <td>[6323163 11 6328356 32 6333549 53 6338742 75 6...</td>\n",
              "      <td>[0, 32, 32, 4]</td>\n",
              "      <td>5214</td>\n",
              "      <td>3676</td>\n",
              "    </tr>\n",
              "    <tr>\n",
              "      <th>0000fe7c9191fba733c8a69cfaf962b7.jpg</th>\n",
              "      <td>[1343707 9 1346138 27 1348569 44 1351000 62 13...</td>\n",
              "      <td>[1]</td>\n",
              "      <td>2448</td>\n",
              "      <td>2448</td>\n",
              "    </tr>\n",
              "    <tr>\n",
              "      <th>0002f5a0ebc162ecfb73e2c91e3b8f62.jpg</th>\n",
              "      <td>[133262 2 133826 4 134390 6 134956 7 135522 7 ...</td>\n",
              "      <td>[15]</td>\n",
              "      <td>567</td>\n",
              "      <td>400</td>\n",
              "    </tr>\n",
              "    <tr>\n",
              "      <th>0004467156e47b0eb6de4aa6479cbd15.jpg</th>\n",
              "      <td>[192100 1 192849 4 193598 4 194347 4 195097 4 ...</td>\n",
              "      <td>[15]</td>\n",
              "      <td>750</td>\n",
              "      <td>500</td>\n",
              "    </tr>\n",
              "    <tr>\n",
              "      <th>00048c3a2fb9c29340473c4cfc06424a.jpg</th>\n",
              "      <td>[257702 10 258670 26 259640 36 260572 6 260610...</td>\n",
              "      <td>[1, 8, 35, 24]</td>\n",
              "      <td>975</td>\n",
              "      <td>650</td>\n",
              "    </tr>\n",
              "  </tbody>\n",
              "</table>\n",
              "</div>"
            ],
            "text/plain": [
              "                                                                          EncodedPixels  ... Width\n",
              "ImageId                                                                                  ...      \n",
              "00000663ed1ff0c4e0132b9b9ac53f6e.jpg  [6323163 11 6328356 32 6333549 53 6338742 75 6...  ...  3676\n",
              "0000fe7c9191fba733c8a69cfaf962b7.jpg  [1343707 9 1346138 27 1348569 44 1351000 62 13...  ...  2448\n",
              "0002f5a0ebc162ecfb73e2c91e3b8f62.jpg  [133262 2 133826 4 134390 6 134956 7 135522 7 ...  ...   400\n",
              "0004467156e47b0eb6de4aa6479cbd15.jpg  [192100 1 192849 4 193598 4 194347 4 195097 4 ...  ...   500\n",
              "00048c3a2fb9c29340473c4cfc06424a.jpg  [257702 10 258670 26 259640 36 260572 6 260610...  ...   650\n",
              "\n",
              "[5 rows x 4 columns]"
            ]
          },
          "metadata": {
            "tags": []
          },
          "execution_count": 53
        }
      ]
    },
    {
      "cell_type": "code",
      "metadata": {
        "id": "h3luaBJdUmXs",
        "colab_type": "code",
        "colab": {}
      },
      "source": [
        "# Since we are training on subset of images\n",
        "\n",
        "images = os.listdir(TRAIN_IMAGE_DIR)\n",
        "uploaded_images = pd.DataFrame(images, columns = ['image_name'])\n",
        "image_df = image_df[image_df.index.isin(uploaded_images['image_name'])]"
      ],
      "execution_count": 0,
      "outputs": []
    },
    {
      "cell_type": "code",
      "metadata": {
        "id": "GCjsYDj1VDC0",
        "colab_type": "code",
        "colab": {}
      },
      "source": [
        "# Partition data in train and test\n",
        "FOLD = 0\n",
        "N_FOLDS = 5\n",
        "\n",
        "kf = KFold(n_splits=N_FOLDS, random_state=42, shuffle=True)\n",
        "splits = kf.split(image_df) # ideally, this should be multilabel stratification\n",
        "\n",
        "def get_fold():    \n",
        "    for i, (train_index, valid_index) in enumerate(splits):\n",
        "        if i == FOLD:\n",
        "            return image_df.iloc[train_index], image_df.iloc[valid_index]\n",
        "        \n",
        "train_df, valid_df = get_fold()"
      ],
      "execution_count": 0,
      "outputs": []
    },
    {
      "cell_type": "markdown",
      "metadata": {
        "id": "9lRRTh6ZWdqI",
        "colab_type": "text"
      },
      "source": [
        "## Setting up Mask RCNN"
      ]
    },
    {
      "cell_type": "code",
      "metadata": {
        "id": "5QgxqlOwWfi8",
        "colab_type": "code",
        "outputId": "7610330c-0255-4e29-828a-ad6a771c94c3",
        "colab": {
          "base_uri": "https://localhost:8080/",
          "height": 117
        }
      },
      "source": [
        "# import matterport Mask-RCNN implementation\n",
        "!git clone https://www.github.com/matterport/Mask_RCNN.git;\n",
        "os.chdir('Mask_RCNN')\n",
        "\n",
        "!rm -rf .git # to prevent an error when the kernel is committed\n",
        "!rm -rf images assets # to prevent displaying images at the bottom of a kernel\n",
        "\n",
        "sys.path.append(ROOT_DIR/'Mask_RCNN')\n",
        "from mrcnn.config import Config\n",
        "from mrcnn import utils\n",
        "import mrcnn.model as modellib\n",
        "from mrcnn import visualize\n",
        "from mrcnn.model import log"
      ],
      "execution_count": 56,
      "outputs": [
        {
          "output_type": "stream",
          "text": [
            "Cloning into 'Mask_RCNN'...\n",
            "warning: redirecting to https://github.com/matterport/Mask_RCNN.git/\n",
            "remote: Enumerating objects: 956, done.\u001b[K\n",
            "remote: Total 956 (delta 0), reused 0 (delta 0), pack-reused 956\u001b[K\n",
            "Receiving objects: 100% (956/956), 111.83 MiB | 43.73 MiB/s, done.\n",
            "Resolving deltas: 100% (569/569), done.\n"
          ],
          "name": "stdout"
        }
      ]
    },
    {
      "cell_type": "code",
      "metadata": {
        "id": "m_ItwUMXWheo",
        "colab_type": "code",
        "colab": {}
      },
      "source": [
        "# Already have trained weights, we will continue on those weights\n",
        "pre_trained_weight = '/content/drive/My Drive/Projects/iMaterialist/trained weights/weights_0.08133.h5'"
      ],
      "execution_count": 0,
      "outputs": []
    },
    {
      "cell_type": "code",
      "metadata": {
        "id": "PY28dhOyWjW_",
        "colab_type": "code",
        "outputId": "1da0d670-3e0e-4db4-e8d3-3dd1fe030809",
        "colab": {
          "base_uri": "https://localhost:8080/",
          "height": 908
        }
      },
      "source": [
        "# Set configuration\n",
        "\n",
        "NUM_CATS = 46 # subset_labels['Label Id'].nunique()  # classification ignoring attributes (only categories)\n",
        "IMAGE_SIZE = 512 # the image size is set to 512, which is the same as the size of submission masks\n",
        "\n",
        "class FashionConfig(Config):\n",
        "    NAME = \"fashion\"\n",
        "    NUM_CLASSES = NUM_CATS + 1 # +1 for the background class\n",
        "    \n",
        "    GPU_COUNT = 1\n",
        "    IMAGES_PER_GPU = 4 # Batch size\n",
        "    \n",
        "    BACKBONE = 'resnet50' #maybe try resnet 101 too, resnet 101 might give better results\n",
        "    \n",
        "    IMAGE_MIN_DIM = IMAGE_SIZE\n",
        "    IMAGE_MAX_DIM = IMAGE_SIZE    \n",
        "    IMAGE_RESIZE_MODE = \"none\"\n",
        "    \n",
        "    RPN_ANCHOR_SCALES = (16, 32, 64, 128, 256)\n",
        "\n",
        "    STEPS_PER_EPOCH = 1000\n",
        "    VALIDATION_STEPS = 100\n",
        "\n",
        "    MAX_GT_INSTANCES = 50\n",
        "    DETECTION_MAX_INSTANCES = 50\n",
        "\n",
        "    LOSS_WEIGHTS = {\n",
        "          \"rpn_class_loss\": 10.0, # How well the Region Proposal Network separates background with objetcs\n",
        "          \"rpn_bbox_loss\": 0.8, # How well the RPN localize objects\n",
        "          \"mrcnn_class_loss\": 6.0, # How well the Mask RCNN localize objects\n",
        "          \"mrcnn_bbox_loss\": 6.0, # How well the Mask RCNN recognize each class of object\n",
        "          \"mrcnn_mask_loss\": 6.0 # How well the Mask RCNN segment objects\n",
        "    }\n",
        "    \n",
        "config = FashionConfig()\n",
        "config.display()"
      ],
      "execution_count": 58,
      "outputs": [
        {
          "output_type": "stream",
          "text": [
            "\n",
            "Configurations:\n",
            "BACKBONE                       resnet50\n",
            "BACKBONE_STRIDES               [4, 8, 16, 32, 64]\n",
            "BATCH_SIZE                     4\n",
            "BBOX_STD_DEV                   [0.1 0.1 0.2 0.2]\n",
            "COMPUTE_BACKBONE_SHAPE         None\n",
            "DETECTION_MAX_INSTANCES        50\n",
            "DETECTION_MIN_CONFIDENCE       0.7\n",
            "DETECTION_NMS_THRESHOLD        0.3\n",
            "FPN_CLASSIF_FC_LAYERS_SIZE     1024\n",
            "GPU_COUNT                      1\n",
            "GRADIENT_CLIP_NORM             5.0\n",
            "IMAGES_PER_GPU                 4\n",
            "IMAGE_CHANNEL_COUNT            3\n",
            "IMAGE_MAX_DIM                  512\n",
            "IMAGE_META_SIZE                59\n",
            "IMAGE_MIN_DIM                  512\n",
            "IMAGE_MIN_SCALE                0\n",
            "IMAGE_RESIZE_MODE              none\n",
            "IMAGE_SHAPE                    [512 512   3]\n",
            "LEARNING_MOMENTUM              0.9\n",
            "LEARNING_RATE                  0.001\n",
            "LOSS_WEIGHTS                   {'rpn_class_loss': 10.0, 'rpn_bbox_loss': 0.8, 'mrcnn_class_loss': 6.0, 'mrcnn_bbox_loss': 6.0, 'mrcnn_mask_loss': 6.0}\n",
            "MASK_POOL_SIZE                 14\n",
            "MASK_SHAPE                     [28, 28]\n",
            "MAX_GT_INSTANCES               50\n",
            "MEAN_PIXEL                     [123.7 116.8 103.9]\n",
            "MINI_MASK_SHAPE                (56, 56)\n",
            "NAME                           fashion\n",
            "NUM_CLASSES                    47\n",
            "POOL_SIZE                      7\n",
            "POST_NMS_ROIS_INFERENCE        1000\n",
            "POST_NMS_ROIS_TRAINING         2000\n",
            "PRE_NMS_LIMIT                  6000\n",
            "ROI_POSITIVE_RATIO             0.33\n",
            "RPN_ANCHOR_RATIOS              [0.5, 1, 2]\n",
            "RPN_ANCHOR_SCALES              (16, 32, 64, 128, 256)\n",
            "RPN_ANCHOR_STRIDE              1\n",
            "RPN_BBOX_STD_DEV               [0.1 0.1 0.2 0.2]\n",
            "RPN_NMS_THRESHOLD              0.7\n",
            "RPN_TRAIN_ANCHORS_PER_IMAGE    256\n",
            "STEPS_PER_EPOCH                1000\n",
            "TOP_DOWN_PYRAMID_SIZE          256\n",
            "TRAIN_BN                       False\n",
            "TRAIN_ROIS_PER_IMAGE           200\n",
            "USE_MINI_MASK                  True\n",
            "USE_RPN_ROIS                   True\n",
            "VALIDATION_STEPS               100\n",
            "WEIGHT_DECAY                   0.0001\n",
            "\n",
            "\n"
          ],
          "name": "stdout"
        }
      ]
    },
    {
      "cell_type": "code",
      "metadata": {
        "id": "Ep7aamnMXBCz",
        "colab_type": "code",
        "colab": {}
      },
      "source": [
        "# custom function to resize an image, we are resizing image to 512X512; suitable for submission\n",
        "def resize_image(image_path):\n",
        "    img = cv2.imread(image_path)\n",
        "    img = cv2.cvtColor(img, cv2.COLOR_BGR2RGB)\n",
        "    img = cv2.resize(img, (IMAGE_SIZE, IMAGE_SIZE), interpolation=cv2.INTER_AREA)  \n",
        "    return img"
      ],
      "execution_count": 0,
      "outputs": []
    },
    {
      "cell_type": "code",
      "metadata": {
        "id": "omX9ZCMzXWH-",
        "colab_type": "code",
        "colab": {}
      },
      "source": [
        "#  MaskRCNN Class\n",
        "\n",
        "class FashionDataset(utils.Dataset):\n",
        "\n",
        "    def __init__(self, df):\n",
        "        super().__init__(self)\n",
        "        \n",
        "        # Add classes\n",
        "        for i, name in enumerate(label_names):\n",
        "            self.add_class(\"fashion\", i+1, name)\n",
        "        \n",
        "        # Add images \n",
        "        for i, row in df.iterrows():\n",
        "            self.add_image(\"fashion\", \n",
        "                           image_id=row.name, \n",
        "                           path=str(TRAIN_IMAGE_DIR/row.name), \n",
        "                           labels=row['CategoryId'],\n",
        "                           annotations=row['EncodedPixels'], \n",
        "                           height=row['Height'], width=row['Width'])\n",
        "\n",
        "    def image_reference(self, image_id):\n",
        "        info = self.image_info[image_id]\n",
        "        return info['path'], [label_names[int(x)] for x in info['labels']]\n",
        "    \n",
        "    def load_image(self, image_id):\n",
        "        return resize_image(self.image_info[image_id]['path'])\n",
        "\n",
        "    def load_mask(self, image_id):\n",
        "        info = self.image_info[image_id]\n",
        "                \n",
        "        mask = np.zeros((IMAGE_SIZE, IMAGE_SIZE, len(info['annotations'])), dtype=np.uint8)\n",
        "        labels = []\n",
        "        \n",
        "        for m, (annotation, label) in enumerate(zip(info['annotations'], info['labels'])):\n",
        "            sub_mask = np.full(info['height']*info['width'], 0, dtype=np.uint8)\n",
        "            annotation = [int(x) for x in annotation.split(' ')]\n",
        "            \n",
        "            for i, start_pixel in enumerate(annotation[::2]):\n",
        "                sub_mask[start_pixel: start_pixel+annotation[2*i+1]] = 1\n",
        "\n",
        "            sub_mask = sub_mask.reshape((info['height'], info['width']), order='F')\n",
        "            sub_mask = cv2.resize(sub_mask, (IMAGE_SIZE, IMAGE_SIZE), interpolation=cv2.INTER_NEAREST)\n",
        "            \n",
        "            mask[:, :, m] = sub_mask\n",
        "            labels.append(int(label)+1)\n",
        "            \n",
        "        return mask, np.array(labels)"
      ],
      "execution_count": 0,
      "outputs": []
    },
    {
      "cell_type": "code",
      "metadata": {
        "id": "pjOzK7JeXYQs",
        "colab_type": "code",
        "outputId": "d4f1664b-bfc6-41c3-dd28-9b1652393e6f",
        "colab": {
          "base_uri": "https://localhost:8080/",
          "height": 537
        }
      },
      "source": [
        "# Visualizing random images\n",
        "dataset = FashionDataset(image_df)\n",
        "dataset.prepare()\n",
        "\n",
        "for i in range(3):\n",
        "    image_id = random.choice(dataset.image_ids)\n",
        "    print(dataset.image_reference(image_id))\n",
        "    \n",
        "    image = dataset.load_image(image_id)\n",
        "    mask, class_ids = dataset.load_mask(image_id)\n",
        "    visualize.display_top_masks(image, mask, class_ids, dataset.class_names, limit=4)"
      ],
      "execution_count": 61,
      "outputs": [
        {
          "output_type": "stream",
          "text": [
            "('/content/drive/My Drive/Medium_7K_train/72ee179d4356aeaea73dd59849fb9132.jpg', ['bag, wallet', 'belt', 'buckle'])\n"
          ],
          "name": "stdout"
        },
        {
          "output_type": "display_data",
          "data": {
            "image/png": "[encoded data removed]",
            "text/plain": [
              "<Figure size 1008x360 with 5 Axes>"
            ]
          },
          "metadata": {
            "tags": []
          }
        },
        {
          "output_type": "stream",
          "text": [
            "('/content/drive/My Drive/Medium_7K_train/0624b7e0b71d638702de11c9fe168662.jpg', ['jacket', 'top, t-shirt, sweatshirt', 'shorts'])\n"
          ],
          "name": "stdout"
        },
        {
          "output_type": "display_data",
          "data": {
            "image/png": "[encoded data removed]",
            "text/plain": [
              "<Figure size 1008x360 with 5 Axes>"
            ]
          },
          "metadata": {
            "tags": []
          }
        },
        {
          "output_type": "stream",
          "text": [
            "('/content/drive/My Drive/Medium_7K_train/69aed9030ff7e61aeaa161b935cce2ab.jpg', ['pocket', 'pocket', 'top, t-shirt, sweatshirt', 'shorts'])\n"
          ],
          "name": "stdout"
        },
        {
          "output_type": "display_data",
          "data": {
            "image/png": "[encoded data removed]",
            "text/plain": [
              "<Figure size 1008x360 with 5 Axes>"
            ]
          },
          "metadata": {
            "tags": []
          }
        }
      ]
    },
    {
      "cell_type": "code",
      "metadata": {
        "id": "zSDTN6fGXgsi",
        "colab_type": "code",
        "colab": {}
      },
      "source": [
        "# Prepare Data\n",
        "train_dataset = FashionDataset(train_df)\n",
        "train_dataset.prepare()\n",
        "\n",
        "valid_dataset = FashionDataset(valid_df)\n",
        "valid_dataset.prepare()"
      ],
      "execution_count": 0,
      "outputs": []
    },
    {
      "cell_type": "markdown",
      "metadata": {
        "id": "0lJb0FcpXiA9",
        "colab_type": "text"
      },
      "source": [
        "## Training"
      ]
    },
    {
      "cell_type": "code",
      "metadata": {
        "id": "Ea5FsLfPXhEA",
        "colab_type": "code",
        "colab": {}
      },
      "source": [
        "# Image augmentation\n",
        "augmentation = iaa.Sequential([\n",
        "    iaa.OneOf([ ## rotate\n",
        "        iaa.Affine(rotate=0),\n",
        "        iaa.Affine(rotate=90),\n",
        "        iaa.Affine(rotate=180),\n",
        "        iaa.Affine(rotate=270),\n",
        "    ]),\n",
        "    iaa.Fliplr(0.5),\n",
        "    iaa.Flipud(0.5),\n",
        "    iaa.OneOf([ ## brightness or contrast\n",
        "        iaa.Multiply((0.9, 1.1)),\n",
        "        iaa.ContrastNormalization((0.9, 1.1)),\n",
        "    ]),\n",
        "    iaa.OneOf([ ## blur or sharpen\n",
        "        iaa.GaussianBlur(sigma=(0.0, 0.3)),\n",
        "        iaa.Sharpen(alpha=(0.0, 0.3)),\n",
        "    ]),\n",
        "])"
      ],
      "execution_count": 0,
      "outputs": []
    },
    {
      "cell_type": "code",
      "metadata": {
        "id": "Do9zdnIiXncE",
        "colab_type": "code",
        "outputId": "3479f729-487e-4714-d641-7cd5a8bed227",
        "colab": {
          "base_uri": "https://localhost:8080/",
          "height": 641
        }
      },
      "source": [
        "# create a Mask R-CNN model and specifies augmentations to be used.\n",
        "\n",
        "model = modellib.MaskRCNN(mode='training', config=config, model_dir=ROOT_DIR);\n",
        "model.load_weights(pre_trained_weight, by_name=True, exclude=['mrcnn_class_logits', 'mrcnn_bbox_fc', 'mrcnn_bbox', 'mrcnn_mask'])"
      ],
      "execution_count": 0,
      "outputs": [
        {
          "output_type": "stream",
          "text": [
            "WARNING:tensorflow:From /usr/local/lib/python3.6/dist-packages/keras/backend/tensorflow_backend.py:541: The name tf.placeholder is deprecated. Please use tf.compat.v1.placeholder instead.\n",
            "\n",
            "WARNING:tensorflow:From /usr/local/lib/python3.6/dist-packages/keras/backend/tensorflow_backend.py:66: The name tf.get_default_graph is deprecated. Please use tf.compat.v1.get_default_graph instead.\n",
            "\n",
            "WARNING:tensorflow:From /usr/local/lib/python3.6/dist-packages/keras/backend/tensorflow_backend.py:4432: The name tf.random_uniform is deprecated. Please use tf.random.uniform instead.\n",
            "\n",
            "WARNING:tensorflow:From /usr/local/lib/python3.6/dist-packages/keras/backend/tensorflow_backend.py:2139: The name tf.nn.fused_batch_norm is deprecated. Please use tf.compat.v1.nn.fused_batch_norm instead.\n",
            "\n",
            "WARNING:tensorflow:From /usr/local/lib/python3.6/dist-packages/keras/backend/tensorflow_backend.py:4267: The name tf.nn.max_pool is deprecated. Please use tf.nn.max_pool2d instead.\n",
            "\n",
            "WARNING:tensorflow:From /usr/local/lib/python3.6/dist-packages/keras/backend/tensorflow_backend.py:2239: The name tf.image.resize_nearest_neighbor is deprecated. Please use tf.compat.v1.image.resize_nearest_neighbor instead.\n",
            "\n",
            "WARNING:tensorflow:From /usr/local/lib/python3.6/dist-packages/tensorflow_core/python/ops/array_ops.py:1475: where (from tensorflow.python.ops.array_ops) is deprecated and will be removed in a future version.\n",
            "Instructions for updating:\n",
            "Use tf.where in 2.0, which has the same broadcast rule as np.where\n",
            "WARNING:tensorflow:From /content/Mask_RCNN/mrcnn/model.py:553: The name tf.random_shuffle is deprecated. Please use tf.random.shuffle instead.\n",
            "\n",
            "WARNING:tensorflow:From /content/Mask_RCNN/mrcnn/utils.py:202: The name tf.log is deprecated. Please use tf.math.log instead.\n",
            "\n",
            "WARNING:tensorflow:From /content/Mask_RCNN/mrcnn/model.py:600: calling crop_and_resize_v1 (from tensorflow.python.ops.image_ops_impl) with box_ind is deprecated and will be removed in a future version.\n",
            "Instructions for updating:\n",
            "box_ind is deprecated, use box_indices instead\n",
            "WARNING:tensorflow:From /usr/local/lib/python3.6/dist-packages/keras/backend/tensorflow_backend.py:190: The name tf.get_default_session is deprecated. Please use tf.compat.v1.get_default_session instead.\n",
            "\n",
            "WARNING:tensorflow:From /usr/local/lib/python3.6/dist-packages/keras/backend/tensorflow_backend.py:197: The name tf.ConfigProto is deprecated. Please use tf.compat.v1.ConfigProto instead.\n",
            "\n",
            "WARNING:tensorflow:From /usr/local/lib/python3.6/dist-packages/keras/backend/tensorflow_backend.py:203: The name tf.Session is deprecated. Please use tf.compat.v1.Session instead.\n",
            "\n",
            "WARNING:tensorflow:From /usr/local/lib/python3.6/dist-packages/keras/backend/tensorflow_backend.py:207: The name tf.global_variables is deprecated. Please use tf.compat.v1.global_variables instead.\n",
            "\n",
            "WARNING:tensorflow:From /usr/local/lib/python3.6/dist-packages/keras/backend/tensorflow_backend.py:216: The name tf.is_variable_initialized is deprecated. Please use tf.compat.v1.is_variable_initialized instead.\n",
            "\n",
            "WARNING:tensorflow:From /usr/local/lib/python3.6/dist-packages/keras/backend/tensorflow_backend.py:223: The name tf.variables_initializer is deprecated. Please use tf.compat.v1.variables_initializer instead.\n",
            "\n"
          ],
          "name": "stdout"
        }
      ]
    },
    {
      "cell_type": "code",
      "metadata": {
        "id": "QnuiqK7KYST6",
        "colab_type": "code",
        "colab": {}
      },
      "source": [
        "# Declaring learning rate\n",
        "LR = 0.0001"
      ],
      "execution_count": 0,
      "outputs": []
    },
    {
      "cell_type": "code",
      "metadata": {
        "id": "Zsu0bu10XswE",
        "colab_type": "code",
        "outputId": "daa580de-dae2-49e5-bf35-43dae9ce0c7e",
        "colab": {
          "base_uri": "https://localhost:8080/",
          "height": 1000
        }
      },
      "source": [
        "# First, we train only the heads. train heads with higher lr to speedup the learning\n",
        "\n",
        "%%time\n",
        "model.train(train_dataset, valid_dataset,\n",
        "            learning_rate=LR*4,\n",
        "            epochs=5,\n",
        "            layers='heads')\n",
        "history = model.keras_model.history.history\n",
        "history"
      ],
      "execution_count": 0,
      "outputs": [
        {
          "output_type": "stream",
          "text": [
            "\n",
            "Starting at epoch 0. LR=0.0004\n",
            "\n",
            "Checkpoint Path: /content/fashion20191123T0820/mask_rcnn_fashion_{epoch:04d}.h5\n",
            "Selecting layers to train\n",
            "fpn_c5p5               (Conv2D)\n",
            "fpn_c4p4               (Conv2D)\n",
            "fpn_c3p3               (Conv2D)\n",
            "fpn_c2p2               (Conv2D)\n",
            "fpn_p5                 (Conv2D)\n",
            "fpn_p2                 (Conv2D)\n",
            "fpn_p3                 (Conv2D)\n",
            "fpn_p4                 (Conv2D)\n",
            "In model:  rpn_model\n",
            "    rpn_conv_shared        (Conv2D)\n",
            "    rpn_class_raw          (Conv2D)\n",
            "    rpn_bbox_pred          (Conv2D)\n",
            "mrcnn_mask_conv1       (TimeDistributed)\n",
            "mrcnn_mask_bn1         (TimeDistributed)\n",
            "mrcnn_mask_conv2       (TimeDistributed)\n",
            "mrcnn_mask_bn2         (TimeDistributed)\n",
            "mrcnn_class_conv1      (TimeDistributed)\n",
            "mrcnn_class_bn1        (TimeDistributed)\n",
            "mrcnn_mask_conv3       (TimeDistributed)\n",
            "mrcnn_mask_bn3         (TimeDistributed)\n",
            "mrcnn_class_conv2      (TimeDistributed)\n",
            "mrcnn_class_bn2        (TimeDistributed)\n",
            "mrcnn_mask_conv4       (TimeDistributed)\n",
            "mrcnn_mask_bn4         (TimeDistributed)\n",
            "mrcnn_bbox_fc          (TimeDistributed)\n",
            "mrcnn_mask_deconv      (TimeDistributed)\n",
            "mrcnn_class_logits     (TimeDistributed)\n",
            "mrcnn_mask             (TimeDistributed)\n",
            "WARNING:tensorflow:From /usr/local/lib/python3.6/dist-packages/keras/optimizers.py:793: The name tf.train.Optimizer is deprecated. Please use tf.compat.v1.train.Optimizer instead.\n",
            "\n"
          ],
          "name": "stdout"
        },
        {
          "output_type": "stream",
          "text": [
            "/usr/local/lib/python3.6/dist-packages/tensorflow_core/python/framework/indexed_slices.py:424: UserWarning: Converting sparse IndexedSlices to a dense Tensor of unknown shape. This may consume a large amount of memory.\n",
            "  \"Converting sparse IndexedSlices to a dense Tensor of unknown shape. \"\n",
            "/usr/local/lib/python3.6/dist-packages/tensorflow_core/python/framework/indexed_slices.py:424: UserWarning: Converting sparse IndexedSlices to a dense Tensor of unknown shape. This may consume a large amount of memory.\n",
            "  \"Converting sparse IndexedSlices to a dense Tensor of unknown shape. \"\n",
            "/usr/local/lib/python3.6/dist-packages/tensorflow_core/python/framework/indexed_slices.py:424: UserWarning: Converting sparse IndexedSlices to a dense Tensor of unknown shape. This may consume a large amount of memory.\n",
            "  \"Converting sparse IndexedSlices to a dense Tensor of unknown shape. \"\n"
          ],
          "name": "stderr"
        },
        {
          "output_type": "stream",
          "text": [
            "WARNING:tensorflow:From /usr/local/lib/python3.6/dist-packages/keras/backend/tensorflow_backend.py:1033: The name tf.assign_add is deprecated. Please use tf.compat.v1.assign_add instead.\n",
            "\n",
            "WARNING:tensorflow:From /usr/local/lib/python3.6/dist-packages/keras/backend/tensorflow_backend.py:1020: The name tf.assign is deprecated. Please use tf.compat.v1.assign instead.\n",
            "\n"
          ],
          "name": "stdout"
        },
        {
          "output_type": "stream",
          "text": [
            "/usr/local/lib/python3.6/dist-packages/keras/engine/training_generator.py:49: UserWarning: Using a generator with `use_multiprocessing=True` and multiple workers may duplicate your data. Please consider using the `keras.utils.Sequence class.\n",
            "  UserWarning('Using a generator with `use_multiprocessing=True`'\n"
          ],
          "name": "stderr"
        },
        {
          "output_type": "stream",
          "text": [
            "WARNING:tensorflow:From /usr/local/lib/python3.6/dist-packages/keras/callbacks.py:1122: The name tf.summary.merge_all is deprecated. Please use tf.compat.v1.summary.merge_all instead.\n",
            "\n",
            "WARNING:tensorflow:From /usr/local/lib/python3.6/dist-packages/keras/callbacks.py:1125: The name tf.summary.FileWriter is deprecated. Please use tf.compat.v1.summary.FileWriter instead.\n",
            "\n",
            "Epoch 1/5\n",
            "1000/1000 [==============================] - 1080s 1s/step - loss: 8.6586 - rpn_class_loss: 0.3795 - rpn_bbox_loss: 1.7774 - mrcnn_class_loss: 1.5058 - mrcnn_bbox_loss: 2.4142 - mrcnn_mask_loss: 2.5817 - val_loss: 6.9946 - val_rpn_class_loss: 0.2910 - val_rpn_bbox_loss: 1.9882 - val_mrcnn_class_loss: 0.7048 - val_mrcnn_bbox_loss: 2.0009 - val_mrcnn_mask_loss: 2.0096\n",
            "WARNING:tensorflow:From /usr/local/lib/python3.6/dist-packages/keras/callbacks.py:1265: The name tf.Summary is deprecated. Please use tf.compat.v1.Summary instead.\n",
            "\n",
            "Epoch 2/5\n",
            "1000/1000 [==============================] - 950s 950ms/step - loss: 6.7573 - rpn_class_loss: 0.3615 - rpn_bbox_loss: 1.7263 - mrcnn_class_loss: 0.9415 - mrcnn_bbox_loss: 1.7784 - mrcnn_mask_loss: 1.9496 - val_loss: 7.4612 - val_rpn_class_loss: 0.4605 - val_rpn_bbox_loss: 1.9239 - val_mrcnn_class_loss: 1.2320 - val_mrcnn_bbox_loss: 1.7868 - val_mrcnn_mask_loss: 2.0580\n",
            "Epoch 3/5\n",
            "1000/1000 [==============================] - 1008s 1s/step - loss: 6.3691 - rpn_class_loss: 0.3257 - rpn_bbox_loss: 1.5399 - mrcnn_class_loss: 0.9663 - mrcnn_bbox_loss: 1.6819 - mrcnn_mask_loss: 1.8552 - val_loss: 6.2183 - val_rpn_class_loss: 0.2750 - val_rpn_bbox_loss: 1.2760 - val_mrcnn_class_loss: 1.0042 - val_mrcnn_bbox_loss: 1.7241 - val_mrcnn_mask_loss: 1.9390\n",
            "Epoch 4/5\n",
            "1000/1000 [==============================] - 1013s 1s/step - loss: 6.2990 - rpn_class_loss: 0.3417 - rpn_bbox_loss: 1.5203 - mrcnn_class_loss: 0.9543 - mrcnn_bbox_loss: 1.5759 - mrcnn_mask_loss: 1.9068 - val_loss: 5.8766 - val_rpn_class_loss: 0.2821 - val_rpn_bbox_loss: 1.3236 - val_mrcnn_class_loss: 0.6919 - val_mrcnn_bbox_loss: 1.7391 - val_mrcnn_mask_loss: 1.8399\n",
            "Epoch 5/5\n",
            "1000/1000 [==============================] - 642s 642ms/step - loss: 5.4512 - rpn_class_loss: 0.2888 - rpn_bbox_loss: 1.3042 - mrcnn_class_loss: 0.8650 - mrcnn_bbox_loss: 1.2862 - mrcnn_mask_loss: 1.7070 - val_loss: 5.7088 - val_rpn_class_loss: 0.2964 - val_rpn_bbox_loss: 1.2493 - val_mrcnn_class_loss: 0.9805 - val_mrcnn_bbox_loss: 1.5400 - val_mrcnn_mask_loss: 1.6427\n",
            "CPU times: user 15min 58s, sys: 3min 23s, total: 19min 21s\n",
            "Wall time: 1h 19min 48s\n"
          ],
          "name": "stdout"
        }
      ]
    },
    {
      "cell_type": "code",
      "metadata": {
        "id": "B-VB8pkNjG9Y",
        "colab_type": "code",
        "outputId": "63671164-2037-4911-c8b3-a77214b552ce",
        "colab": {
          "base_uri": "https://localhost:8080/",
          "height": 1000
        }
      },
      "source": [
        "#reduce LR and train again.\n",
        "\n",
        "%%time\n",
        "model.train(train_dataset, valid_dataset,\n",
        "            learning_rate=LR,\n",
        "            epochs=10,\n",
        "            layers='all',\n",
        "            augmentation=augmentation)\n",
        "\n",
        "new_history = model.keras_model.history.history\n",
        "for k in new_history: history[k] = history[k] + new_history[k]"
      ],
      "execution_count": 0,
      "outputs": [
        {
          "output_type": "stream",
          "text": [
            "\n",
            "Starting at epoch 5. LR=0.0001\n",
            "\n",
            "Checkpoint Path: /content/fashion20191123T0820/mask_rcnn_fashion_{epoch:04d}.h5\n",
            "Selecting layers to train\n",
            "conv1                  (Conv2D)\n",
            "bn_conv1               (BatchNorm)\n",
            "res2a_branch2a         (Conv2D)\n",
            "bn2a_branch2a          (BatchNorm)\n",
            "res2a_branch2b         (Conv2D)\n",
            "bn2a_branch2b          (BatchNorm)\n",
            "res2a_branch2c         (Conv2D)\n",
            "res2a_branch1          (Conv2D)\n",
            "bn2a_branch2c          (BatchNorm)\n",
            "bn2a_branch1           (BatchNorm)\n",
            "res2b_branch2a         (Conv2D)\n",
            "bn2b_branch2a          (BatchNorm)\n",
            "res2b_branch2b         (Conv2D)\n",
            "bn2b_branch2b          (BatchNorm)\n",
            "res2b_branch2c         (Conv2D)\n",
            "bn2b_branch2c          (BatchNorm)\n",
            "res2c_branch2a         (Conv2D)\n",
            "bn2c_branch2a          (BatchNorm)\n",
            "res2c_branch2b         (Conv2D)\n",
            "bn2c_branch2b          (BatchNorm)\n",
            "res2c_branch2c         (Conv2D)\n",
            "bn2c_branch2c          (BatchNorm)\n",
            "res3a_branch2a         (Conv2D)\n",
            "bn3a_branch2a          (BatchNorm)\n",
            "res3a_branch2b         (Conv2D)\n",
            "bn3a_branch2b          (BatchNorm)\n",
            "res3a_branch2c         (Conv2D)\n",
            "res3a_branch1          (Conv2D)\n",
            "bn3a_branch2c          (BatchNorm)\n",
            "bn3a_branch1           (BatchNorm)\n",
            "res3b_branch2a         (Conv2D)\n",
            "bn3b_branch2a          (BatchNorm)\n",
            "res3b_branch2b         (Conv2D)\n",
            "bn3b_branch2b          (BatchNorm)\n",
            "res3b_branch2c         (Conv2D)\n",
            "bn3b_branch2c          (BatchNorm)\n",
            "res3c_branch2a         (Conv2D)\n",
            "bn3c_branch2a          (BatchNorm)\n",
            "res3c_branch2b         (Conv2D)\n",
            "bn3c_branch2b          (BatchNorm)\n",
            "res3c_branch2c         (Conv2D)\n",
            "bn3c_branch2c          (BatchNorm)\n",
            "res3d_branch2a         (Conv2D)\n",
            "bn3d_branch2a          (BatchNorm)\n",
            "res3d_branch2b         (Conv2D)\n",
            "bn3d_branch2b          (BatchNorm)\n",
            "res3d_branch2c         (Conv2D)\n",
            "bn3d_branch2c          (BatchNorm)\n",
            "res4a_branch2a         (Conv2D)\n",
            "bn4a_branch2a          (BatchNorm)\n",
            "res4a_branch2b         (Conv2D)\n",
            "bn4a_branch2b          (BatchNorm)\n",
            "res4a_branch2c         (Conv2D)\n",
            "res4a_branch1          (Conv2D)\n",
            "bn4a_branch2c          (BatchNorm)\n",
            "bn4a_branch1           (BatchNorm)\n",
            "res4b_branch2a         (Conv2D)\n",
            "bn4b_branch2a          (BatchNorm)\n",
            "res4b_branch2b         (Conv2D)\n",
            "bn4b_branch2b          (BatchNorm)\n",
            "res4b_branch2c         (Conv2D)\n",
            "bn4b_branch2c          (BatchNorm)\n",
            "res4c_branch2a         (Conv2D)\n",
            "bn4c_branch2a          (BatchNorm)\n",
            "res4c_branch2b         (Conv2D)\n",
            "bn4c_branch2b          (BatchNorm)\n",
            "res4c_branch2c         (Conv2D)\n",
            "bn4c_branch2c          (BatchNorm)\n",
            "res4d_branch2a         (Conv2D)\n",
            "bn4d_branch2a          (BatchNorm)\n",
            "res4d_branch2b         (Conv2D)\n",
            "bn4d_branch2b          (BatchNorm)\n",
            "res4d_branch2c         (Conv2D)\n",
            "bn4d_branch2c          (BatchNorm)\n",
            "res4e_branch2a         (Conv2D)\n",
            "bn4e_branch2a          (BatchNorm)\n",
            "res4e_branch2b         (Conv2D)\n",
            "bn4e_branch2b          (BatchNorm)\n",
            "res4e_branch2c         (Conv2D)\n",
            "bn4e_branch2c          (BatchNorm)\n",
            "res4f_branch2a         (Conv2D)\n",
            "bn4f_branch2a          (BatchNorm)\n",
            "res4f_branch2b         (Conv2D)\n",
            "bn4f_branch2b          (BatchNorm)\n",
            "res4f_branch2c         (Conv2D)\n",
            "bn4f_branch2c          (BatchNorm)\n",
            "res5a_branch2a         (Conv2D)\n",
            "bn5a_branch2a          (BatchNorm)\n",
            "res5a_branch2b         (Conv2D)\n",
            "bn5a_branch2b          (BatchNorm)\n",
            "res5a_branch2c         (Conv2D)\n",
            "res5a_branch1          (Conv2D)\n",
            "bn5a_branch2c          (BatchNorm)\n",
            "bn5a_branch1           (BatchNorm)\n",
            "res5b_branch2a         (Conv2D)\n",
            "bn5b_branch2a          (BatchNorm)\n",
            "res5b_branch2b         (Conv2D)\n",
            "bn5b_branch2b          (BatchNorm)\n",
            "res5b_branch2c         (Conv2D)\n",
            "bn5b_branch2c          (BatchNorm)\n",
            "res5c_branch2a         (Conv2D)\n",
            "bn5c_branch2a          (BatchNorm)\n",
            "res5c_branch2b         (Conv2D)\n",
            "bn5c_branch2b          (BatchNorm)\n",
            "res5c_branch2c         (Conv2D)\n",
            "bn5c_branch2c          (BatchNorm)\n",
            "fpn_c5p5               (Conv2D)\n",
            "fpn_c4p4               (Conv2D)\n",
            "fpn_c3p3               (Conv2D)\n",
            "fpn_c2p2               (Conv2D)\n",
            "fpn_p5                 (Conv2D)\n",
            "fpn_p2                 (Conv2D)\n",
            "fpn_p3                 (Conv2D)\n",
            "fpn_p4                 (Conv2D)\n",
            "In model:  rpn_model\n",
            "    rpn_conv_shared        (Conv2D)\n",
            "    rpn_class_raw          (Conv2D)\n",
            "    rpn_bbox_pred          (Conv2D)\n",
            "mrcnn_mask_conv1       (TimeDistributed)\n",
            "mrcnn_mask_bn1         (TimeDistributed)\n",
            "mrcnn_mask_conv2       (TimeDistributed)\n",
            "mrcnn_mask_bn2         (TimeDistributed)\n",
            "mrcnn_class_conv1      (TimeDistributed)\n",
            "mrcnn_class_bn1        (TimeDistributed)\n",
            "mrcnn_mask_conv3       (TimeDistributed)\n",
            "mrcnn_mask_bn3         (TimeDistributed)\n",
            "mrcnn_class_conv2      (TimeDistributed)\n",
            "mrcnn_class_bn2        (TimeDistributed)\n",
            "mrcnn_mask_conv4       (TimeDistributed)\n",
            "mrcnn_mask_bn4         (TimeDistributed)\n",
            "mrcnn_bbox_fc          (TimeDistributed)\n",
            "mrcnn_mask_deconv      (TimeDistributed)\n",
            "mrcnn_class_logits     (TimeDistributed)\n",
            "mrcnn_mask             (TimeDistributed)\n"
          ],
          "name": "stdout"
        },
        {
          "output_type": "stream",
          "text": [
            "/usr/local/lib/python3.6/dist-packages/tensorflow_core/python/framework/indexed_slices.py:424: UserWarning: Converting sparse IndexedSlices to a dense Tensor of unknown shape. This may consume a large amount of memory.\n",
            "  \"Converting sparse IndexedSlices to a dense Tensor of unknown shape. \"\n",
            "/usr/local/lib/python3.6/dist-packages/tensorflow_core/python/framework/indexed_slices.py:424: UserWarning: Converting sparse IndexedSlices to a dense Tensor of unknown shape. This may consume a large amount of memory.\n",
            "  \"Converting sparse IndexedSlices to a dense Tensor of unknown shape. \"\n",
            "/usr/local/lib/python3.6/dist-packages/tensorflow_core/python/framework/indexed_slices.py:424: UserWarning: Converting sparse IndexedSlices to a dense Tensor of unknown shape. This may consume a large amount of memory.\n",
            "  \"Converting sparse IndexedSlices to a dense Tensor of unknown shape. \"\n",
            "/usr/local/lib/python3.6/dist-packages/keras/engine/training_generator.py:49: UserWarning: Using a generator with `use_multiprocessing=True` and multiple workers may duplicate your data. Please consider using the `keras.utils.Sequence class.\n",
            "  UserWarning('Using a generator with `use_multiprocessing=True`'\n"
          ],
          "name": "stderr"
        },
        {
          "output_type": "stream",
          "text": [
            "Epoch 6/10\n",
            "1000/1000 [==============================] - 788s 788ms/step - loss: 6.7335 - rpn_class_loss: 0.3345 - rpn_bbox_loss: 1.4834 - mrcnn_class_loss: 1.0571 - mrcnn_bbox_loss: 1.8461 - mrcnn_mask_loss: 2.0125 - val_loss: 5.7647 - val_rpn_class_loss: 0.2681 - val_rpn_bbox_loss: 1.3528 - val_mrcnn_class_loss: 0.7556 - val_mrcnn_bbox_loss: 1.5495 - val_mrcnn_mask_loss: 1.8387\n",
            "Epoch 7/10\n",
            "1000/1000 [==============================] - 693s 693ms/step - loss: 6.2745 - rpn_class_loss: 0.3271 - rpn_bbox_loss: 1.5363 - mrcnn_class_loss: 0.9038 - mrcnn_bbox_loss: 1.6482 - mrcnn_mask_loss: 1.8592 - val_loss: 6.5666 - val_rpn_class_loss: 0.4430 - val_rpn_bbox_loss: 1.9432 - val_mrcnn_class_loss: 0.9251 - val_mrcnn_bbox_loss: 1.4282 - val_mrcnn_mask_loss: 1.8272\n",
            "Epoch 8/10\n",
            "1000/1000 [==============================] - 692s 692ms/step - loss: 6.0806 - rpn_class_loss: 0.3335 - rpn_bbox_loss: 1.5092 - mrcnn_class_loss: 0.9036 - mrcnn_bbox_loss: 1.5340 - mrcnn_mask_loss: 1.8003 - val_loss: 5.6740 - val_rpn_class_loss: 0.2627 - val_rpn_bbox_loss: 1.2666 - val_mrcnn_class_loss: 0.8753 - val_mrcnn_bbox_loss: 1.4410 - val_mrcnn_mask_loss: 1.8284\n",
            "Epoch 9/10\n",
            "1000/1000 [==============================] - 692s 692ms/step - loss: 6.0866 - rpn_class_loss: 0.3162 - rpn_bbox_loss: 1.4337 - mrcnn_class_loss: 0.9210 - mrcnn_bbox_loss: 1.5204 - mrcnn_mask_loss: 1.8953 - val_loss: 5.5487 - val_rpn_class_loss: 0.3045 - val_rpn_bbox_loss: 1.6663 - val_mrcnn_class_loss: 0.5340 - val_mrcnn_bbox_loss: 1.3085 - val_mrcnn_mask_loss: 1.7355\n",
            "Epoch 10/10\n",
            "1000/1000 [==============================] - 693s 693ms/step - loss: 5.8701 - rpn_class_loss: 0.3072 - rpn_bbox_loss: 1.4300 - mrcnn_class_loss: 0.8866 - mrcnn_bbox_loss: 1.4709 - mrcnn_mask_loss: 1.7754 - val_loss: 5.7597 - val_rpn_class_loss: 0.2831 - val_rpn_bbox_loss: 1.5363 - val_mrcnn_class_loss: 0.8724 - val_mrcnn_bbox_loss: 1.4308 - val_mrcnn_mask_loss: 1.6369\n",
            "CPU times: user 23min 26s, sys: 4min 18s, total: 27min 45s\n",
            "Wall time: 59min 53s\n"
          ],
          "name": "stdout"
        }
      ]
    },
    {
      "cell_type": "code",
      "metadata": {
        "id": "M9YJbVBPjjth",
        "colab_type": "code",
        "outputId": "8860b217-0a84-481b-be56-7779e739f892",
        "colab": {
          "base_uri": "https://localhost:8080/",
          "height": 1000
        }
      },
      "source": [
        "#reduce LR and train again.\n",
        "\n",
        "%%time\n",
        "model.train(train_dataset, valid_dataset,\n",
        "            learning_rate=LR/8,\n",
        "            epochs=20,\n",
        "            layers='all',\n",
        "            augmentation=augmentation)\n",
        "\n",
        "new_history = model.keras_model.history.history\n",
        "for k in new_history: history[k] = history[k] + new_history[k]"
      ],
      "execution_count": 0,
      "outputs": [
        {
          "output_type": "stream",
          "text": [
            "\n",
            "Starting at epoch 10. LR=2.5e-05\n",
            "\n",
            "Checkpoint Path: /content/fashion20191123T0820/mask_rcnn_fashion_{epoch:04d}.h5\n",
            "Selecting layers to train\n",
            "conv1                  (Conv2D)\n",
            "bn_conv1               (BatchNorm)\n",
            "res2a_branch2a         (Conv2D)\n",
            "bn2a_branch2a          (BatchNorm)\n",
            "res2a_branch2b         (Conv2D)\n",
            "bn2a_branch2b          (BatchNorm)\n",
            "res2a_branch2c         (Conv2D)\n",
            "res2a_branch1          (Conv2D)\n",
            "bn2a_branch2c          (BatchNorm)\n",
            "bn2a_branch1           (BatchNorm)\n",
            "res2b_branch2a         (Conv2D)\n",
            "bn2b_branch2a          (BatchNorm)\n",
            "res2b_branch2b         (Conv2D)\n",
            "bn2b_branch2b          (BatchNorm)\n",
            "res2b_branch2c         (Conv2D)\n",
            "bn2b_branch2c          (BatchNorm)\n",
            "res2c_branch2a         (Conv2D)\n",
            "bn2c_branch2a          (BatchNorm)\n",
            "res2c_branch2b         (Conv2D)\n",
            "bn2c_branch2b          (BatchNorm)\n",
            "res2c_branch2c         (Conv2D)\n",
            "bn2c_branch2c          (BatchNorm)\n",
            "res3a_branch2a         (Conv2D)\n",
            "bn3a_branch2a          (BatchNorm)\n",
            "res3a_branch2b         (Conv2D)\n",
            "bn3a_branch2b          (BatchNorm)\n",
            "res3a_branch2c         (Conv2D)\n",
            "res3a_branch1          (Conv2D)\n",
            "bn3a_branch2c          (BatchNorm)\n",
            "bn3a_branch1           (BatchNorm)\n",
            "res3b_branch2a         (Conv2D)\n",
            "bn3b_branch2a          (BatchNorm)\n",
            "res3b_branch2b         (Conv2D)\n",
            "bn3b_branch2b          (BatchNorm)\n",
            "res3b_branch2c         (Conv2D)\n",
            "bn3b_branch2c          (BatchNorm)\n",
            "res3c_branch2a         (Conv2D)\n",
            "bn3c_branch2a          (BatchNorm)\n",
            "res3c_branch2b         (Conv2D)\n",
            "bn3c_branch2b          (BatchNorm)\n",
            "res3c_branch2c         (Conv2D)\n",
            "bn3c_branch2c          (BatchNorm)\n",
            "res3d_branch2a         (Conv2D)\n",
            "bn3d_branch2a          (BatchNorm)\n",
            "res3d_branch2b         (Conv2D)\n",
            "bn3d_branch2b          (BatchNorm)\n",
            "res3d_branch2c         (Conv2D)\n",
            "bn3d_branch2c          (BatchNorm)\n",
            "res4a_branch2a         (Conv2D)\n",
            "bn4a_branch2a          (BatchNorm)\n",
            "res4a_branch2b         (Conv2D)\n",
            "bn4a_branch2b          (BatchNorm)\n",
            "res4a_branch2c         (Conv2D)\n",
            "res4a_branch1          (Conv2D)\n",
            "bn4a_branch2c          (BatchNorm)\n",
            "bn4a_branch1           (BatchNorm)\n",
            "res4b_branch2a         (Conv2D)\n",
            "bn4b_branch2a          (BatchNorm)\n",
            "res4b_branch2b         (Conv2D)\n",
            "bn4b_branch2b          (BatchNorm)\n",
            "res4b_branch2c         (Conv2D)\n",
            "bn4b_branch2c          (BatchNorm)\n",
            "res4c_branch2a         (Conv2D)\n",
            "bn4c_branch2a          (BatchNorm)\n",
            "res4c_branch2b         (Conv2D)\n",
            "bn4c_branch2b          (BatchNorm)\n",
            "res4c_branch2c         (Conv2D)\n",
            "bn4c_branch2c          (BatchNorm)\n",
            "res4d_branch2a         (Conv2D)\n",
            "bn4d_branch2a          (BatchNorm)\n",
            "res4d_branch2b         (Conv2D)\n",
            "bn4d_branch2b          (BatchNorm)\n",
            "res4d_branch2c         (Conv2D)\n",
            "bn4d_branch2c          (BatchNorm)\n",
            "res4e_branch2a         (Conv2D)\n",
            "bn4e_branch2a          (BatchNorm)\n",
            "res4e_branch2b         (Conv2D)\n",
            "bn4e_branch2b          (BatchNorm)\n",
            "res4e_branch2c         (Conv2D)\n",
            "bn4e_branch2c          (BatchNorm)\n",
            "res4f_branch2a         (Conv2D)\n",
            "bn4f_branch2a          (BatchNorm)\n",
            "res4f_branch2b         (Conv2D)\n",
            "bn4f_branch2b          (BatchNorm)\n",
            "res4f_branch2c         (Conv2D)\n",
            "bn4f_branch2c          (BatchNorm)\n",
            "res5a_branch2a         (Conv2D)\n",
            "bn5a_branch2a          (BatchNorm)\n",
            "res5a_branch2b         (Conv2D)\n",
            "bn5a_branch2b          (BatchNorm)\n",
            "res5a_branch2c         (Conv2D)\n",
            "res5a_branch1          (Conv2D)\n",
            "bn5a_branch2c          (BatchNorm)\n",
            "bn5a_branch1           (BatchNorm)\n",
            "res5b_branch2a         (Conv2D)\n",
            "bn5b_branch2a          (BatchNorm)\n",
            "res5b_branch2b         (Conv2D)\n",
            "bn5b_branch2b          (BatchNorm)\n",
            "res5b_branch2c         (Conv2D)\n",
            "bn5b_branch2c          (BatchNorm)\n",
            "res5c_branch2a         (Conv2D)\n",
            "bn5c_branch2a          (BatchNorm)\n",
            "res5c_branch2b         (Conv2D)\n",
            "bn5c_branch2b          (BatchNorm)\n",
            "res5c_branch2c         (Conv2D)\n",
            "bn5c_branch2c          (BatchNorm)\n",
            "fpn_c5p5               (Conv2D)\n",
            "fpn_c4p4               (Conv2D)\n",
            "fpn_c3p3               (Conv2D)\n",
            "fpn_c2p2               (Conv2D)\n",
            "fpn_p5                 (Conv2D)\n",
            "fpn_p2                 (Conv2D)\n",
            "fpn_p3                 (Conv2D)\n",
            "fpn_p4                 (Conv2D)\n",
            "In model:  rpn_model\n",
            "    rpn_conv_shared        (Conv2D)\n",
            "    rpn_class_raw          (Conv2D)\n",
            "    rpn_bbox_pred          (Conv2D)\n",
            "mrcnn_mask_conv1       (TimeDistributed)\n",
            "mrcnn_mask_bn1         (TimeDistributed)\n",
            "mrcnn_mask_conv2       (TimeDistributed)\n",
            "mrcnn_mask_bn2         (TimeDistributed)\n",
            "mrcnn_class_conv1      (TimeDistributed)\n",
            "mrcnn_class_bn1        (TimeDistributed)\n",
            "mrcnn_mask_conv3       (TimeDistributed)\n",
            "mrcnn_mask_bn3         (TimeDistributed)\n",
            "mrcnn_class_conv2      (TimeDistributed)\n",
            "mrcnn_class_bn2        (TimeDistributed)\n",
            "mrcnn_mask_conv4       (TimeDistributed)\n",
            "mrcnn_mask_bn4         (TimeDistributed)\n",
            "mrcnn_bbox_fc          (TimeDistributed)\n",
            "mrcnn_mask_deconv      (TimeDistributed)\n",
            "mrcnn_class_logits     (TimeDistributed)\n",
            "mrcnn_mask             (TimeDistributed)\n"
          ],
          "name": "stdout"
        },
        {
          "output_type": "stream",
          "text": [
            "/usr/local/lib/python3.6/dist-packages/tensorflow_core/python/framework/indexed_slices.py:424: UserWarning: Converting sparse IndexedSlices to a dense Tensor of unknown shape. This may consume a large amount of memory.\n",
            "  \"Converting sparse IndexedSlices to a dense Tensor of unknown shape. \"\n",
            "/usr/local/lib/python3.6/dist-packages/tensorflow_core/python/framework/indexed_slices.py:424: UserWarning: Converting sparse IndexedSlices to a dense Tensor of unknown shape. This may consume a large amount of memory.\n",
            "  \"Converting sparse IndexedSlices to a dense Tensor of unknown shape. \"\n",
            "/usr/local/lib/python3.6/dist-packages/tensorflow_core/python/framework/indexed_slices.py:424: UserWarning: Converting sparse IndexedSlices to a dense Tensor of unknown shape. This may consume a large amount of memory.\n",
            "  \"Converting sparse IndexedSlices to a dense Tensor of unknown shape. \"\n",
            "/usr/local/lib/python3.6/dist-packages/keras/engine/training_generator.py:49: UserWarning: Using a generator with `use_multiprocessing=True` and multiple workers may duplicate your data. Please consider using the `keras.utils.Sequence class.\n",
            "  UserWarning('Using a generator with `use_multiprocessing=True`'\n"
          ],
          "name": "stderr"
        },
        {
          "output_type": "stream",
          "text": [
            "Epoch 11/20\n",
            "1000/1000 [==============================] - 778s 778ms/step - loss: 5.8539 - rpn_class_loss: 0.2938 - rpn_bbox_loss: 1.3595 - mrcnn_class_loss: 0.8897 - mrcnn_bbox_loss: 1.4752 - mrcnn_mask_loss: 1.8356 - val_loss: 5.7602 - val_rpn_class_loss: 0.2690 - val_rpn_bbox_loss: 1.4216 - val_mrcnn_class_loss: 0.7086 - val_mrcnn_bbox_loss: 1.5374 - val_mrcnn_mask_loss: 1.8235\n",
            "Epoch 12/20\n",
            "1000/1000 [==============================] - 693s 693ms/step - loss: 5.6590 - rpn_class_loss: 0.2915 - rpn_bbox_loss: 1.3700 - mrcnn_class_loss: 0.8115 - mrcnn_bbox_loss: 1.4356 - mrcnn_mask_loss: 1.7503 - val_loss: 6.3757 - val_rpn_class_loss: 0.4342 - val_rpn_bbox_loss: 1.9105 - val_mrcnn_class_loss: 0.8651 - val_mrcnn_bbox_loss: 1.4069 - val_mrcnn_mask_loss: 1.7590\n",
            "Epoch 13/20\n",
            "1000/1000 [==============================] - 695s 695ms/step - loss: 5.5263 - rpn_class_loss: 0.2967 - rpn_bbox_loss: 1.3586 - mrcnn_class_loss: 0.8173 - mrcnn_bbox_loss: 1.3524 - mrcnn_mask_loss: 1.7013 - val_loss: 5.5895 - val_rpn_class_loss: 0.2620 - val_rpn_bbox_loss: 1.3784 - val_mrcnn_class_loss: 0.8212 - val_mrcnn_bbox_loss: 1.3858 - val_mrcnn_mask_loss: 1.7420\n",
            "Epoch 14/20\n",
            "1000/1000 [==============================] - 704s 704ms/step - loss: 5.6377 - rpn_class_loss: 0.2822 - rpn_bbox_loss: 1.2810 - mrcnn_class_loss: 0.8678 - mrcnn_bbox_loss: 1.3815 - mrcnn_mask_loss: 1.8251 - val_loss: 5.4462 - val_rpn_class_loss: 0.3066 - val_rpn_bbox_loss: 1.5521 - val_mrcnn_class_loss: 0.5812 - val_mrcnn_bbox_loss: 1.2877 - val_mrcnn_mask_loss: 1.7186\n",
            "Epoch 15/20\n",
            "1000/1000 [==============================] - 713s 713ms/step - loss: 5.4018 - rpn_class_loss: 0.2781 - rpn_bbox_loss: 1.2810 - mrcnn_class_loss: 0.8184 - mrcnn_bbox_loss: 1.3167 - mrcnn_mask_loss: 1.7076 - val_loss: 5.6539 - val_rpn_class_loss: 0.2841 - val_rpn_bbox_loss: 1.4736 - val_mrcnn_class_loss: 0.8781 - val_mrcnn_bbox_loss: 1.4030 - val_mrcnn_mask_loss: 1.6152\n",
            "Epoch 16/20\n",
            "1000/1000 [==============================] - 701s 701ms/step - loss: 6.0060 - rpn_class_loss: 0.3293 - rpn_bbox_loss: 1.4831 - mrcnn_class_loss: 0.9157 - mrcnn_bbox_loss: 1.4921 - mrcnn_mask_loss: 1.7858 - val_loss: 5.1700 - val_rpn_class_loss: 0.2446 - val_rpn_bbox_loss: 1.1218 - val_mrcnn_class_loss: 0.7570 - val_mrcnn_bbox_loss: 1.3745 - val_mrcnn_mask_loss: 1.6722\n",
            "Epoch 17/20\n",
            "1000/1000 [==============================] - 705s 705ms/step - loss: 5.9865 - rpn_class_loss: 0.3261 - rpn_bbox_loss: 1.4535 - mrcnn_class_loss: 0.8957 - mrcnn_bbox_loss: 1.4923 - mrcnn_mask_loss: 1.8189 - val_loss: 5.7975 - val_rpn_class_loss: 0.3236 - val_rpn_bbox_loss: 1.4750 - val_mrcnn_class_loss: 0.7922 - val_mrcnn_bbox_loss: 1.4576 - val_mrcnn_mask_loss: 1.7491\n",
            "Epoch 18/20\n",
            "1000/1000 [==============================] - 714s 714ms/step - loss: 5.9452 - rpn_class_loss: 0.2988 - rpn_bbox_loss: 1.4809 - mrcnn_class_loss: 0.8476 - mrcnn_bbox_loss: 1.4958 - mrcnn_mask_loss: 1.8221 - val_loss: 5.8251 - val_rpn_class_loss: 0.3521 - val_rpn_bbox_loss: 1.4266 - val_mrcnn_class_loss: 0.8543 - val_mrcnn_bbox_loss: 1.4320 - val_mrcnn_mask_loss: 1.7601\n",
            "Epoch 19/20\n",
            "1000/1000 [==============================] - 717s 717ms/step - loss: 5.9376 - rpn_class_loss: 0.3182 - rpn_bbox_loss: 1.5435 - mrcnn_class_loss: 0.7992 - mrcnn_bbox_loss: 1.4777 - mrcnn_mask_loss: 1.7991 - val_loss: 5.8493 - val_rpn_class_loss: 0.3178 - val_rpn_bbox_loss: 1.3170 - val_mrcnn_class_loss: 0.8080 - val_mrcnn_bbox_loss: 1.4835 - val_mrcnn_mask_loss: 1.9229\n",
            "Epoch 20/20\n",
            "1000/1000 [==============================] - 702s 702ms/step - loss: 5.7468 - rpn_class_loss: 0.3093 - rpn_bbox_loss: 1.4148 - mrcnn_class_loss: 0.8283 - mrcnn_bbox_loss: 1.4421 - mrcnn_mask_loss: 1.7522 - val_loss: 5.7557 - val_rpn_class_loss: 0.3935 - val_rpn_bbox_loss: 1.4494 - val_mrcnn_class_loss: 0.7154 - val_mrcnn_bbox_loss: 1.4747 - val_mrcnn_mask_loss: 1.7227\n",
            "CPU times: user 46min 57s, sys: 8min 24s, total: 55min 22s\n",
            "Wall time: 1h 59min 39s\n"
          ],
          "name": "stdout"
        }
      ]
    },
    {
      "cell_type": "code",
      "metadata": {
        "id": "hnXof8hgnGEX",
        "colab_type": "code",
        "outputId": "59827f71-dce0-4112-ff39-fd8cfac4f6ee",
        "colab": {
          "base_uri": "https://localhost:8080/",
          "height": 282
        }
      },
      "source": [
        "epochs = range(1, len(history['loss'])+1)\n",
        "plt.plot(epochs, history[\"loss\"], label=\"Train loss\")\n",
        "plt.plot(epochs, history[\"val_loss\"], label=\"Validation loss\")\n",
        "plt.legend()"
      ],
      "execution_count": 0,
      "outputs": [
        {
          "output_type": "execute_result",
          "data": {
            "text/plain": [
              "<matplotlib.legend.Legend at 0x7f8ba5db3cc0>"
            ]
          },
          "metadata": {
            "tags": []
          },
          "execution_count": 35
        },
        {
          "output_type": "display_data",
          "data": {
            "image/png": "[encoded data removed]",
            "text/plain": [
              "<Figure size 432x288 with 1 Axes>"
            ]
          },
          "metadata": {
            "tags": []
          }
        }
      ]
    },
    {
      "cell_type": "code",
      "metadata": {
        "id": "fq78gNeQnQC2",
        "colab_type": "code",
        "outputId": "8dff9712-ea2e-432f-973e-9fdf83c7a003",
        "colab": {
          "base_uri": "https://localhost:8080/",
          "height": 52
        }
      },
      "source": [
        "# find best epoch\n",
        "best_epoch = np.argmin(history[\"val_loss\"]) + 1\n",
        "print(\"Best epoch: \", best_epoch)\n",
        "print(\"Valid loss: \", history[\"val_loss\"][best_epoch-1])"
      ],
      "execution_count": 0,
      "outputs": [
        {
          "output_type": "stream",
          "text": [
            "Best epoch:  16\n",
            "Valid loss:  5.170043992996216\n"
          ],
          "name": "stdout"
        }
      ]
    },
    {
      "cell_type": "code",
      "metadata": {
        "id": "Vl2UhGVAnQmY",
        "colab_type": "code",
        "colab": {}
      },
      "source": [
        "# Picking the location of our best model weights\n",
        "glob_list = glob.glob(f'/content/fashion*/mask_rcnn_fashion_{best_epoch:04d}.h5')\n",
        "model_path = glob_list[0] if glob_list else ''"
      ],
      "execution_count": 0,
      "outputs": []
    },
    {
      "cell_type": "code",
      "metadata": {
        "id": "m9GKRBAo-FRC",
        "colab_type": "code",
        "outputId": "281169d8-85a0-4fa9-e068-6e60ec238a55",
        "colab": {
          "base_uri": "https://localhost:8080/",
          "height": 34
        }
      },
      "source": [
        "model_path"
      ],
      "execution_count": 0,
      "outputs": [
        {
          "output_type": "execute_result",
          "data": {
            "text/plain": [
              "'/content/fashion20191123T0820/mask_rcnn_fashion_0016.h5'"
            ]
          },
          "metadata": {
            "tags": []
          },
          "execution_count": 45
        }
      ]
    },
    {
      "cell_type": "markdown",
      "metadata": {
        "id": "yrVMlls-nT3R",
        "colab_type": "text"
      },
      "source": [
        "## Prediction"
      ]
    },
    {
      "cell_type": "code",
      "metadata": {
        "id": "Pulns06WnViR",
        "colab_type": "code",
        "outputId": "2845e37b-7560-4f68-e40f-61675b11c8a0",
        "colab": {
          "base_uri": "https://localhost:8080/",
          "height": 34
        }
      },
      "source": [
        "# Prediction, this cell defines InferenceConfig and loads the best trained model.\n",
        "\n",
        "class InferenceConfig(FashionConfig):\n",
        "    GPU_COUNT = 1\n",
        "    IMAGES_PER_GPU = 1\n",
        "\n",
        "inference_config = InferenceConfig()\n",
        "\n",
        "model = modellib.MaskRCNN(mode='inference', config=inference_config,model_dir=ROOT_DIR)\n",
        "\n",
        "model.load_weights(model_path, by_name=True)"
      ],
      "execution_count": 0,
      "outputs": [
        {
          "output_type": "stream",
          "text": [
            "Re-starting from epoch 16\n"
          ],
          "name": "stdout"
        }
      ]
    },
    {
      "cell_type": "code",
      "metadata": {
        "id": "hW-FAS6yn-Eq",
        "colab_type": "code",
        "colab": {}
      },
      "source": [
        "# refine overlapped mask\n",
        "def refine_masks(masks, rois):\n",
        "    areas = np.sum(masks.reshape(-1, masks.shape[-1]), axis=0)\n",
        "    mask_index = np.argsort(areas)\n",
        "    union_mask = np.zeros(masks.shape[:-1], dtype=bool)\n",
        "    for m in mask_index:\n",
        "        masks[:, :, m] = np.logical_and(masks[:, :, m], np.logical_not(union_mask))\n",
        "        union_mask = np.logical_or(masks[:, :, m], union_mask)\n",
        "    for m in range(masks.shape[-1]):\n",
        "        mask_pos = np.where(masks[:, :, m]==True)\n",
        "        if np.any(mask_pos):\n",
        "            y1, x1 = np.min(mask_pos, axis=1)\n",
        "            y2, x2 = np.max(mask_pos, axis=1)\n",
        "            rois[m, :] = [y1, x1, y2, x2]\n",
        "    return masks, rois"
      ],
      "execution_count": 0,
      "outputs": []
    },
    {
      "cell_type": "code",
      "metadata": {
        "id": "iY3XaWnJuj5T",
        "colab_type": "code",
        "outputId": "e64f54a4-896b-4310-f518-a8efbd9582ed",
        "colab": {
          "base_uri": "https://localhost:8080/",
          "height": 215
        }
      },
      "source": [
        "segment_df2 = train\n",
        "segment_df2['CategoryId'] = segment_df2['ClassId'].str.split('_').str[0]\n",
        "\n",
        "print(\"Total segments: \", len(segment_df2))\n",
        "segment_df2.head()"
      ],
      "execution_count": 0,
      "outputs": [
        {
          "output_type": "stream",
          "text": [
            "Total segments:  333415\n"
          ],
          "name": "stdout"
        },
        {
          "output_type": "execute_result",
          "data": {
            "text/html": [
              "<div>\n",
              "<style scoped>\n",
              "    .dataframe tbody tr th:only-of-type {\n",
              "        vertical-align: middle;\n",
              "    }\n",
              "\n",
              "    .dataframe tbody tr th {\n",
              "        vertical-align: top;\n",
              "    }\n",
              "\n",
              "    .dataframe thead th {\n",
              "        text-align: right;\n",
              "    }\n",
              "</style>\n",
              "<table border=\"1\" class=\"dataframe\">\n",
              "  <thead>\n",
              "    <tr style=\"text-align: right;\">\n",
              "      <th></th>\n",
              "      <th>ImageId</th>\n",
              "      <th>EncodedPixels</th>\n",
              "      <th>Height</th>\n",
              "      <th>Width</th>\n",
              "      <th>ClassId</th>\n",
              "      <th>CategoryId</th>\n",
              "    </tr>\n",
              "  </thead>\n",
              "  <tbody>\n",
              "    <tr>\n",
              "      <th>0</th>\n",
              "      <td>00000663ed1ff0c4e0132b9b9ac53f6e.jpg</td>\n",
              "      <td>6068157 7 6073371 20 6078584 34 6083797 48 608...</td>\n",
              "      <td>5214</td>\n",
              "      <td>3676</td>\n",
              "      <td>6</td>\n",
              "      <td>6</td>\n",
              "    </tr>\n",
              "    <tr>\n",
              "      <th>1</th>\n",
              "      <td>00000663ed1ff0c4e0132b9b9ac53f6e.jpg</td>\n",
              "      <td>6323163 11 6328356 32 6333549 53 6338742 75 63...</td>\n",
              "      <td>5214</td>\n",
              "      <td>3676</td>\n",
              "      <td>0</td>\n",
              "      <td>0</td>\n",
              "    </tr>\n",
              "    <tr>\n",
              "      <th>2</th>\n",
              "      <td>00000663ed1ff0c4e0132b9b9ac53f6e.jpg</td>\n",
              "      <td>8521389 10 8526585 30 8531789 42 8537002 46 85...</td>\n",
              "      <td>5214</td>\n",
              "      <td>3676</td>\n",
              "      <td>28</td>\n",
              "      <td>28</td>\n",
              "    </tr>\n",
              "    <tr>\n",
              "      <th>3</th>\n",
              "      <td>00000663ed1ff0c4e0132b9b9ac53f6e.jpg</td>\n",
              "      <td>12903854 2 12909064 7 12914275 10 12919485 15 ...</td>\n",
              "      <td>5214</td>\n",
              "      <td>3676</td>\n",
              "      <td>31</td>\n",
              "      <td>31</td>\n",
              "    </tr>\n",
              "    <tr>\n",
              "      <th>4</th>\n",
              "      <td>00000663ed1ff0c4e0132b9b9ac53f6e.jpg</td>\n",
              "      <td>10837337 5 10842542 14 10847746 24 10852951 33...</td>\n",
              "      <td>5214</td>\n",
              "      <td>3676</td>\n",
              "      <td>32</td>\n",
              "      <td>32</td>\n",
              "    </tr>\n",
              "  </tbody>\n",
              "</table>\n",
              "</div>"
            ],
            "text/plain": [
              "                                ImageId  ... CategoryId\n",
              "0  00000663ed1ff0c4e0132b9b9ac53f6e.jpg  ...          6\n",
              "1  00000663ed1ff0c4e0132b9b9ac53f6e.jpg  ...          0\n",
              "2  00000663ed1ff0c4e0132b9b9ac53f6e.jpg  ...         28\n",
              "3  00000663ed1ff0c4e0132b9b9ac53f6e.jpg  ...         31\n",
              "4  00000663ed1ff0c4e0132b9b9ac53f6e.jpg  ...         32\n",
              "\n",
              "[5 rows x 6 columns]"
            ]
          },
          "metadata": {
            "tags": []
          },
          "execution_count": 48
        }
      ]
    },
    {
      "cell_type": "code",
      "metadata": {
        "id": "BRn9Yrk3ujle",
        "colab_type": "code",
        "outputId": "6818bc9d-a830-4a26-bd15-9d11e6b3ec24",
        "colab": {
          "base_uri": "https://localhost:8080/",
          "height": 245
        }
      },
      "source": [
        "# Rows with the same image are grouped together because the subsequent operations perform at an image level\n",
        "image_df2 = segment_df2.groupby('ImageId')['EncodedPixels', 'CategoryId'].agg(lambda x: list(x))\n",
        "size_df2 = segment_df2.groupby('ImageId')['Height', 'Width'].mean()\n",
        "image_df2 = image_df2.join(size_df2, on='ImageId')\n",
        "\n",
        "print(\"Total images: \", len(image_df2))\n",
        "image_df2.head()"
      ],
      "execution_count": 0,
      "outputs": [
        {
          "output_type": "stream",
          "text": [
            "Total images:  45625\n"
          ],
          "name": "stdout"
        },
        {
          "output_type": "execute_result",
          "data": {
            "text/html": [
              "<div>\n",
              "<style scoped>\n",
              "    .dataframe tbody tr th:only-of-type {\n",
              "        vertical-align: middle;\n",
              "    }\n",
              "\n",
              "    .dataframe tbody tr th {\n",
              "        vertical-align: top;\n",
              "    }\n",
              "\n",
              "    .dataframe thead th {\n",
              "        text-align: right;\n",
              "    }\n",
              "</style>\n",
              "<table border=\"1\" class=\"dataframe\">\n",
              "  <thead>\n",
              "    <tr style=\"text-align: right;\">\n",
              "      <th></th>\n",
              "      <th>EncodedPixels</th>\n",
              "      <th>CategoryId</th>\n",
              "      <th>Height</th>\n",
              "      <th>Width</th>\n",
              "    </tr>\n",
              "    <tr>\n",
              "      <th>ImageId</th>\n",
              "      <th></th>\n",
              "      <th></th>\n",
              "      <th></th>\n",
              "      <th></th>\n",
              "    </tr>\n",
              "  </thead>\n",
              "  <tbody>\n",
              "    <tr>\n",
              "      <th>00000663ed1ff0c4e0132b9b9ac53f6e.jpg</th>\n",
              "      <td>[6068157 7 6073371 20 6078584 34 6083797 48 60...</td>\n",
              "      <td>[6, 0, 28, 31, 32, 32, 31, 29, 4]</td>\n",
              "      <td>5214</td>\n",
              "      <td>3676</td>\n",
              "    </tr>\n",
              "    <tr>\n",
              "      <th>0000fe7c9191fba733c8a69cfaf962b7.jpg</th>\n",
              "      <td>[2201176 1 2203623 3 2206071 5 2208518 8 22109...</td>\n",
              "      <td>[33, 1]</td>\n",
              "      <td>2448</td>\n",
              "      <td>2448</td>\n",
              "    </tr>\n",
              "    <tr>\n",
              "      <th>0002ec21ddb8477e98b2cbb87ea2e269.jpg</th>\n",
              "      <td>[2673735 2 2676734 8 2679734 13 2682733 19 268...</td>\n",
              "      <td>[33, 10, 23, 23]</td>\n",
              "      <td>3000</td>\n",
              "      <td>1997</td>\n",
              "    </tr>\n",
              "    <tr>\n",
              "      <th>0002f5a0ebc162ecfb73e2c91e3b8f62.jpg</th>\n",
              "      <td>[435 132 1002 132 1569 132 2136 132 2703 132 3...</td>\n",
              "      <td>[10, 33, 15]</td>\n",
              "      <td>567</td>\n",
              "      <td>400</td>\n",
              "    </tr>\n",
              "    <tr>\n",
              "      <th>0004467156e47b0eb6de4aa6479cbd15.jpg</th>\n",
              "      <td>[132663 8 133396 25 134130 41 134868 53 135611...</td>\n",
              "      <td>[10, 33, 31, 31, 15]</td>\n",
              "      <td>750</td>\n",
              "      <td>500</td>\n",
              "    </tr>\n",
              "  </tbody>\n",
              "</table>\n",
              "</div>"
            ],
            "text/plain": [
              "                                                                          EncodedPixels  ... Width\n",
              "ImageId                                                                                  ...      \n",
              "00000663ed1ff0c4e0132b9b9ac53f6e.jpg  [6068157 7 6073371 20 6078584 34 6083797 48 60...  ...  3676\n",
              "0000fe7c9191fba733c8a69cfaf962b7.jpg  [2201176 1 2203623 3 2206071 5 2208518 8 22109...  ...  2448\n",
              "0002ec21ddb8477e98b2cbb87ea2e269.jpg  [2673735 2 2676734 8 2679734 13 2682733 19 268...  ...  1997\n",
              "0002f5a0ebc162ecfb73e2c91e3b8f62.jpg  [435 132 1002 132 1569 132 2136 132 2703 132 3...  ...   400\n",
              "0004467156e47b0eb6de4aa6479cbd15.jpg  [132663 8 133396 25 134130 41 134868 53 135611...  ...   500\n",
              "\n",
              "[5 rows x 4 columns]"
            ]
          },
          "metadata": {
            "tags": []
          },
          "execution_count": 49
        }
      ]
    },
    {
      "cell_type": "code",
      "metadata": {
        "id": "d2tf-2JYu9S-",
        "colab_type": "code",
        "outputId": "f64b8cf3-cbda-420b-9e49-99832f517c45",
        "colab": {
          "base_uri": "https://localhost:8080/",
          "height": 34
        }
      },
      "source": [
        "# We will test on 4k images, subsetting data for that\n",
        "\n",
        "images = os.listdir(TEST_DIR)\n",
        "uploaded_images = pd.DataFrame(images, columns = ['image_name'])\n",
        "image_df2 = image_df2[image_df2.index.isin(uploaded_images['image_name'])]\n",
        "len(image_df2)"
      ],
      "execution_count": 0,
      "outputs": [
        {
          "output_type": "execute_result",
          "data": {
            "text/plain": [
              "4103"
            ]
          },
          "metadata": {
            "tags": []
          },
          "execution_count": 50
        }
      ]
    },
    {
      "cell_type": "code",
      "metadata": {
        "id": "-3VlPgNPwzb5",
        "colab_type": "code",
        "colab": {}
      },
      "source": [
        "# refine overlapped mask\n",
        "def refine_masks(masks, rois):\n",
        "    areas = np.sum(masks.reshape(-1, masks.shape[-1]), axis=0)\n",
        "    mask_index = np.argsort(areas)\n",
        "    union_mask = np.zeros(masks.shape[:-1], dtype=bool)\n",
        "    for m in mask_index:\n",
        "        masks[:, :, m] = np.logical_and(masks[:, :, m], np.logical_not(union_mask))\n",
        "        union_mask = np.logical_or(masks[:, :, m], union_mask)\n",
        "    for m in range(masks.shape[-1]):\n",
        "        mask_pos = np.where(masks[:, :, m]==True)\n",
        "        if np.any(mask_pos):\n",
        "            y1, x1 = np.min(mask_pos, axis=1)\n",
        "            y2, x2 = np.max(mask_pos, axis=1)\n",
        "            rois[m, :] = [y1, x1, y2, x2]\n",
        "    return masks, rois"
      ],
      "execution_count": 0,
      "outputs": []
    },
    {
      "cell_type": "code",
      "metadata": {
        "id": "YJXwn24gw0h1",
        "colab_type": "code",
        "outputId": "f9f2c600-4459-4f69-ec3c-87d062996f36",
        "colab": {
          "base_uri": "https://localhost:8080/",
          "height": 197
        }
      },
      "source": [
        "pred_file = image_df2.reset_index().iloc[:,:3]\n",
        "pred_file.head()"
      ],
      "execution_count": 0,
      "outputs": [
        {
          "output_type": "execute_result",
          "data": {
            "text/html": [
              "<div>\n",
              "<style scoped>\n",
              "    .dataframe tbody tr th:only-of-type {\n",
              "        vertical-align: middle;\n",
              "    }\n",
              "\n",
              "    .dataframe tbody tr th {\n",
              "        vertical-align: top;\n",
              "    }\n",
              "\n",
              "    .dataframe thead th {\n",
              "        text-align: right;\n",
              "    }\n",
              "</style>\n",
              "<table border=\"1\" class=\"dataframe\">\n",
              "  <thead>\n",
              "    <tr style=\"text-align: right;\">\n",
              "      <th></th>\n",
              "      <th>ImageId</th>\n",
              "      <th>EncodedPixels</th>\n",
              "      <th>CategoryId</th>\n",
              "    </tr>\n",
              "  </thead>\n",
              "  <tbody>\n",
              "    <tr>\n",
              "      <th>0</th>\n",
              "      <td>0000fe7c9191fba733c8a69cfaf962b7.jpg</td>\n",
              "      <td>[2201176 1 2203623 3 2206071 5 2208518 8 22109...</td>\n",
              "      <td>[33, 1]</td>\n",
              "    </tr>\n",
              "    <tr>\n",
              "      <th>1</th>\n",
              "      <td>0002ec21ddb8477e98b2cbb87ea2e269.jpg</td>\n",
              "      <td>[2673735 2 2676734 8 2679734 13 2682733 19 268...</td>\n",
              "      <td>[33, 10, 23, 23]</td>\n",
              "    </tr>\n",
              "    <tr>\n",
              "      <th>2</th>\n",
              "      <td>0002f5a0ebc162ecfb73e2c91e3b8f62.jpg</td>\n",
              "      <td>[435 132 1002 132 1569 132 2136 132 2703 132 3...</td>\n",
              "      <td>[10, 33, 15]</td>\n",
              "    </tr>\n",
              "    <tr>\n",
              "      <th>3</th>\n",
              "      <td>000aac3870ea7c59ca0333ffa5327323.jpg</td>\n",
              "      <td>[8971124 17 8975101 49 8979077 82 8983053 116 ...</td>\n",
              "      <td>[10, 33, 3, 31, 31, 33]</td>\n",
              "    </tr>\n",
              "    <tr>\n",
              "      <th>4</th>\n",
              "      <td>000b3a87508b0fa185fbd53ecbe2e4c6.jpg</td>\n",
              "      <td>[291578 3 292856 8 294133 13 295410 19 296687 ...</td>\n",
              "      <td>[10, 33, 24]</td>\n",
              "    </tr>\n",
              "  </tbody>\n",
              "</table>\n",
              "</div>"
            ],
            "text/plain": [
              "                                ImageId  ...               CategoryId\n",
              "0  0000fe7c9191fba733c8a69cfaf962b7.jpg  ...                  [33, 1]\n",
              "1  0002ec21ddb8477e98b2cbb87ea2e269.jpg  ...         [33, 10, 23, 23]\n",
              "2  0002f5a0ebc162ecfb73e2c91e3b8f62.jpg  ...             [10, 33, 15]\n",
              "3  000aac3870ea7c59ca0333ffa5327323.jpg  ...  [10, 33, 3, 31, 31, 33]\n",
              "4  000b3a87508b0fa185fbd53ecbe2e4c6.jpg  ...             [10, 33, 24]\n",
              "\n",
              "[5 rows x 3 columns]"
            ]
          },
          "metadata": {
            "tags": []
          },
          "execution_count": 55
        }
      ]
    },
    {
      "cell_type": "code",
      "metadata": {
        "id": "C-AiSMzOgkG3",
        "colab_type": "code",
        "outputId": "d07266ef-1b5b-4fcb-ead8-9dc996b7a1b7",
        "colab": {
          "base_uri": "https://localhost:8080/",
          "height": 34
        }
      },
      "source": [
        "pred_file.shape"
      ],
      "execution_count": 0,
      "outputs": [
        {
          "output_type": "execute_result",
          "data": {
            "text/plain": [
              "(4103, 3)"
            ]
          },
          "metadata": {
            "tags": []
          },
          "execution_count": 56
        }
      ]
    },
    {
      "cell_type": "code",
      "metadata": {
        "id": "E6Fx_0c6w7oo",
        "colab_type": "code",
        "colab": {}
      },
      "source": [
        "# Convert data to run-length encoding\n",
        "def to_rle(bits):\n",
        "    rle = []\n",
        "    pos = 0\n",
        "    for bit, group in itertools.groupby(bits):\n",
        "        group_list = list(group)\n",
        "        if bit:\n",
        "            rle.extend([pos, sum(group_list)])\n",
        "        pos += len(group_list)\n",
        "    return rle"
      ],
      "execution_count": 0,
      "outputs": []
    },
    {
      "cell_type": "code",
      "metadata": {
        "id": "NKIAkduUw7_x",
        "colab_type": "code",
        "outputId": "6214bdc5-c4af-46f1-e150-03863736cd86",
        "colab": {
          "base_uri": "https://localhost:8080/",
          "height": 70
        }
      },
      "source": [
        "# Run prediction on test\n",
        "%%time\n",
        "test_path = TEST_DIR\n",
        "sub_list = []\n",
        "missing_count = 0\n",
        "for i, row in tqdm(pred_file.iterrows(), total=len(pred_file)):\n",
        "    image = resize_image(str(test_path/row['ImageId']))\n",
        "    result = model.detect([image])[0]\n",
        "    if result['masks'].size > 0:\n",
        "        masks, _ = refine_masks(result['masks'], result['rois'])\n",
        "        for m in range(masks.shape[-1]):\n",
        "            mask = masks[:, :, m].ravel(order='F')\n",
        "            rle = to_rle(mask)\n",
        "            label = result['class_ids'][m] - 1\n",
        "            sub_list.append([row['ImageId'], ' '.join(list(map(str, rle))), label])\n",
        "    else:\n",
        "        # The system does not allow missing ids, this is an easy way to fill them \n",
        "        sub_list.append([row['ImageId'], '1 1', 23])\n",
        "        missing_count += 1"
      ],
      "execution_count": 0,
      "outputs": [
        {
          "output_type": "stream",
          "text": [
            "100%|██████████| 4103/4103 [1:00:01<00:00,  1.16it/s]"
          ],
          "name": "stderr"
        },
        {
          "output_type": "stream",
          "text": [
            "CPU times: user 22min 35s, sys: 14min 45s, total: 37min 21s\n",
            "Wall time: 1h 1s\n"
          ],
          "name": "stdout"
        },
        {
          "output_type": "stream",
          "text": [
            "\n"
          ],
          "name": "stderr"
        }
      ]
    },
    {
      "cell_type": "code",
      "metadata": {
        "id": "5znsMPj0w9jK",
        "colab_type": "code",
        "outputId": "90b921f6-4c6d-49e2-87de-9b73a54a405a",
        "colab": {
          "base_uri": "https://localhost:8080/",
          "height": 233
        }
      },
      "source": [
        "# save predicted data in submission file to upload in Kaggle\n",
        "pred_df = pd.DataFrame(sub_list, columns=pred_file.columns.values)\n",
        "print(\"Total image results: \", pred_df['ImageId'].nunique())\n",
        "print(\"Missing Images: \", missing_count)\n",
        "\n",
        "pred_df.head()"
      ],
      "execution_count": 0,
      "outputs": [
        {
          "output_type": "stream",
          "text": [
            "Total image results:  4103\n",
            "Missing Images:  256\n"
          ],
          "name": "stdout"
        },
        {
          "output_type": "execute_result",
          "data": {
            "text/html": [
              "<div>\n",
              "<style scoped>\n",
              "    .dataframe tbody tr th:only-of-type {\n",
              "        vertical-align: middle;\n",
              "    }\n",
              "\n",
              "    .dataframe tbody tr th {\n",
              "        vertical-align: top;\n",
              "    }\n",
              "\n",
              "    .dataframe thead th {\n",
              "        text-align: right;\n",
              "    }\n",
              "</style>\n",
              "<table border=\"1\" class=\"dataframe\">\n",
              "  <thead>\n",
              "    <tr style=\"text-align: right;\">\n",
              "      <th></th>\n",
              "      <th>ImageId</th>\n",
              "      <th>EncodedPixels</th>\n",
              "      <th>CategoryId</th>\n",
              "    </tr>\n",
              "  </thead>\n",
              "  <tbody>\n",
              "    <tr>\n",
              "      <th>0</th>\n",
              "      <td>0000fe7c9191fba733c8a69cfaf962b7.jpg</td>\n",
              "      <td>60845 10 61351 20 61858 28 62364 37 62868 48 6...</td>\n",
              "      <td>1</td>\n",
              "    </tr>\n",
              "    <tr>\n",
              "      <th>1</th>\n",
              "      <td>0002ec21ddb8477e98b2cbb87ea2e269.jpg</td>\n",
              "      <td>102655 13 103161 29 103669 38 104178 53 104687...</td>\n",
              "      <td>8</td>\n",
              "    </tr>\n",
              "    <tr>\n",
              "      <th>2</th>\n",
              "      <td>0002ec21ddb8477e98b2cbb87ea2e269.jpg</td>\n",
              "      <td>103159 2 103190 3 103668 1 103707 4 104177 1 1...</td>\n",
              "      <td>1</td>\n",
              "    </tr>\n",
              "    <tr>\n",
              "      <th>3</th>\n",
              "      <td>0002ec21ddb8477e98b2cbb87ea2e269.jpg</td>\n",
              "      <td>152440 12 152949 15 153457 19 153966 22 154475...</td>\n",
              "      <td>8</td>\n",
              "    </tr>\n",
              "    <tr>\n",
              "      <th>4</th>\n",
              "      <td>0002f5a0ebc162ecfb73e2c91e3b8f62.jpg</td>\n",
              "      <td>117895 26 118401 35 118904 44 119415 45 119926...</td>\n",
              "      <td>1</td>\n",
              "    </tr>\n",
              "  </tbody>\n",
              "</table>\n",
              "</div>"
            ],
            "text/plain": [
              "                                ImageId  ... CategoryId\n",
              "0  0000fe7c9191fba733c8a69cfaf962b7.jpg  ...          1\n",
              "1  0002ec21ddb8477e98b2cbb87ea2e269.jpg  ...          8\n",
              "2  0002ec21ddb8477e98b2cbb87ea2e269.jpg  ...          1\n",
              "3  0002ec21ddb8477e98b2cbb87ea2e269.jpg  ...          8\n",
              "4  0002f5a0ebc162ecfb73e2c91e3b8f62.jpg  ...          1\n",
              "\n",
              "[5 rows x 3 columns]"
            ]
          },
          "metadata": {
            "tags": []
          },
          "execution_count": 59
        }
      ]
    },
    {
      "cell_type": "code",
      "metadata": {
        "id": "AZhMvbGogrLi",
        "colab_type": "code",
        "outputId": "6e253b73-bc0b-4bc2-8a59-ffe68d133830",
        "colab": {
          "base_uri": "https://localhost:8080/",
          "height": 301
        }
      },
      "source": [
        "pred_df['CategoryId'].value_counts()"
      ],
      "execution_count": 0,
      "outputs": [
        {
          "output_type": "execute_result",
          "data": {
            "text/plain": [
              "1     2775\n",
              "32    1955\n",
              "8     1493\n",
              "24     930\n",
              "19     652\n",
              "14     607\n",
              "4      570\n",
              "18     509\n",
              "0      475\n",
              "9      409\n",
              "7      284\n",
              "15     259\n",
              "23     256\n",
              "34      34\n",
              "35       1\n",
              "Name: CategoryId, dtype: int64"
            ]
          },
          "metadata": {
            "tags": []
          },
          "execution_count": 60
        }
      ]
    },
    {
      "cell_type": "code",
      "metadata": {
        "id": "9lQZ7Gu6xIT8",
        "colab_type": "code",
        "colab": {}
      },
      "source": [
        "pred_df.to_csv('pred_df_sampled.csv')"
      ],
      "execution_count": 0,
      "outputs": []
    },
    {
      "cell_type": "code",
      "metadata": {
        "id": "m3minn1AiswE",
        "colab_type": "code",
        "colab": {}
      },
      "source": [
        "normal_predict = pd.read_csv('/content/pred_df.csv') "
      ],
      "execution_count": 0,
      "outputs": []
    },
    {
      "cell_type": "code",
      "metadata": {
        "id": "vekShAqyjuAF",
        "colab_type": "code",
        "colab": {}
      },
      "source": [
        "normal_predict = normal_predict[~normal_predict['CategoryId'].isin([1,4,14])].reset_index()\n",
        "normal_predict.drop(columns = ['index','Unnamed: 0'], inplace = True)"
      ],
      "execution_count": 0,
      "outputs": []
    },
    {
      "cell_type": "code",
      "metadata": {
        "id": "hM42q4Bgki04",
        "colab_type": "code",
        "outputId": "50be4afa-102d-46b2-f648-a70a17ff4279",
        "colab": {
          "base_uri": "https://localhost:8080/",
          "height": 197
        }
      },
      "source": [
        "normal_predict.head()"
      ],
      "execution_count": 0,
      "outputs": [
        {
          "output_type": "execute_result",
          "data": {
            "text/html": [
              "<div>\n",
              "<style scoped>\n",
              "    .dataframe tbody tr th:only-of-type {\n",
              "        vertical-align: middle;\n",
              "    }\n",
              "\n",
              "    .dataframe tbody tr th {\n",
              "        vertical-align: top;\n",
              "    }\n",
              "\n",
              "    .dataframe thead th {\n",
              "        text-align: right;\n",
              "    }\n",
              "</style>\n",
              "<table border=\"1\" class=\"dataframe\">\n",
              "  <thead>\n",
              "    <tr style=\"text-align: right;\">\n",
              "      <th></th>\n",
              "      <th>ImageId</th>\n",
              "      <th>EncodedPixels</th>\n",
              "      <th>CategoryId</th>\n",
              "    </tr>\n",
              "  </thead>\n",
              "  <tbody>\n",
              "    <tr>\n",
              "      <th>0</th>\n",
              "      <td>0000fe7c9191fba733c8a69cfaf962b7.jpg</td>\n",
              "      <td>102498 4 103010 5 103522 6 104036 5 104549 5 1...</td>\n",
              "      <td>33</td>\n",
              "    </tr>\n",
              "    <tr>\n",
              "      <th>1</th>\n",
              "      <td>0000fe7c9191fba733c8a69cfaf962b7.jpg</td>\n",
              "      <td>173885 26 174395 30 174463 2 174719 11 174906 ...</td>\n",
              "      <td>31</td>\n",
              "    </tr>\n",
              "    <tr>\n",
              "      <th>2</th>\n",
              "      <td>0002ec21ddb8477e98b2cbb87ea2e269.jpg</td>\n",
              "      <td>135642 12 136150 18 136662 19 137185 9 137698 ...</td>\n",
              "      <td>23</td>\n",
              "    </tr>\n",
              "    <tr>\n",
              "      <th>3</th>\n",
              "      <td>0002ec21ddb8477e98b2cbb87ea2e269.jpg</td>\n",
              "      <td>118208 2 118716 10 119227 12 119737 15 120248 ...</td>\n",
              "      <td>23</td>\n",
              "    </tr>\n",
              "    <tr>\n",
              "      <th>4</th>\n",
              "      <td>0002ec21ddb8477e98b2cbb87ea2e269.jpg</td>\n",
              "      <td>102659 25 103166 34 103673 50 104179 70 104686...</td>\n",
              "      <td>10</td>\n",
              "    </tr>\n",
              "  </tbody>\n",
              "</table>\n",
              "</div>"
            ],
            "text/plain": [
              "                                ImageId  ... CategoryId\n",
              "0  0000fe7c9191fba733c8a69cfaf962b7.jpg  ...         33\n",
              "1  0000fe7c9191fba733c8a69cfaf962b7.jpg  ...         31\n",
              "2  0002ec21ddb8477e98b2cbb87ea2e269.jpg  ...         23\n",
              "3  0002ec21ddb8477e98b2cbb87ea2e269.jpg  ...         23\n",
              "4  0002ec21ddb8477e98b2cbb87ea2e269.jpg  ...         10\n",
              "\n",
              "[5 rows x 3 columns]"
            ]
          },
          "metadata": {
            "tags": []
          },
          "execution_count": 65
        }
      ]
    },
    {
      "cell_type": "code",
      "metadata": {
        "id": "_SohowBij2Ew",
        "colab_type": "code",
        "outputId": "a02fa520-a032-422e-921b-ef83bb40774a",
        "colab": {
          "base_uri": "https://localhost:8080/",
          "height": 197
        }
      },
      "source": [
        "sampled_predict = pred_df[pred_df['CategoryId'].isin([1,4,14])].reset_index(drop = True)\n",
        "sampled_predict.head()"
      ],
      "execution_count": 0,
      "outputs": [
        {
          "output_type": "execute_result",
          "data": {
            "text/html": [
              "<div>\n",
              "<style scoped>\n",
              "    .dataframe tbody tr th:only-of-type {\n",
              "        vertical-align: middle;\n",
              "    }\n",
              "\n",
              "    .dataframe tbody tr th {\n",
              "        vertical-align: top;\n",
              "    }\n",
              "\n",
              "    .dataframe thead th {\n",
              "        text-align: right;\n",
              "    }\n",
              "</style>\n",
              "<table border=\"1\" class=\"dataframe\">\n",
              "  <thead>\n",
              "    <tr style=\"text-align: right;\">\n",
              "      <th></th>\n",
              "      <th>ImageId</th>\n",
              "      <th>EncodedPixels</th>\n",
              "      <th>CategoryId</th>\n",
              "    </tr>\n",
              "  </thead>\n",
              "  <tbody>\n",
              "    <tr>\n",
              "      <th>0</th>\n",
              "      <td>0000fe7c9191fba733c8a69cfaf962b7.jpg</td>\n",
              "      <td>60845 10 61351 20 61858 28 62364 37 62868 48 6...</td>\n",
              "      <td>1</td>\n",
              "    </tr>\n",
              "    <tr>\n",
              "      <th>1</th>\n",
              "      <td>0002ec21ddb8477e98b2cbb87ea2e269.jpg</td>\n",
              "      <td>103159 2 103190 3 103668 1 103707 4 104177 1 1...</td>\n",
              "      <td>1</td>\n",
              "    </tr>\n",
              "    <tr>\n",
              "      <th>2</th>\n",
              "      <td>0002f5a0ebc162ecfb73e2c91e3b8f62.jpg</td>\n",
              "      <td>117895 26 118401 35 118904 44 119415 45 119926...</td>\n",
              "      <td>1</td>\n",
              "    </tr>\n",
              "    <tr>\n",
              "      <th>3</th>\n",
              "      <td>000aac3870ea7c59ca0333ffa5327323.jpg</td>\n",
              "      <td>114432 6 114941 10 115450 13 115957 18 116466 ...</td>\n",
              "      <td>1</td>\n",
              "    </tr>\n",
              "    <tr>\n",
              "      <th>4</th>\n",
              "      <td>000b3a87508b0fa185fbd53ecbe2e4c6.jpg</td>\n",
              "      <td>93835 6 94345 9 94856 12 95368 13 95879 16 963...</td>\n",
              "      <td>1</td>\n",
              "    </tr>\n",
              "  </tbody>\n",
              "</table>\n",
              "</div>"
            ],
            "text/plain": [
              "                                ImageId  ... CategoryId\n",
              "0  0000fe7c9191fba733c8a69cfaf962b7.jpg  ...          1\n",
              "1  0002ec21ddb8477e98b2cbb87ea2e269.jpg  ...          1\n",
              "2  0002f5a0ebc162ecfb73e2c91e3b8f62.jpg  ...          1\n",
              "3  000aac3870ea7c59ca0333ffa5327323.jpg  ...          1\n",
              "4  000b3a87508b0fa185fbd53ecbe2e4c6.jpg  ...          1\n",
              "\n",
              "[5 rows x 3 columns]"
            ]
          },
          "metadata": {
            "tags": []
          },
          "execution_count": 66
        }
      ]
    },
    {
      "cell_type": "code",
      "metadata": {
        "id": "NFcRpJmykEmn",
        "colab_type": "code",
        "outputId": "828a2de1-1128-41eb-ab11-4ad30e57b2bb",
        "colab": {
          "base_uri": "https://localhost:8080/",
          "height": 34
        }
      },
      "source": [
        "normal_predict.shape, sampled_predict.shape"
      ],
      "execution_count": 0,
      "outputs": [
        {
          "output_type": "execute_result",
          "data": {
            "text/plain": [
              "((26426, 3), (3952, 3))"
            ]
          },
          "metadata": {
            "tags": []
          },
          "execution_count": 67
        }
      ]
    },
    {
      "cell_type": "code",
      "metadata": {
        "id": "ZpeSv-Y_kSbv",
        "colab_type": "code",
        "colab": {}
      },
      "source": [
        "new_pred = pd.concat([normal_predict,sampled_predict],ignore_index=True).drop_duplicates().reset_index(drop=True)"
      ],
      "execution_count": 0,
      "outputs": []
    },
    {
      "cell_type": "code",
      "metadata": {
        "id": "JlGVfbQ0lVzH",
        "colab_type": "code",
        "colab": {}
      },
      "source": [
        "new_pred.to_csv('combined_pred.csv')"
      ],
      "execution_count": 0,
      "outputs": []
    },
    {
      "cell_type": "code",
      "metadata": {
        "id": "FPw0DdINmJxc",
        "colab_type": "code",
        "outputId": "d9af9766-57c2-4cf6-fd50-1ccd7d837812",
        "colab": {
          "base_uri": "https://localhost:8080/",
          "height": 227
        }
      },
      "source": [
        "# Rows with the same image grouped together\n",
        "new_pred = new_pred.groupby('ImageId')['EncodedPixels', 'CategoryId'].agg(lambda x: list(x))\n",
        "new_pred.head()"
      ],
      "execution_count": 0,
      "outputs": [
        {
          "output_type": "execute_result",
          "data": {
            "text/html": [
              "<div>\n",
              "<style scoped>\n",
              "    .dataframe tbody tr th:only-of-type {\n",
              "        vertical-align: middle;\n",
              "    }\n",
              "\n",
              "    .dataframe tbody tr th {\n",
              "        vertical-align: top;\n",
              "    }\n",
              "\n",
              "    .dataframe thead th {\n",
              "        text-align: right;\n",
              "    }\n",
              "</style>\n",
              "<table border=\"1\" class=\"dataframe\">\n",
              "  <thead>\n",
              "    <tr style=\"text-align: right;\">\n",
              "      <th></th>\n",
              "      <th>EncodedPixels</th>\n",
              "      <th>CategoryId</th>\n",
              "    </tr>\n",
              "    <tr>\n",
              "      <th>ImageId</th>\n",
              "      <th></th>\n",
              "      <th></th>\n",
              "    </tr>\n",
              "  </thead>\n",
              "  <tbody>\n",
              "    <tr>\n",
              "      <th>0000fe7c9191fba733c8a69cfaf962b7.jpg</th>\n",
              "      <td>[102498 4 103010 5 103522 6 104036 5 104549 5 ...</td>\n",
              "      <td>[33, 31, 1]</td>\n",
              "    </tr>\n",
              "    <tr>\n",
              "      <th>0002ec21ddb8477e98b2cbb87ea2e269.jpg</th>\n",
              "      <td>[135642 12 136150 18 136662 19 137185 9 137698...</td>\n",
              "      <td>[23, 23, 10, 33, 1]</td>\n",
              "    </tr>\n",
              "    <tr>\n",
              "      <th>0002f5a0ebc162ecfb73e2c91e3b8f62.jpg</th>\n",
              "      <td>[4544 4 5053 10 5563 13 6073 16 6582 21 7091 2...</td>\n",
              "      <td>[10, 33, 33, 37, 1]</td>\n",
              "    </tr>\n",
              "    <tr>\n",
              "      <th>000aac3870ea7c59ca0333ffa5327323.jpg</th>\n",
              "      <td>[95481 11 95982 30 96482 47 96989 55 97495 63 ...</td>\n",
              "      <td>[31, 33, 10, 33, 1]</td>\n",
              "    </tr>\n",
              "    <tr>\n",
              "      <th>000b3a87508b0fa185fbd53ecbe2e4c6.jpg</th>\n",
              "      <td>[141205 6 141715 10 142226 12 142736 15 143246...</td>\n",
              "      <td>[24, 33, 10, 19, 13, 21, 21, 1]</td>\n",
              "    </tr>\n",
              "  </tbody>\n",
              "</table>\n",
              "</div>"
            ],
            "text/plain": [
              "                                                                          EncodedPixels                       CategoryId\n",
              "ImageId                                                                                                                 \n",
              "0000fe7c9191fba733c8a69cfaf962b7.jpg  [102498 4 103010 5 103522 6 104036 5 104549 5 ...                      [33, 31, 1]\n",
              "0002ec21ddb8477e98b2cbb87ea2e269.jpg  [135642 12 136150 18 136662 19 137185 9 137698...              [23, 23, 10, 33, 1]\n",
              "0002f5a0ebc162ecfb73e2c91e3b8f62.jpg  [4544 4 5053 10 5563 13 6073 16 6582 21 7091 2...              [10, 33, 33, 37, 1]\n",
              "000aac3870ea7c59ca0333ffa5327323.jpg  [95481 11 95982 30 96482 47 96989 55 97495 63 ...              [31, 33, 10, 33, 1]\n",
              "000b3a87508b0fa185fbd53ecbe2e4c6.jpg  [141205 6 141715 10 142226 12 142736 15 143246...  [24, 33, 10, 19, 13, 21, 21, 1]"
            ]
          },
          "metadata": {
            "tags": []
          },
          "execution_count": 69
        }
      ]
    },
    {
      "cell_type": "code",
      "metadata": {
        "id": "D3IiA9xYli5Q",
        "colab_type": "code",
        "outputId": "1ea6bccf-f10c-423b-faff-7fa1426e4f7b",
        "colab": {
          "base_uri": "https://localhost:8080/",
          "height": 227
        }
      },
      "source": [
        "image_df2.head()"
      ],
      "execution_count": 0,
      "outputs": [
        {
          "output_type": "execute_result",
          "data": {
            "text/html": [
              "<div>\n",
              "<style scoped>\n",
              "    .dataframe tbody tr th:only-of-type {\n",
              "        vertical-align: middle;\n",
              "    }\n",
              "\n",
              "    .dataframe tbody tr th {\n",
              "        vertical-align: top;\n",
              "    }\n",
              "\n",
              "    .dataframe thead th {\n",
              "        text-align: right;\n",
              "    }\n",
              "</style>\n",
              "<table border=\"1\" class=\"dataframe\">\n",
              "  <thead>\n",
              "    <tr style=\"text-align: right;\">\n",
              "      <th></th>\n",
              "      <th>EncodedPixels</th>\n",
              "      <th>CategoryId</th>\n",
              "      <th>Height</th>\n",
              "      <th>Width</th>\n",
              "    </tr>\n",
              "    <tr>\n",
              "      <th>ImageId</th>\n",
              "      <th></th>\n",
              "      <th></th>\n",
              "      <th></th>\n",
              "      <th></th>\n",
              "    </tr>\n",
              "  </thead>\n",
              "  <tbody>\n",
              "    <tr>\n",
              "      <th>0000fe7c9191fba733c8a69cfaf962b7.jpg</th>\n",
              "      <td>[2201176 1 2203623 3 2206071 5 2208518 8 22109...</td>\n",
              "      <td>[33, 1]</td>\n",
              "      <td>2448</td>\n",
              "      <td>2448</td>\n",
              "    </tr>\n",
              "    <tr>\n",
              "      <th>0002ec21ddb8477e98b2cbb87ea2e269.jpg</th>\n",
              "      <td>[2673735 2 2676734 8 2679734 13 2682733 19 268...</td>\n",
              "      <td>[33, 10, 23, 23]</td>\n",
              "      <td>3000</td>\n",
              "      <td>1997</td>\n",
              "    </tr>\n",
              "    <tr>\n",
              "      <th>0002f5a0ebc162ecfb73e2c91e3b8f62.jpg</th>\n",
              "      <td>[435 132 1002 132 1569 132 2136 132 2703 132 3...</td>\n",
              "      <td>[10, 33, 15]</td>\n",
              "      <td>567</td>\n",
              "      <td>400</td>\n",
              "    </tr>\n",
              "    <tr>\n",
              "      <th>000aac3870ea7c59ca0333ffa5327323.jpg</th>\n",
              "      <td>[8971124 17 8975101 49 8979077 82 8983053 116 ...</td>\n",
              "      <td>[10, 33, 3, 31, 31, 33]</td>\n",
              "      <td>4000</td>\n",
              "      <td>6000</td>\n",
              "    </tr>\n",
              "    <tr>\n",
              "      <th>000b3a87508b0fa185fbd53ecbe2e4c6.jpg</th>\n",
              "      <td>[291578 3 292856 8 294133 13 295410 19 296687 ...</td>\n",
              "      <td>[10, 33, 24]</td>\n",
              "      <td>1280</td>\n",
              "      <td>852</td>\n",
              "    </tr>\n",
              "  </tbody>\n",
              "</table>\n",
              "</div>"
            ],
            "text/plain": [
              "                                                                          EncodedPixels  ... Width\n",
              "ImageId                                                                                  ...      \n",
              "0000fe7c9191fba733c8a69cfaf962b7.jpg  [2201176 1 2203623 3 2206071 5 2208518 8 22109...  ...  2448\n",
              "0002ec21ddb8477e98b2cbb87ea2e269.jpg  [2673735 2 2676734 8 2679734 13 2682733 19 268...  ...  1997\n",
              "0002f5a0ebc162ecfb73e2c91e3b8f62.jpg  [435 132 1002 132 1569 132 2136 132 2703 132 3...  ...   400\n",
              "000aac3870ea7c59ca0333ffa5327323.jpg  [8971124 17 8975101 49 8979077 82 8983053 116 ...  ...  6000\n",
              "000b3a87508b0fa185fbd53ecbe2e4c6.jpg  [291578 3 292856 8 294133 13 295410 19 296687 ...  ...   852\n",
              "\n",
              "[5 rows x 4 columns]"
            ]
          },
          "metadata": {
            "tags": []
          },
          "execution_count": 70
        }
      ]
    },
    {
      "cell_type": "code",
      "metadata": {
        "id": "Z__Dd9sfmRR-",
        "colab_type": "code",
        "outputId": "832c85e1-e0fd-4ef2-b1fd-5b45251f0f1f",
        "colab": {
          "base_uri": "https://localhost:8080/",
          "height": 34
        }
      },
      "source": [
        "new_pred.shape, image_df2.shape"
      ],
      "execution_count": 0,
      "outputs": [
        {
          "output_type": "execute_result",
          "data": {
            "text/plain": [
              "((4103, 2), (4103, 4))"
            ]
          },
          "metadata": {
            "tags": []
          },
          "execution_count": 71
        }
      ]
    },
    {
      "cell_type": "code",
      "metadata": {
        "id": "Xy3VNEeul5OU",
        "colab_type": "code",
        "colab": {}
      },
      "source": [
        "combine_df = image_df2.reset_index().merge(new_pred.reset_index(), how='inner', left_on='ImageId', right_on='ImageId').loc[:,['ImageId','CategoryId_x','CategoryId_y']]"
      ],
      "execution_count": 0,
      "outputs": []
    },
    {
      "cell_type": "code",
      "metadata": {
        "id": "s6ewMC9Lmz9S",
        "colab_type": "code",
        "outputId": "df16dd8e-cfa7-45c7-fe32-c13aa60b2ec7",
        "colab": {
          "base_uri": "https://localhost:8080/",
          "height": 197
        }
      },
      "source": [
        "combine_df.columns = ['ImageId','Truth','Prediction']\n",
        "combine_df.head()"
      ],
      "execution_count": 0,
      "outputs": [
        {
          "output_type": "execute_result",
          "data": {
            "text/html": [
              "<div>\n",
              "<style scoped>\n",
              "    .dataframe tbody tr th:only-of-type {\n",
              "        vertical-align: middle;\n",
              "    }\n",
              "\n",
              "    .dataframe tbody tr th {\n",
              "        vertical-align: top;\n",
              "    }\n",
              "\n",
              "    .dataframe thead th {\n",
              "        text-align: right;\n",
              "    }\n",
              "</style>\n",
              "<table border=\"1\" class=\"dataframe\">\n",
              "  <thead>\n",
              "    <tr style=\"text-align: right;\">\n",
              "      <th></th>\n",
              "      <th>ImageId</th>\n",
              "      <th>Truth</th>\n",
              "      <th>Prediction</th>\n",
              "    </tr>\n",
              "  </thead>\n",
              "  <tbody>\n",
              "    <tr>\n",
              "      <th>0</th>\n",
              "      <td>0000fe7c9191fba733c8a69cfaf962b7.jpg</td>\n",
              "      <td>[33, 1]</td>\n",
              "      <td>[33, 31, 1]</td>\n",
              "    </tr>\n",
              "    <tr>\n",
              "      <th>1</th>\n",
              "      <td>0002ec21ddb8477e98b2cbb87ea2e269.jpg</td>\n",
              "      <td>[33, 10, 23, 23]</td>\n",
              "      <td>[23, 23, 10, 33, 1]</td>\n",
              "    </tr>\n",
              "    <tr>\n",
              "      <th>2</th>\n",
              "      <td>0002f5a0ebc162ecfb73e2c91e3b8f62.jpg</td>\n",
              "      <td>[10, 33, 15]</td>\n",
              "      <td>[10, 33, 33, 37, 1]</td>\n",
              "    </tr>\n",
              "    <tr>\n",
              "      <th>3</th>\n",
              "      <td>000aac3870ea7c59ca0333ffa5327323.jpg</td>\n",
              "      <td>[10, 33, 3, 31, 31, 33]</td>\n",
              "      <td>[31, 33, 10, 33, 1]</td>\n",
              "    </tr>\n",
              "    <tr>\n",
              "      <th>4</th>\n",
              "      <td>000b3a87508b0fa185fbd53ecbe2e4c6.jpg</td>\n",
              "      <td>[10, 33, 24]</td>\n",
              "      <td>[24, 33, 10, 19, 13, 21, 21, 1]</td>\n",
              "    </tr>\n",
              "  </tbody>\n",
              "</table>\n",
              "</div>"
            ],
            "text/plain": [
              "                                ImageId  ...                       Prediction\n",
              "0  0000fe7c9191fba733c8a69cfaf962b7.jpg  ...                      [33, 31, 1]\n",
              "1  0002ec21ddb8477e98b2cbb87ea2e269.jpg  ...              [23, 23, 10, 33, 1]\n",
              "2  0002f5a0ebc162ecfb73e2c91e3b8f62.jpg  ...              [10, 33, 33, 37, 1]\n",
              "3  000aac3870ea7c59ca0333ffa5327323.jpg  ...              [31, 33, 10, 33, 1]\n",
              "4  000b3a87508b0fa185fbd53ecbe2e4c6.jpg  ...  [24, 33, 10, 19, 13, 21, 21, 1]\n",
              "\n",
              "[5 rows x 3 columns]"
            ]
          },
          "metadata": {
            "tags": []
          },
          "execution_count": 73
        }
      ]
    },
    {
      "cell_type": "code",
      "metadata": {
        "id": "zbusx82mm8OI",
        "colab_type": "code",
        "colab": {}
      },
      "source": [
        "combine_df['Truth'] = combine_df['Truth'].map(lambda x:[int(y) for y in x])"
      ],
      "execution_count": 0,
      "outputs": []
    },
    {
      "cell_type": "code",
      "metadata": {
        "id": "NJ4Ll_NnnBOS",
        "colab_type": "code",
        "outputId": "0c83c2f7-b57d-401c-c28c-a18d4aabf040",
        "colab": {
          "base_uri": "https://localhost:8080/",
          "height": 197
        }
      },
      "source": [
        "combine_df['correct']= combine_df['Truth']\n",
        "combine_df['missed']= combine_df['Truth']\n",
        "combine_df['extra']= combine_df['Truth']\n",
        "\n",
        "for i in range(len(combine_df)):\n",
        "  combine_df.loc[i,'correct'] = (list(set(combine_df.iloc[i,1]).intersection(combine_df.iloc[i,2])))\n",
        "  combine_df.loc[i,'missed'] = (list(set(combine_df.iloc[i,1]) - set(combine_df.iloc[i,2])))\n",
        "  combine_df.loc[i,'extra'] = (list(set(combine_df.iloc[i,2]) - set(combine_df.iloc[i,1])))\n",
        "\n",
        "combine_df.head()"
      ],
      "execution_count": 0,
      "outputs": [
        {
          "output_type": "execute_result",
          "data": {
            "text/html": [
              "<div>\n",
              "<style scoped>\n",
              "    .dataframe tbody tr th:only-of-type {\n",
              "        vertical-align: middle;\n",
              "    }\n",
              "\n",
              "    .dataframe tbody tr th {\n",
              "        vertical-align: top;\n",
              "    }\n",
              "\n",
              "    .dataframe thead th {\n",
              "        text-align: right;\n",
              "    }\n",
              "</style>\n",
              "<table border=\"1\" class=\"dataframe\">\n",
              "  <thead>\n",
              "    <tr style=\"text-align: right;\">\n",
              "      <th></th>\n",
              "      <th>ImageId</th>\n",
              "      <th>Truth</th>\n",
              "      <th>Prediction</th>\n",
              "      <th>correct</th>\n",
              "      <th>missed</th>\n",
              "      <th>extra</th>\n",
              "    </tr>\n",
              "  </thead>\n",
              "  <tbody>\n",
              "    <tr>\n",
              "      <th>0</th>\n",
              "      <td>0000fe7c9191fba733c8a69cfaf962b7.jpg</td>\n",
              "      <td>[33, 1]</td>\n",
              "      <td>[33, 31, 1]</td>\n",
              "      <td>[33, 1]</td>\n",
              "      <td>[]</td>\n",
              "      <td>[31]</td>\n",
              "    </tr>\n",
              "    <tr>\n",
              "      <th>1</th>\n",
              "      <td>0002ec21ddb8477e98b2cbb87ea2e269.jpg</td>\n",
              "      <td>[33, 10, 23, 23]</td>\n",
              "      <td>[23, 23, 10, 33, 1]</td>\n",
              "      <td>[33, 10, 23]</td>\n",
              "      <td>[]</td>\n",
              "      <td>[1]</td>\n",
              "    </tr>\n",
              "    <tr>\n",
              "      <th>2</th>\n",
              "      <td>0002f5a0ebc162ecfb73e2c91e3b8f62.jpg</td>\n",
              "      <td>[10, 33, 15]</td>\n",
              "      <td>[10, 33, 33, 37, 1]</td>\n",
              "      <td>[33, 10]</td>\n",
              "      <td>[15]</td>\n",
              "      <td>[1, 37]</td>\n",
              "    </tr>\n",
              "    <tr>\n",
              "      <th>3</th>\n",
              "      <td>000aac3870ea7c59ca0333ffa5327323.jpg</td>\n",
              "      <td>[10, 33, 3, 31, 31, 33]</td>\n",
              "      <td>[31, 33, 10, 33, 1]</td>\n",
              "      <td>[33, 10, 31]</td>\n",
              "      <td>[3]</td>\n",
              "      <td>[1]</td>\n",
              "    </tr>\n",
              "    <tr>\n",
              "      <th>4</th>\n",
              "      <td>000b3a87508b0fa185fbd53ecbe2e4c6.jpg</td>\n",
              "      <td>[10, 33, 24]</td>\n",
              "      <td>[24, 33, 10, 19, 13, 21, 21, 1]</td>\n",
              "      <td>[24, 33, 10]</td>\n",
              "      <td>[]</td>\n",
              "      <td>[1, 21, 19, 13]</td>\n",
              "    </tr>\n",
              "  </tbody>\n",
              "</table>\n",
              "</div>"
            ],
            "text/plain": [
              "                                ImageId  ...            extra\n",
              "0  0000fe7c9191fba733c8a69cfaf962b7.jpg  ...             [31]\n",
              "1  0002ec21ddb8477e98b2cbb87ea2e269.jpg  ...              [1]\n",
              "2  0002f5a0ebc162ecfb73e2c91e3b8f62.jpg  ...          [1, 37]\n",
              "3  000aac3870ea7c59ca0333ffa5327323.jpg  ...              [1]\n",
              "4  000b3a87508b0fa185fbd53ecbe2e4c6.jpg  ...  [1, 21, 19, 13]\n",
              "\n",
              "[5 rows x 6 columns]"
            ]
          },
          "metadata": {
            "tags": []
          },
          "execution_count": 75
        }
      ]
    },
    {
      "cell_type": "code",
      "metadata": {
        "id": "urDO7wUVnGjq",
        "colab_type": "code",
        "colab": {}
      },
      "source": [
        "correct_list = []\n",
        "missed_list = []\n",
        "extra_list = []\n",
        "\n",
        "for i in range(len(combine_df)):\n",
        "  correct_list.extend(combine_df.iloc[i,3])\n",
        "  missed_list.extend(combine_df.iloc[i,4])\n",
        "  extra_list.extend(combine_df.iloc[i,5])"
      ],
      "execution_count": 0,
      "outputs": []
    },
    {
      "cell_type": "code",
      "metadata": {
        "id": "hOU51TVanMqk",
        "colab_type": "code",
        "outputId": "e19055a9-4ae8-4d88-8048-6643031cca9e",
        "colab": {
          "base_uri": "https://localhost:8080/",
          "height": 197
        }
      },
      "source": [
        "label_df = pd.DataFrame(label_names).reset_index()\n",
        "label_df.columns = ['Id','Labels']\n",
        "label_df.head()"
      ],
      "execution_count": 0,
      "outputs": [
        {
          "output_type": "execute_result",
          "data": {
            "text/html": [
              "<div>\n",
              "<style scoped>\n",
              "    .dataframe tbody tr th:only-of-type {\n",
              "        vertical-align: middle;\n",
              "    }\n",
              "\n",
              "    .dataframe tbody tr th {\n",
              "        vertical-align: top;\n",
              "    }\n",
              "\n",
              "    .dataframe thead th {\n",
              "        text-align: right;\n",
              "    }\n",
              "</style>\n",
              "<table border=\"1\" class=\"dataframe\">\n",
              "  <thead>\n",
              "    <tr style=\"text-align: right;\">\n",
              "      <th></th>\n",
              "      <th>Id</th>\n",
              "      <th>Labels</th>\n",
              "    </tr>\n",
              "  </thead>\n",
              "  <tbody>\n",
              "    <tr>\n",
              "      <th>0</th>\n",
              "      <td>0</td>\n",
              "      <td>shirt, blouse</td>\n",
              "    </tr>\n",
              "    <tr>\n",
              "      <th>1</th>\n",
              "      <td>1</td>\n",
              "      <td>top, t-shirt, sweatshirt</td>\n",
              "    </tr>\n",
              "    <tr>\n",
              "      <th>2</th>\n",
              "      <td>2</td>\n",
              "      <td>sweater</td>\n",
              "    </tr>\n",
              "    <tr>\n",
              "      <th>3</th>\n",
              "      <td>3</td>\n",
              "      <td>cardigan</td>\n",
              "    </tr>\n",
              "    <tr>\n",
              "      <th>4</th>\n",
              "      <td>4</td>\n",
              "      <td>jacket</td>\n",
              "    </tr>\n",
              "  </tbody>\n",
              "</table>\n",
              "</div>"
            ],
            "text/plain": [
              "   Id                    Labels\n",
              "0   0             shirt, blouse\n",
              "1   1  top, t-shirt, sweatshirt\n",
              "2   2                   sweater\n",
              "3   3                  cardigan\n",
              "4   4                    jacket"
            ]
          },
          "metadata": {
            "tags": []
          },
          "execution_count": 77
        }
      ]
    },
    {
      "cell_type": "code",
      "metadata": {
        "id": "c7zJZX4fnWIE",
        "colab_type": "code",
        "outputId": "d75d0326-db57-43cf-bc41-bc8fd9c643af",
        "colab": {
          "base_uri": "https://localhost:8080/",
          "height": 347
        }
      },
      "source": [
        "from collections import Counter\n",
        "correct_df = pd.DataFrame.from_dict(Counter(correct_list), orient='index').reset_index().sort_values(by = 0, ascending = False)\\\n",
        "                        .merge(label_df, left_on = 'index', right_on='Id').loc[:,[0,'Labels']]\n",
        "correct_df.columns = ['Count Correct','Labels']\n",
        "correct_df.head(10)"
      ],
      "execution_count": 0,
      "outputs": [
        {
          "output_type": "execute_result",
          "data": {
            "text/html": [
              "<div>\n",
              "<style scoped>\n",
              "    .dataframe tbody tr th:only-of-type {\n",
              "        vertical-align: middle;\n",
              "    }\n",
              "\n",
              "    .dataframe tbody tr th {\n",
              "        vertical-align: top;\n",
              "    }\n",
              "\n",
              "    .dataframe thead th {\n",
              "        text-align: right;\n",
              "    }\n",
              "</style>\n",
              "<table border=\"1\" class=\"dataframe\">\n",
              "  <thead>\n",
              "    <tr style=\"text-align: right;\">\n",
              "      <th></th>\n",
              "      <th>Count Correct</th>\n",
              "      <th>Labels</th>\n",
              "    </tr>\n",
              "  </thead>\n",
              "  <tbody>\n",
              "    <tr>\n",
              "      <th>0</th>\n",
              "      <td>2566</td>\n",
              "      <td>sleeve</td>\n",
              "    </tr>\n",
              "    <tr>\n",
              "      <th>1</th>\n",
              "      <td>2409</td>\n",
              "      <td>neckline</td>\n",
              "    </tr>\n",
              "    <tr>\n",
              "      <th>2</th>\n",
              "      <td>2040</td>\n",
              "      <td>shoe</td>\n",
              "    </tr>\n",
              "    <tr>\n",
              "      <th>3</th>\n",
              "      <td>1308</td>\n",
              "      <td>dress</td>\n",
              "    </tr>\n",
              "    <tr>\n",
              "      <th>4</th>\n",
              "      <td>1045</td>\n",
              "      <td>top, t-shirt, sweatshirt</td>\n",
              "    </tr>\n",
              "    <tr>\n",
              "      <th>5</th>\n",
              "      <td>1037</td>\n",
              "      <td>pants</td>\n",
              "    </tr>\n",
              "    <tr>\n",
              "      <th>6</th>\n",
              "      <td>605</td>\n",
              "      <td>pocket</td>\n",
              "    </tr>\n",
              "    <tr>\n",
              "      <th>7</th>\n",
              "      <td>565</td>\n",
              "      <td>collar</td>\n",
              "    </tr>\n",
              "    <tr>\n",
              "      <th>8</th>\n",
              "      <td>394</td>\n",
              "      <td>jacket</td>\n",
              "    </tr>\n",
              "    <tr>\n",
              "      <th>9</th>\n",
              "      <td>366</td>\n",
              "      <td>lapel</td>\n",
              "    </tr>\n",
              "  </tbody>\n",
              "</table>\n",
              "</div>"
            ],
            "text/plain": [
              "   Count Correct                    Labels\n",
              "0           2566                    sleeve\n",
              "1           2409                  neckline\n",
              "2           2040                      shoe\n",
              "3           1308                     dress\n",
              "4           1045  top, t-shirt, sweatshirt\n",
              "5           1037                     pants\n",
              "6            605                    pocket\n",
              "7            565                    collar\n",
              "8            394                    jacket\n",
              "9            366                     lapel"
            ]
          },
          "metadata": {
            "tags": []
          },
          "execution_count": 79
        }
      ]
    },
    {
      "cell_type": "code",
      "metadata": {
        "id": "O7DqLLqfnWbk",
        "colab_type": "code",
        "outputId": "0a644301-4d27-476c-fa79-d249773d5f25",
        "colab": {
          "base_uri": "https://localhost:8080/",
          "height": 197
        }
      },
      "source": [
        "missed_df = pd.DataFrame.from_dict(Counter(missed_list), orient='index').reset_index().sort_values(by = 0, ascending = False)\\\n",
        "                        .merge(label_df, left_on = 'index', right_on='Id').loc[:,[0,'Id','Labels']]\n",
        "missed_df.columns = ['Count Missed','Label Id','Labels']\n",
        "missed_df.head()"
      ],
      "execution_count": 0,
      "outputs": [
        {
          "output_type": "execute_result",
          "data": {
            "text/html": [
              "<div>\n",
              "<style scoped>\n",
              "    .dataframe tbody tr th:only-of-type {\n",
              "        vertical-align: middle;\n",
              "    }\n",
              "\n",
              "    .dataframe tbody tr th {\n",
              "        vertical-align: top;\n",
              "    }\n",
              "\n",
              "    .dataframe thead th {\n",
              "        text-align: right;\n",
              "    }\n",
              "</style>\n",
              "<table border=\"1\" class=\"dataframe\">\n",
              "  <thead>\n",
              "    <tr style=\"text-align: right;\">\n",
              "      <th></th>\n",
              "      <th>Count Missed</th>\n",
              "      <th>Label Id</th>\n",
              "      <th>Labels</th>\n",
              "    </tr>\n",
              "  </thead>\n",
              "  <tbody>\n",
              "    <tr>\n",
              "      <th>0</th>\n",
              "      <td>609</td>\n",
              "      <td>32</td>\n",
              "      <td>pocket</td>\n",
              "    </tr>\n",
              "    <tr>\n",
              "      <th>1</th>\n",
              "      <td>568</td>\n",
              "      <td>33</td>\n",
              "      <td>neckline</td>\n",
              "    </tr>\n",
              "    <tr>\n",
              "      <th>2</th>\n",
              "      <td>469</td>\n",
              "      <td>0</td>\n",
              "      <td>shirt, blouse</td>\n",
              "    </tr>\n",
              "    <tr>\n",
              "      <th>3</th>\n",
              "      <td>426</td>\n",
              "      <td>1</td>\n",
              "      <td>top, t-shirt, sweatshirt</td>\n",
              "    </tr>\n",
              "    <tr>\n",
              "      <th>4</th>\n",
              "      <td>411</td>\n",
              "      <td>19</td>\n",
              "      <td>belt</td>\n",
              "    </tr>\n",
              "  </tbody>\n",
              "</table>\n",
              "</div>"
            ],
            "text/plain": [
              "   Count Missed  Label Id                    Labels\n",
              "0           609        32                    pocket\n",
              "1           568        33                  neckline\n",
              "2           469         0             shirt, blouse\n",
              "3           426         1  top, t-shirt, sweatshirt\n",
              "4           411        19                      belt"
            ]
          },
          "metadata": {
            "tags": []
          },
          "execution_count": 80
        }
      ]
    },
    {
      "cell_type": "code",
      "metadata": {
        "id": "kESUa1xRnhny",
        "colab_type": "code",
        "outputId": "989f4753-88fd-41b1-e22d-c4e0c7947af0",
        "colab": {
          "base_uri": "https://localhost:8080/",
          "height": 197
        }
      },
      "source": [
        "extra_df = pd.DataFrame.from_dict(Counter(extra_list), orient='index').reset_index().sort_values(by = 0, ascending = False)\\\n",
        "                        .merge(label_df, left_on = 'index', right_on='Id').loc[:,[0,'Labels']]\n",
        "extra_df.columns = ['Count Extra','Labels']\n",
        "extra_df.head()"
      ],
      "execution_count": 0,
      "outputs": [
        {
          "output_type": "execute_result",
          "data": {
            "text/html": [
              "<div>\n",
              "<style scoped>\n",
              "    .dataframe tbody tr th:only-of-type {\n",
              "        vertical-align: middle;\n",
              "    }\n",
              "\n",
              "    .dataframe tbody tr th {\n",
              "        vertical-align: top;\n",
              "    }\n",
              "\n",
              "    .dataframe thead th {\n",
              "        text-align: right;\n",
              "    }\n",
              "</style>\n",
              "<table border=\"1\" class=\"dataframe\">\n",
              "  <thead>\n",
              "    <tr style=\"text-align: right;\">\n",
              "      <th></th>\n",
              "      <th>Count Extra</th>\n",
              "      <th>Labels</th>\n",
              "    </tr>\n",
              "  </thead>\n",
              "  <tbody>\n",
              "    <tr>\n",
              "      <th>0</th>\n",
              "      <td>1474</td>\n",
              "      <td>top, t-shirt, sweatshirt</td>\n",
              "    </tr>\n",
              "    <tr>\n",
              "      <th>1</th>\n",
              "      <td>701</td>\n",
              "      <td>sleeve</td>\n",
              "    </tr>\n",
              "    <tr>\n",
              "      <th>2</th>\n",
              "      <td>422</td>\n",
              "      <td>pants</td>\n",
              "    </tr>\n",
              "    <tr>\n",
              "      <th>3</th>\n",
              "      <td>420</td>\n",
              "      <td>hat</td>\n",
              "    </tr>\n",
              "    <tr>\n",
              "      <th>4</th>\n",
              "      <td>356</td>\n",
              "      <td>dress</td>\n",
              "    </tr>\n",
              "  </tbody>\n",
              "</table>\n",
              "</div>"
            ],
            "text/plain": [
              "   Count Extra                    Labels\n",
              "0         1474  top, t-shirt, sweatshirt\n",
              "1          701                    sleeve\n",
              "2          422                     pants\n",
              "3          420                       hat\n",
              "4          356                     dress"
            ]
          },
          "metadata": {
            "tags": []
          },
          "execution_count": 81
        }
      ]
    },
    {
      "cell_type": "code",
      "metadata": {
        "id": "xEb2XrT3oNwm",
        "colab_type": "code",
        "colab": {}
      },
      "source": [
        "error_analysis = missed_df.merge(correct_df, how = 'left', on='Labels').fillna(0)"
      ],
      "execution_count": 0,
      "outputs": []
    },
    {
      "cell_type": "code",
      "metadata": {
        "id": "H_J-NwLToQ3n",
        "colab_type": "code",
        "colab": {}
      },
      "source": [
        "error_analysis['missed %'] = (error_analysis['Count Missed']*100)/(error_analysis['Count Missed']+error_analysis['Count Correct'])\n",
        "error_analysis['total labels'] = (error_analysis['Count Missed']+error_analysis['Count Correct'])"
      ],
      "execution_count": 0,
      "outputs": []
    },
    {
      "cell_type": "code",
      "metadata": {
        "id": "aia2Uk6HoSSB",
        "colab_type": "code",
        "colab": {}
      },
      "source": [
        "error_analysis1 = error_analysis[error_analysis['total labels']>200].sort_values(by ='missed %')"
      ],
      "execution_count": 0,
      "outputs": []
    },
    {
      "cell_type": "code",
      "metadata": {
        "id": "y2AVk2_BQtAD",
        "colab_type": "code",
        "colab": {}
      },
      "source": [
        "error_analysis1.to_csv('ravi_error.csv')"
      ],
      "execution_count": 0,
      "outputs": []
    }
  ]
}